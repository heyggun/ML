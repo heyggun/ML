{
 "cells": [
  {
   "attachments": {
    "image.png": {
     "image/png": "[encoded data removed]"
    }
   },
   "cell_type": "markdown",
   "id": "f7e9ff8c",
   "metadata": {},
   "source": [
    "# 분류 모델의 분류 성능 평가\n",
    "\n",
    "- 분류문제는 회귀 분석과 달리 다양한 성능평가 기준이 필요함\n",
    "\n",
    "![image.png](attachment:image.png)"
   ]
  },
  {
   "cell_type": "code",
   "execution_count": 1,
   "id": "e879172e",
   "metadata": {},
   "outputs": [
    {
     "name": "stderr",
     "output_type": "stream",
     "text": [
      "C:\\Users\\PC\\anaconda3\\envs\\vmconda\\lib\\site-packages\\numpy\\_distributor_init.py:32: UserWarning: loaded more than 1 DLL from .libs:\n",
      "C:\\Users\\PC\\anaconda3\\envs\\vmconda\\lib\\site-packages\\numpy\\.libs\\libopenblas.TXA6YQSD3GCQQC22GEQ54J2UDCXDXHWN.gfortran-win_amd64.dll\n",
      "C:\\Users\\PC\\anaconda3\\envs\\vmconda\\lib\\site-packages\\numpy\\.libs\\libopenblas.WCDJNK7YVMPZQ2ME2ZZHJJRJ3JIKNDB7.gfortran-win_amd64.dll\n",
      "  stacklevel=1)\n"
     ]
    }
   ],
   "source": [
    "import pandas as pd\n",
    "import numpy as np\n",
    "import matplotlib.pyplot as plt"
   ]
  },
  {
   "cell_type": "code",
   "execution_count": 2,
   "id": "088d0686",
   "metadata": {},
   "outputs": [],
   "source": [
    "np.random.seed(2021)"
   ]
  },
  {
   "cell_type": "markdown",
   "id": "99a3ba11",
   "metadata": {},
   "source": [
    "### Breast Cancer 종양의 양성(benign)/음성(malignmant) 구분"
   ]
  },
  {
   "cell_type": "markdown",
   "id": "fe18ba39",
   "metadata": {},
   "source": [
    "### 1.1 Data Load"
   ]
  },
  {
   "cell_type": "code",
   "execution_count": 3,
   "id": "5e9bcf0b",
   "metadata": {},
   "outputs": [],
   "source": [
    "from sklearn.datasets import load_breast_cancer\n",
    "\n",
    "cancer = load_breast_cancer()"
   ]
  },
  {
   "cell_type": "code",
   "execution_count": 4,
   "id": "919a1083",
   "metadata": {},
   "outputs": [
    {
     "data": {
      "text/plain": [
       "['DESCR',\n",
       " 'data',\n",
       " 'feature_names',\n",
       " 'filename',\n",
       " 'frame',\n",
       " 'target',\n",
       " 'target_names']"
      ]
     },
     "execution_count": 4,
     "metadata": {},
     "output_type": "execute_result"
    }
   ],
   "source": [
    "dir(cancer)"
   ]
  },
  {
   "cell_type": "code",
   "execution_count": 5,
   "id": "9e6c01fc",
   "metadata": {},
   "outputs": [
    {
     "data": {
      "text/plain": [
       "array(['malignant', 'benign'], dtype='<U9')"
      ]
     },
     "execution_count": 5,
     "metadata": {},
     "output_type": "execute_result"
    }
   ],
   "source": [
    "cancer.target_names"
   ]
  },
  {
   "cell_type": "code",
   "execution_count": 6,
   "id": "98ff36ec",
   "metadata": {},
   "outputs": [
    {
     "data": {
      "text/plain": [
       "array(['mean radius', 'mean texture', 'mean perimeter', 'mean area',\n",
       "       'mean smoothness', 'mean compactness', 'mean concavity',\n",
       "       'mean concave points', 'mean symmetry', 'mean fractal dimension',\n",
       "       'radius error', 'texture error', 'perimeter error', 'area error',\n",
       "       'smoothness error', 'compactness error', 'concavity error',\n",
       "       'concave points error', 'symmetry error',\n",
       "       'fractal dimension error', 'worst radius', 'worst texture',\n",
       "       'worst perimeter', 'worst area', 'worst smoothness',\n",
       "       'worst compactness', 'worst concavity', 'worst concave points',\n",
       "       'worst symmetry', 'worst fractal dimension'], dtype='<U23')"
      ]
     },
     "execution_count": 6,
     "metadata": {},
     "output_type": "execute_result"
    }
   ],
   "source": [
    "cancer['feature_names']"
   ]
  },
  {
   "cell_type": "markdown",
   "id": "6ffdaf13",
   "metadata": {},
   "source": [
    "- radius : 반경\n",
    "- txture : 질감\n",
    "- perimeter : 둘레\n",
    "- area : 면적\n",
    "- smoothness : 매끄러움\n",
    "- compatchness :조그한 정도\n",
    "- concavity : 오목함\n",
    "- concave points: 오목함 점의 수\n",
    "- symmetry : 대칭\n",
    "- fractal dimension : 프렉탈 차원\n",
    "\n",
    "### 양성(0): malignant, 음성(1) : benign"
   ]
  },
  {
   "cell_type": "markdown",
   "id": "7f03051f",
   "metadata": {},
   "source": [
    "ddata = cancer["
   ]
  },
  {
   "cell_type": "code",
   "execution_count": 7,
   "id": "c1574e9d",
   "metadata": {},
   "outputs": [
    {
     "name": "stdout",
     "output_type": "stream",
     "text": [
      "[1.799e+01 1.038e+01 1.228e+02 1.001e+03 1.184e-01 2.776e-01 3.001e-01\n",
      " 1.471e-01 2.419e-01 7.871e-02 1.095e+00 9.053e-01 8.589e+00 1.534e+02\n",
      " 6.399e-03 4.904e-02 5.373e-02 1.587e-02 3.003e-02 6.193e-03 2.538e+01\n",
      " 1.733e+01 1.846e+02 2.019e+03 1.622e-01 6.656e-01 7.119e-01 2.654e-01\n",
      " 4.601e-01 1.189e-01] 0\n"
     ]
    }
   ],
   "source": [
    "data, target = cancer['data'], cancer['target']\n",
    "\n",
    "print(data[0], target[0])"
   ]
  },
  {
   "cell_type": "markdown",
   "id": "0ec2f117",
   "metadata": {},
   "source": [
    "### 1-2. Data EDA"
   ]
  },
  {
   "cell_type": "code",
   "execution_count": 8,
   "id": "aa22ed19",
   "metadata": {},
   "outputs": [
    {
     "data": {
      "text/html": [
       "<div>\n",
       "<style scoped>\n",
       "    .dataframe tbody tr th:only-of-type {\n",
       "        vertical-align: middle;\n",
       "    }\n",
       "\n",
       "    .dataframe tbody tr th {\n",
       "        vertical-align: top;\n",
       "    }\n",
       "\n",
       "    .dataframe thead th {\n",
       "        text-align: right;\n",
       "    }\n",
       "</style>\n",
       "<table border=\"1\" class=\"dataframe\">\n",
       "  <thead>\n",
       "    <tr style=\"text-align: right;\">\n",
       "      <th></th>\n",
       "      <th>mean radius</th>\n",
       "      <th>mean texture</th>\n",
       "      <th>mean perimeter</th>\n",
       "      <th>mean area</th>\n",
       "      <th>mean smoothness</th>\n",
       "      <th>mean compactness</th>\n",
       "      <th>mean concavity</th>\n",
       "      <th>mean concave points</th>\n",
       "      <th>mean symmetry</th>\n",
       "      <th>mean fractal dimension</th>\n",
       "      <th>...</th>\n",
       "      <th>worst radius</th>\n",
       "      <th>worst texture</th>\n",
       "      <th>worst perimeter</th>\n",
       "      <th>worst area</th>\n",
       "      <th>worst smoothness</th>\n",
       "      <th>worst compactness</th>\n",
       "      <th>worst concavity</th>\n",
       "      <th>worst concave points</th>\n",
       "      <th>worst symmetry</th>\n",
       "      <th>worst fractal dimension</th>\n",
       "    </tr>\n",
       "  </thead>\n",
       "  <tbody>\n",
       "    <tr>\n",
       "      <th>0</th>\n",
       "      <td>17.99</td>\n",
       "      <td>10.38</td>\n",
       "      <td>122.80</td>\n",
       "      <td>1001.0</td>\n",
       "      <td>0.11840</td>\n",
       "      <td>0.27760</td>\n",
       "      <td>0.30010</td>\n",
       "      <td>0.14710</td>\n",
       "      <td>0.2419</td>\n",
       "      <td>0.07871</td>\n",
       "      <td>...</td>\n",
       "      <td>25.380</td>\n",
       "      <td>17.33</td>\n",
       "      <td>184.60</td>\n",
       "      <td>2019.0</td>\n",
       "      <td>0.16220</td>\n",
       "      <td>0.66560</td>\n",
       "      <td>0.7119</td>\n",
       "      <td>0.2654</td>\n",
       "      <td>0.4601</td>\n",
       "      <td>0.11890</td>\n",
       "    </tr>\n",
       "    <tr>\n",
       "      <th>1</th>\n",
       "      <td>20.57</td>\n",
       "      <td>17.77</td>\n",
       "      <td>132.90</td>\n",
       "      <td>1326.0</td>\n",
       "      <td>0.08474</td>\n",
       "      <td>0.07864</td>\n",
       "      <td>0.08690</td>\n",
       "      <td>0.07017</td>\n",
       "      <td>0.1812</td>\n",
       "      <td>0.05667</td>\n",
       "      <td>...</td>\n",
       "      <td>24.990</td>\n",
       "      <td>23.41</td>\n",
       "      <td>158.80</td>\n",
       "      <td>1956.0</td>\n",
       "      <td>0.12380</td>\n",
       "      <td>0.18660</td>\n",
       "      <td>0.2416</td>\n",
       "      <td>0.1860</td>\n",
       "      <td>0.2750</td>\n",
       "      <td>0.08902</td>\n",
       "    </tr>\n",
       "    <tr>\n",
       "      <th>2</th>\n",
       "      <td>19.69</td>\n",
       "      <td>21.25</td>\n",
       "      <td>130.00</td>\n",
       "      <td>1203.0</td>\n",
       "      <td>0.10960</td>\n",
       "      <td>0.15990</td>\n",
       "      <td>0.19740</td>\n",
       "      <td>0.12790</td>\n",
       "      <td>0.2069</td>\n",
       "      <td>0.05999</td>\n",
       "      <td>...</td>\n",
       "      <td>23.570</td>\n",
       "      <td>25.53</td>\n",
       "      <td>152.50</td>\n",
       "      <td>1709.0</td>\n",
       "      <td>0.14440</td>\n",
       "      <td>0.42450</td>\n",
       "      <td>0.4504</td>\n",
       "      <td>0.2430</td>\n",
       "      <td>0.3613</td>\n",
       "      <td>0.08758</td>\n",
       "    </tr>\n",
       "    <tr>\n",
       "      <th>3</th>\n",
       "      <td>11.42</td>\n",
       "      <td>20.38</td>\n",
       "      <td>77.58</td>\n",
       "      <td>386.1</td>\n",
       "      <td>0.14250</td>\n",
       "      <td>0.28390</td>\n",
       "      <td>0.24140</td>\n",
       "      <td>0.10520</td>\n",
       "      <td>0.2597</td>\n",
       "      <td>0.09744</td>\n",
       "      <td>...</td>\n",
       "      <td>14.910</td>\n",
       "      <td>26.50</td>\n",
       "      <td>98.87</td>\n",
       "      <td>567.7</td>\n",
       "      <td>0.20980</td>\n",
       "      <td>0.86630</td>\n",
       "      <td>0.6869</td>\n",
       "      <td>0.2575</td>\n",
       "      <td>0.6638</td>\n",
       "      <td>0.17300</td>\n",
       "    </tr>\n",
       "    <tr>\n",
       "      <th>4</th>\n",
       "      <td>20.29</td>\n",
       "      <td>14.34</td>\n",
       "      <td>135.10</td>\n",
       "      <td>1297.0</td>\n",
       "      <td>0.10030</td>\n",
       "      <td>0.13280</td>\n",
       "      <td>0.19800</td>\n",
       "      <td>0.10430</td>\n",
       "      <td>0.1809</td>\n",
       "      <td>0.05883</td>\n",
       "      <td>...</td>\n",
       "      <td>22.540</td>\n",
       "      <td>16.67</td>\n",
       "      <td>152.20</td>\n",
       "      <td>1575.0</td>\n",
       "      <td>0.13740</td>\n",
       "      <td>0.20500</td>\n",
       "      <td>0.4000</td>\n",
       "      <td>0.1625</td>\n",
       "      <td>0.2364</td>\n",
       "      <td>0.07678</td>\n",
       "    </tr>\n",
       "    <tr>\n",
       "      <th>...</th>\n",
       "      <td>...</td>\n",
       "      <td>...</td>\n",
       "      <td>...</td>\n",
       "      <td>...</td>\n",
       "      <td>...</td>\n",
       "      <td>...</td>\n",
       "      <td>...</td>\n",
       "      <td>...</td>\n",
       "      <td>...</td>\n",
       "      <td>...</td>\n",
       "      <td>...</td>\n",
       "      <td>...</td>\n",
       "      <td>...</td>\n",
       "      <td>...</td>\n",
       "      <td>...</td>\n",
       "      <td>...</td>\n",
       "      <td>...</td>\n",
       "      <td>...</td>\n",
       "      <td>...</td>\n",
       "      <td>...</td>\n",
       "      <td>...</td>\n",
       "    </tr>\n",
       "    <tr>\n",
       "      <th>564</th>\n",
       "      <td>21.56</td>\n",
       "      <td>22.39</td>\n",
       "      <td>142.00</td>\n",
       "      <td>1479.0</td>\n",
       "      <td>0.11100</td>\n",
       "      <td>0.11590</td>\n",
       "      <td>0.24390</td>\n",
       "      <td>0.13890</td>\n",
       "      <td>0.1726</td>\n",
       "      <td>0.05623</td>\n",
       "      <td>...</td>\n",
       "      <td>25.450</td>\n",
       "      <td>26.40</td>\n",
       "      <td>166.10</td>\n",
       "      <td>2027.0</td>\n",
       "      <td>0.14100</td>\n",
       "      <td>0.21130</td>\n",
       "      <td>0.4107</td>\n",
       "      <td>0.2216</td>\n",
       "      <td>0.2060</td>\n",
       "      <td>0.07115</td>\n",
       "    </tr>\n",
       "    <tr>\n",
       "      <th>565</th>\n",
       "      <td>20.13</td>\n",
       "      <td>28.25</td>\n",
       "      <td>131.20</td>\n",
       "      <td>1261.0</td>\n",
       "      <td>0.09780</td>\n",
       "      <td>0.10340</td>\n",
       "      <td>0.14400</td>\n",
       "      <td>0.09791</td>\n",
       "      <td>0.1752</td>\n",
       "      <td>0.05533</td>\n",
       "      <td>...</td>\n",
       "      <td>23.690</td>\n",
       "      <td>38.25</td>\n",
       "      <td>155.00</td>\n",
       "      <td>1731.0</td>\n",
       "      <td>0.11660</td>\n",
       "      <td>0.19220</td>\n",
       "      <td>0.3215</td>\n",
       "      <td>0.1628</td>\n",
       "      <td>0.2572</td>\n",
       "      <td>0.06637</td>\n",
       "    </tr>\n",
       "    <tr>\n",
       "      <th>566</th>\n",
       "      <td>16.60</td>\n",
       "      <td>28.08</td>\n",
       "      <td>108.30</td>\n",
       "      <td>858.1</td>\n",
       "      <td>0.08455</td>\n",
       "      <td>0.10230</td>\n",
       "      <td>0.09251</td>\n",
       "      <td>0.05302</td>\n",
       "      <td>0.1590</td>\n",
       "      <td>0.05648</td>\n",
       "      <td>...</td>\n",
       "      <td>18.980</td>\n",
       "      <td>34.12</td>\n",
       "      <td>126.70</td>\n",
       "      <td>1124.0</td>\n",
       "      <td>0.11390</td>\n",
       "      <td>0.30940</td>\n",
       "      <td>0.3403</td>\n",
       "      <td>0.1418</td>\n",
       "      <td>0.2218</td>\n",
       "      <td>0.07820</td>\n",
       "    </tr>\n",
       "    <tr>\n",
       "      <th>567</th>\n",
       "      <td>20.60</td>\n",
       "      <td>29.33</td>\n",
       "      <td>140.10</td>\n",
       "      <td>1265.0</td>\n",
       "      <td>0.11780</td>\n",
       "      <td>0.27700</td>\n",
       "      <td>0.35140</td>\n",
       "      <td>0.15200</td>\n",
       "      <td>0.2397</td>\n",
       "      <td>0.07016</td>\n",
       "      <td>...</td>\n",
       "      <td>25.740</td>\n",
       "      <td>39.42</td>\n",
       "      <td>184.60</td>\n",
       "      <td>1821.0</td>\n",
       "      <td>0.16500</td>\n",
       "      <td>0.86810</td>\n",
       "      <td>0.9387</td>\n",
       "      <td>0.2650</td>\n",
       "      <td>0.4087</td>\n",
       "      <td>0.12400</td>\n",
       "    </tr>\n",
       "    <tr>\n",
       "      <th>568</th>\n",
       "      <td>7.76</td>\n",
       "      <td>24.54</td>\n",
       "      <td>47.92</td>\n",
       "      <td>181.0</td>\n",
       "      <td>0.05263</td>\n",
       "      <td>0.04362</td>\n",
       "      <td>0.00000</td>\n",
       "      <td>0.00000</td>\n",
       "      <td>0.1587</td>\n",
       "      <td>0.05884</td>\n",
       "      <td>...</td>\n",
       "      <td>9.456</td>\n",
       "      <td>30.37</td>\n",
       "      <td>59.16</td>\n",
       "      <td>268.6</td>\n",
       "      <td>0.08996</td>\n",
       "      <td>0.06444</td>\n",
       "      <td>0.0000</td>\n",
       "      <td>0.0000</td>\n",
       "      <td>0.2871</td>\n",
       "      <td>0.07039</td>\n",
       "    </tr>\n",
       "  </tbody>\n",
       "</table>\n",
       "<p>569 rows × 30 columns</p>\n",
       "</div>"
      ],
      "text/plain": [
       "     mean radius  mean texture  mean perimeter  mean area  mean smoothness  \\\n",
       "0          17.99         10.38          122.80     1001.0          0.11840   \n",
       "1          20.57         17.77          132.90     1326.0          0.08474   \n",
       "2          19.69         21.25          130.00     1203.0          0.10960   \n",
       "3          11.42         20.38           77.58      386.1          0.14250   \n",
       "4          20.29         14.34          135.10     1297.0          0.10030   \n",
       "..           ...           ...             ...        ...              ...   \n",
       "564        21.56         22.39          142.00     1479.0          0.11100   \n",
       "565        20.13         28.25          131.20     1261.0          0.09780   \n",
       "566        16.60         28.08          108.30      858.1          0.08455   \n",
       "567        20.60         29.33          140.10     1265.0          0.11780   \n",
       "568         7.76         24.54           47.92      181.0          0.05263   \n",
       "\n",
       "     mean compactness  mean concavity  mean concave points  mean symmetry  \\\n",
       "0             0.27760         0.30010              0.14710         0.2419   \n",
       "1             0.07864         0.08690              0.07017         0.1812   \n",
       "2             0.15990         0.19740              0.12790         0.2069   \n",
       "3             0.28390         0.24140              0.10520         0.2597   \n",
       "4             0.13280         0.19800              0.10430         0.1809   \n",
       "..                ...             ...                  ...            ...   \n",
       "564           0.11590         0.24390              0.13890         0.1726   \n",
       "565           0.10340         0.14400              0.09791         0.1752   \n",
       "566           0.10230         0.09251              0.05302         0.1590   \n",
       "567           0.27700         0.35140              0.15200         0.2397   \n",
       "568           0.04362         0.00000              0.00000         0.1587   \n",
       "\n",
       "     mean fractal dimension  ...  worst radius  worst texture  \\\n",
       "0                   0.07871  ...        25.380          17.33   \n",
       "1                   0.05667  ...        24.990          23.41   \n",
       "2                   0.05999  ...        23.570          25.53   \n",
       "3                   0.09744  ...        14.910          26.50   \n",
       "4                   0.05883  ...        22.540          16.67   \n",
       "..                      ...  ...           ...            ...   \n",
       "564                 0.05623  ...        25.450          26.40   \n",
       "565                 0.05533  ...        23.690          38.25   \n",
       "566                 0.05648  ...        18.980          34.12   \n",
       "567                 0.07016  ...        25.740          39.42   \n",
       "568                 0.05884  ...         9.456          30.37   \n",
       "\n",
       "     worst perimeter  worst area  worst smoothness  worst compactness  \\\n",
       "0             184.60      2019.0           0.16220            0.66560   \n",
       "1             158.80      1956.0           0.12380            0.18660   \n",
       "2             152.50      1709.0           0.14440            0.42450   \n",
       "3              98.87       567.7           0.20980            0.86630   \n",
       "4             152.20      1575.0           0.13740            0.20500   \n",
       "..               ...         ...               ...                ...   \n",
       "564           166.10      2027.0           0.14100            0.21130   \n",
       "565           155.00      1731.0           0.11660            0.19220   \n",
       "566           126.70      1124.0           0.11390            0.30940   \n",
       "567           184.60      1821.0           0.16500            0.86810   \n",
       "568            59.16       268.6           0.08996            0.06444   \n",
       "\n",
       "     worst concavity  worst concave points  worst symmetry  \\\n",
       "0             0.7119                0.2654          0.4601   \n",
       "1             0.2416                0.1860          0.2750   \n",
       "2             0.4504                0.2430          0.3613   \n",
       "3             0.6869                0.2575          0.6638   \n",
       "4             0.4000                0.1625          0.2364   \n",
       "..               ...                   ...             ...   \n",
       "564           0.4107                0.2216          0.2060   \n",
       "565           0.3215                0.1628          0.2572   \n",
       "566           0.3403                0.1418          0.2218   \n",
       "567           0.9387                0.2650          0.4087   \n",
       "568           0.0000                0.0000          0.2871   \n",
       "\n",
       "     worst fractal dimension  \n",
       "0                    0.11890  \n",
       "1                    0.08902  \n",
       "2                    0.08758  \n",
       "3                    0.17300  \n",
       "4                    0.07678  \n",
       "..                       ...  \n",
       "564                  0.07115  \n",
       "565                  0.06637  \n",
       "566                  0.07820  \n",
       "567                  0.12400  \n",
       "568                  0.07039  \n",
       "\n",
       "[569 rows x 30 columns]"
      ]
     },
     "execution_count": 8,
     "metadata": {},
     "output_type": "execute_result"
    }
   ],
   "source": [
    "df = pd.DataFrame(cancer.data, columns=cancer.feature_names)\n",
    "df"
   ]
  },
  {
   "cell_type": "code",
   "execution_count": 9,
   "id": "99f662c2",
   "metadata": {},
   "outputs": [
    {
     "data": {
      "text/html": [
       "<div>\n",
       "<style scoped>\n",
       "    .dataframe tbody tr th:only-of-type {\n",
       "        vertical-align: middle;\n",
       "    }\n",
       "\n",
       "    .dataframe tbody tr th {\n",
       "        vertical-align: top;\n",
       "    }\n",
       "\n",
       "    .dataframe thead th {\n",
       "        text-align: right;\n",
       "    }\n",
       "</style>\n",
       "<table border=\"1\" class=\"dataframe\">\n",
       "  <thead>\n",
       "    <tr style=\"text-align: right;\">\n",
       "      <th></th>\n",
       "      <th>mean radius</th>\n",
       "      <th>mean texture</th>\n",
       "      <th>mean perimeter</th>\n",
       "      <th>mean area</th>\n",
       "      <th>mean smoothness</th>\n",
       "      <th>mean compactness</th>\n",
       "      <th>mean concavity</th>\n",
       "      <th>mean concave points</th>\n",
       "      <th>mean symmetry</th>\n",
       "      <th>mean fractal dimension</th>\n",
       "      <th>...</th>\n",
       "      <th>worst radius</th>\n",
       "      <th>worst texture</th>\n",
       "      <th>worst perimeter</th>\n",
       "      <th>worst area</th>\n",
       "      <th>worst smoothness</th>\n",
       "      <th>worst compactness</th>\n",
       "      <th>worst concavity</th>\n",
       "      <th>worst concave points</th>\n",
       "      <th>worst symmetry</th>\n",
       "      <th>worst fractal dimension</th>\n",
       "    </tr>\n",
       "  </thead>\n",
       "  <tbody>\n",
       "    <tr>\n",
       "      <th>count</th>\n",
       "      <td>569.000000</td>\n",
       "      <td>569.000000</td>\n",
       "      <td>569.000000</td>\n",
       "      <td>569.000000</td>\n",
       "      <td>569.000000</td>\n",
       "      <td>569.000000</td>\n",
       "      <td>569.000000</td>\n",
       "      <td>569.000000</td>\n",
       "      <td>569.000000</td>\n",
       "      <td>569.000000</td>\n",
       "      <td>...</td>\n",
       "      <td>569.000000</td>\n",
       "      <td>569.000000</td>\n",
       "      <td>569.000000</td>\n",
       "      <td>569.000000</td>\n",
       "      <td>569.000000</td>\n",
       "      <td>569.000000</td>\n",
       "      <td>569.000000</td>\n",
       "      <td>569.000000</td>\n",
       "      <td>569.000000</td>\n",
       "      <td>569.000000</td>\n",
       "    </tr>\n",
       "    <tr>\n",
       "      <th>mean</th>\n",
       "      <td>14.127292</td>\n",
       "      <td>19.289649</td>\n",
       "      <td>91.969033</td>\n",
       "      <td>654.889104</td>\n",
       "      <td>0.096360</td>\n",
       "      <td>0.104341</td>\n",
       "      <td>0.088799</td>\n",
       "      <td>0.048919</td>\n",
       "      <td>0.181162</td>\n",
       "      <td>0.062798</td>\n",
       "      <td>...</td>\n",
       "      <td>16.269190</td>\n",
       "      <td>25.677223</td>\n",
       "      <td>107.261213</td>\n",
       "      <td>880.583128</td>\n",
       "      <td>0.132369</td>\n",
       "      <td>0.254265</td>\n",
       "      <td>0.272188</td>\n",
       "      <td>0.114606</td>\n",
       "      <td>0.290076</td>\n",
       "      <td>0.083946</td>\n",
       "    </tr>\n",
       "    <tr>\n",
       "      <th>std</th>\n",
       "      <td>3.524049</td>\n",
       "      <td>4.301036</td>\n",
       "      <td>24.298981</td>\n",
       "      <td>351.914129</td>\n",
       "      <td>0.014064</td>\n",
       "      <td>0.052813</td>\n",
       "      <td>0.079720</td>\n",
       "      <td>0.038803</td>\n",
       "      <td>0.027414</td>\n",
       "      <td>0.007060</td>\n",
       "      <td>...</td>\n",
       "      <td>4.833242</td>\n",
       "      <td>6.146258</td>\n",
       "      <td>33.602542</td>\n",
       "      <td>569.356993</td>\n",
       "      <td>0.022832</td>\n",
       "      <td>0.157336</td>\n",
       "      <td>0.208624</td>\n",
       "      <td>0.065732</td>\n",
       "      <td>0.061867</td>\n",
       "      <td>0.018061</td>\n",
       "    </tr>\n",
       "    <tr>\n",
       "      <th>min</th>\n",
       "      <td>6.981000</td>\n",
       "      <td>9.710000</td>\n",
       "      <td>43.790000</td>\n",
       "      <td>143.500000</td>\n",
       "      <td>0.052630</td>\n",
       "      <td>0.019380</td>\n",
       "      <td>0.000000</td>\n",
       "      <td>0.000000</td>\n",
       "      <td>0.106000</td>\n",
       "      <td>0.049960</td>\n",
       "      <td>...</td>\n",
       "      <td>7.930000</td>\n",
       "      <td>12.020000</td>\n",
       "      <td>50.410000</td>\n",
       "      <td>185.200000</td>\n",
       "      <td>0.071170</td>\n",
       "      <td>0.027290</td>\n",
       "      <td>0.000000</td>\n",
       "      <td>0.000000</td>\n",
       "      <td>0.156500</td>\n",
       "      <td>0.055040</td>\n",
       "    </tr>\n",
       "    <tr>\n",
       "      <th>25%</th>\n",
       "      <td>11.700000</td>\n",
       "      <td>16.170000</td>\n",
       "      <td>75.170000</td>\n",
       "      <td>420.300000</td>\n",
       "      <td>0.086370</td>\n",
       "      <td>0.064920</td>\n",
       "      <td>0.029560</td>\n",
       "      <td>0.020310</td>\n",
       "      <td>0.161900</td>\n",
       "      <td>0.057700</td>\n",
       "      <td>...</td>\n",
       "      <td>13.010000</td>\n",
       "      <td>21.080000</td>\n",
       "      <td>84.110000</td>\n",
       "      <td>515.300000</td>\n",
       "      <td>0.116600</td>\n",
       "      <td>0.147200</td>\n",
       "      <td>0.114500</td>\n",
       "      <td>0.064930</td>\n",
       "      <td>0.250400</td>\n",
       "      <td>0.071460</td>\n",
       "    </tr>\n",
       "    <tr>\n",
       "      <th>50%</th>\n",
       "      <td>13.370000</td>\n",
       "      <td>18.840000</td>\n",
       "      <td>86.240000</td>\n",
       "      <td>551.100000</td>\n",
       "      <td>0.095870</td>\n",
       "      <td>0.092630</td>\n",
       "      <td>0.061540</td>\n",
       "      <td>0.033500</td>\n",
       "      <td>0.179200</td>\n",
       "      <td>0.061540</td>\n",
       "      <td>...</td>\n",
       "      <td>14.970000</td>\n",
       "      <td>25.410000</td>\n",
       "      <td>97.660000</td>\n",
       "      <td>686.500000</td>\n",
       "      <td>0.131300</td>\n",
       "      <td>0.211900</td>\n",
       "      <td>0.226700</td>\n",
       "      <td>0.099930</td>\n",
       "      <td>0.282200</td>\n",
       "      <td>0.080040</td>\n",
       "    </tr>\n",
       "    <tr>\n",
       "      <th>75%</th>\n",
       "      <td>15.780000</td>\n",
       "      <td>21.800000</td>\n",
       "      <td>104.100000</td>\n",
       "      <td>782.700000</td>\n",
       "      <td>0.105300</td>\n",
       "      <td>0.130400</td>\n",
       "      <td>0.130700</td>\n",
       "      <td>0.074000</td>\n",
       "      <td>0.195700</td>\n",
       "      <td>0.066120</td>\n",
       "      <td>...</td>\n",
       "      <td>18.790000</td>\n",
       "      <td>29.720000</td>\n",
       "      <td>125.400000</td>\n",
       "      <td>1084.000000</td>\n",
       "      <td>0.146000</td>\n",
       "      <td>0.339100</td>\n",
       "      <td>0.382900</td>\n",
       "      <td>0.161400</td>\n",
       "      <td>0.317900</td>\n",
       "      <td>0.092080</td>\n",
       "    </tr>\n",
       "    <tr>\n",
       "      <th>max</th>\n",
       "      <td>28.110000</td>\n",
       "      <td>39.280000</td>\n",
       "      <td>188.500000</td>\n",
       "      <td>2501.000000</td>\n",
       "      <td>0.163400</td>\n",
       "      <td>0.345400</td>\n",
       "      <td>0.426800</td>\n",
       "      <td>0.201200</td>\n",
       "      <td>0.304000</td>\n",
       "      <td>0.097440</td>\n",
       "      <td>...</td>\n",
       "      <td>36.040000</td>\n",
       "      <td>49.540000</td>\n",
       "      <td>251.200000</td>\n",
       "      <td>4254.000000</td>\n",
       "      <td>0.222600</td>\n",
       "      <td>1.058000</td>\n",
       "      <td>1.252000</td>\n",
       "      <td>0.291000</td>\n",
       "      <td>0.663800</td>\n",
       "      <td>0.207500</td>\n",
       "    </tr>\n",
       "  </tbody>\n",
       "</table>\n",
       "<p>8 rows × 30 columns</p>\n",
       "</div>"
      ],
      "text/plain": [
       "       mean radius  mean texture  mean perimeter    mean area  \\\n",
       "count   569.000000    569.000000      569.000000   569.000000   \n",
       "mean     14.127292     19.289649       91.969033   654.889104   \n",
       "std       3.524049      4.301036       24.298981   351.914129   \n",
       "min       6.981000      9.710000       43.790000   143.500000   \n",
       "25%      11.700000     16.170000       75.170000   420.300000   \n",
       "50%      13.370000     18.840000       86.240000   551.100000   \n",
       "75%      15.780000     21.800000      104.100000   782.700000   \n",
       "max      28.110000     39.280000      188.500000  2501.000000   \n",
       "\n",
       "       mean smoothness  mean compactness  mean concavity  mean concave points  \\\n",
       "count       569.000000        569.000000      569.000000           569.000000   \n",
       "mean          0.096360          0.104341        0.088799             0.048919   \n",
       "std           0.014064          0.052813        0.079720             0.038803   \n",
       "min           0.052630          0.019380        0.000000             0.000000   \n",
       "25%           0.086370          0.064920        0.029560             0.020310   \n",
       "50%           0.095870          0.092630        0.061540             0.033500   \n",
       "75%           0.105300          0.130400        0.130700             0.074000   \n",
       "max           0.163400          0.345400        0.426800             0.201200   \n",
       "\n",
       "       mean symmetry  mean fractal dimension  ...  worst radius  \\\n",
       "count     569.000000              569.000000  ...    569.000000   \n",
       "mean        0.181162                0.062798  ...     16.269190   \n",
       "std         0.027414                0.007060  ...      4.833242   \n",
       "min         0.106000                0.049960  ...      7.930000   \n",
       "25%         0.161900                0.057700  ...     13.010000   \n",
       "50%         0.179200                0.061540  ...     14.970000   \n",
       "75%         0.195700                0.066120  ...     18.790000   \n",
       "max         0.304000                0.097440  ...     36.040000   \n",
       "\n",
       "       worst texture  worst perimeter   worst area  worst smoothness  \\\n",
       "count     569.000000       569.000000   569.000000        569.000000   \n",
       "mean       25.677223       107.261213   880.583128          0.132369   \n",
       "std         6.146258        33.602542   569.356993          0.022832   \n",
       "min        12.020000        50.410000   185.200000          0.071170   \n",
       "25%        21.080000        84.110000   515.300000          0.116600   \n",
       "50%        25.410000        97.660000   686.500000          0.131300   \n",
       "75%        29.720000       125.400000  1084.000000          0.146000   \n",
       "max        49.540000       251.200000  4254.000000          0.222600   \n",
       "\n",
       "       worst compactness  worst concavity  worst concave points  \\\n",
       "count         569.000000       569.000000            569.000000   \n",
       "mean            0.254265         0.272188              0.114606   \n",
       "std             0.157336         0.208624              0.065732   \n",
       "min             0.027290         0.000000              0.000000   \n",
       "25%             0.147200         0.114500              0.064930   \n",
       "50%             0.211900         0.226700              0.099930   \n",
       "75%             0.339100         0.382900              0.161400   \n",
       "max             1.058000         1.252000              0.291000   \n",
       "\n",
       "       worst symmetry  worst fractal dimension  \n",
       "count      569.000000               569.000000  \n",
       "mean         0.290076                 0.083946  \n",
       "std          0.061867                 0.018061  \n",
       "min          0.156500                 0.055040  \n",
       "25%          0.250400                 0.071460  \n",
       "50%          0.282200                 0.080040  \n",
       "75%          0.317900                 0.092080  \n",
       "max          0.663800                 0.207500  \n",
       "\n",
       "[8 rows x 30 columns]"
      ]
     },
     "execution_count": 9,
     "metadata": {},
     "output_type": "execute_result"
    }
   ],
   "source": [
    "df.describe()"
   ]
  },
  {
   "cell_type": "code",
   "execution_count": 10,
   "id": "f3affda8",
   "metadata": {},
   "outputs": [
    {
     "data": {
      "text/plain": [
       "(569, 30)"
      ]
     },
     "execution_count": 10,
     "metadata": {},
     "output_type": "execute_result"
    }
   ],
   "source": [
    "df.shape"
   ]
  },
  {
   "cell_type": "code",
   "execution_count": 11,
   "id": "bef61918",
   "metadata": {},
   "outputs": [
    {
     "data": {
      "text/plain": [
       "1    357\n",
       "0    212\n",
       "dtype: int64"
      ]
     },
     "execution_count": 11,
     "metadata": {},
     "output_type": "execute_result"
    }
   ],
   "source": [
    "# 양성과 음성의 비율\n",
    "\n",
    "pd.Series(target).value_counts()"
   ]
  },
  {
   "cell_type": "code",
   "execution_count": 12,
   "id": "b0096a5c",
   "metadata": {},
   "outputs": [
    {
     "data": {
      "text/plain": [
       "(array([212.,   0.,   0.,   0.,   0.,   0.,   0.,   0.,   0., 357.]),\n",
       " array([0. , 0.1, 0.2, 0.3, 0.4, 0.5, 0.6, 0.7, 0.8, 0.9, 1. ]),\n",
       " <BarContainer object of 10 artists>)"
      ]
     },
     "execution_count": 12,
     "metadata": {},
     "output_type": "execute_result"
    },
    {
     "data": {
      "image/png": "[encoded data removed]",
      "text/plain": [
       "<Figure size 432x288 with 1 Axes>"
      ]
     },
     "metadata": {
      "needs_background": "light"
     },
     "output_type": "display_data"
    }
   ],
   "source": [
    "plt.hist(target)"
   ]
  },
  {
   "cell_type": "code",
   "execution_count": 13,
   "id": "5a011b35",
   "metadata": {},
   "outputs": [
    {
     "data": {
      "text/plain": [
       "Text(0, 0.5, 'target')"
      ]
     },
     "execution_count": 13,
     "metadata": {},
     "output_type": "execute_result"
    },
    {
     "data": {
      "image/png": "[encoded data removed]",
      "text/plain": [
       "<Figure size 432x288 with 1 Axes>"
      ]
     },
     "metadata": {
      "needs_background": "light"
     },
     "output_type": "display_data"
    }
   ],
   "source": [
    "# mean radius와 target(정답) 간의 상관관계 plot 그려보기\n",
    "\n",
    "plt.scatter(x=data[:,0], y=target)\n",
    "plt.xlabel('mean radius')\n",
    "plt.ylabel('target')"
   ]
  },
  {
   "cell_type": "markdown",
   "id": "feacdc87",
   "metadata": {},
   "source": [
    "-> mean radius가 클 경우 음성"
   ]
  },
  {
   "cell_type": "markdown",
   "id": "4359ecce",
   "metadata": {},
   "source": [
    "### 1-3. Data Split"
   ]
  },
  {
   "cell_type": "code",
   "execution_count": 14,
   "id": "0c9b708c",
   "metadata": {},
   "outputs": [],
   "source": [
    "from sklearn.model_selection import train_test_split\n",
    "\n",
    "train_data, test_data, train_target, test_target = train_test_split(data, target, train_size=0.7, random_state=2021)\n"
   ]
  },
  {
   "cell_type": "code",
   "execution_count": 15,
   "id": "e6768e8a",
   "metadata": {},
   "outputs": [
    {
     "name": "stdout",
     "output_type": "stream",
     "text": [
      "(398, 30) (171, 30)\n"
     ]
    }
   ],
   "source": [
    "print(train_data.shape, test_data.shape)"
   ]
  },
  {
   "cell_type": "markdown",
   "id": "b602a60b",
   "metadata": {},
   "source": [
    "### 2. Logistic Regression 전에 Linear Regression 적용해보기"
   ]
  },
  {
   "cell_type": "code",
   "execution_count": 16,
   "id": "10a99311",
   "metadata": {},
   "outputs": [],
   "source": [
    "from sklearn.linear_model import LinearRegression\n",
    "\n",
    "linear_regressor = LinearRegression()"
   ]
  },
  {
   "cell_type": "code",
   "execution_count": 17,
   "id": "f2fd5902",
   "metadata": {},
   "outputs": [
    {
     "data": {
      "text/plain": [
       "LinearRegression()"
      ]
     },
     "execution_count": 17,
     "metadata": {},
     "output_type": "execute_result"
    }
   ],
   "source": [
    "#학습\n",
    "\n",
    "linear_regressor.fit(train_data, train_target)"
   ]
  },
  {
   "cell_type": "code",
   "execution_count": 18,
   "id": "6e59e85c",
   "metadata": {},
   "outputs": [],
   "source": [
    "# 예측\n",
    "\n",
    "train_pred = linear_regressor.predict(train_data)\n",
    "test_pred = linear_regressor.predict(test_data)"
   ]
  },
  {
   "cell_type": "code",
   "execution_count": 19,
   "id": "e4202744",
   "metadata": {},
   "outputs": [
    {
     "data": {
      "text/plain": [
       "array([ 0.65079698, -0.33739828,  0.76995559,  1.07473181,  0.98981797,\n",
       "       -0.14066351,  0.91330917,  0.56950769,  1.12592692,  1.08459606])"
      ]
     },
     "execution_count": 19,
     "metadata": {},
     "output_type": "execute_result"
    }
   ],
   "source": [
    "train_pred[:10]"
   ]
  },
  {
   "cell_type": "markdown",
   "id": "5e5bc37a",
   "metadata": {},
   "source": [
    "-> 예측 결과는 0~1 사이를 벗어난 예측값들이 보임"
   ]
  },
  {
   "cell_type": "markdown",
   "id": "89ba85a3",
   "metadata": {},
   "source": [
    "### 2-1. 시각화\n",
    "\n",
    "- mean_radius의 값의 변화에 따른 예측 결과 시각화"
   ]
  },
  {
   "cell_type": "code",
   "execution_count": 20,
   "id": "d9dfec5f",
   "metadata": {},
   "outputs": [
    {
     "data": {
      "image/png": "[encoded data removed]",
      "text/plain": [
       "<Figure size 720x360 with 2 Axes>"
      ]
     },
     "metadata": {
      "needs_background": "light"
     },
     "output_type": "display_data"
    }
   ],
   "source": [
    "fig, axes = plt.subplots(nrows=1, ncols=2, figsize=(10,5))\n",
    "\n",
    "preds = [('Train', train_data, train_pred), ('Test', test_data, test_pred)]\n",
    "\n",
    "for idx, (name, d, pred) in enumerate(preds):\n",
    "    ax= axes[idx]\n",
    "    ax.scatter(x=d[:,0], y=pred)\n",
    "    ax.axhline(0, color='red', linestyle='--')\n",
    "    ax.axhline(1, color='red', linestyle='--')\n",
    "    ax.set_xlabel('mean_radius')\n",
    "    ax.set_ylabel('predict')\n",
    "    ax.set_title(f\"{name} Data\")"
   ]
  },
  {
   "cell_type": "code",
   "execution_count": null,
   "id": "a352a234",
   "metadata": {},
   "outputs": [],
   "source": []
  },
  {
   "cell_type": "markdown",
   "id": "c6767e17",
   "metadata": {},
   "source": [
    "### 2-2. 평가하기\n",
    "\n",
    "- Linear Regression의 성능을 측정하기 위해, 우선 예측값을 0과 1로 변환시켜주어야 함\n",
    "- Youden's Index 이용하여 Best Threshold를 찾은 후 0과 1로 변화시킨 후 정확도를 봄"
   ]
  },
  {
   "cell_type": "code",
   "execution_count": 21,
   "id": "9128e8b8",
   "metadata": {},
   "outputs": [],
   "source": [
    "from sklearn.metrics import auc, roc_curve"
   ]
  },
  {
   "cell_type": "code",
   "execution_count": 22,
   "id": "444489cd",
   "metadata": {},
   "outputs": [],
   "source": [
    "fpr, tpr, threshold = roc_curve(train_target, train_pred)\n",
    "auroc = auc(fpr, tpr)"
   ]
  },
  {
   "cell_type": "code",
   "execution_count": 23,
   "id": "fff9caf9",
   "metadata": {},
   "outputs": [
    {
     "data": {
      "text/plain": [
       "array([0.        , 0.        , 0.        , 0.00675676, 0.00675676,\n",
       "       0.01351351, 0.01351351, 0.02027027, 0.02027027, 0.02702703,\n",
       "       0.02702703, 0.05405405, 0.05405405, 0.10810811, 0.10810811,\n",
       "       1.        ])"
      ]
     },
     "execution_count": 23,
     "metadata": {},
     "output_type": "execute_result"
    }
   ],
   "source": [
    "fpr"
   ]
  },
  {
   "cell_type": "code",
   "execution_count": 24,
   "id": "2bacd620",
   "metadata": {},
   "outputs": [
    {
     "data": {
      "text/plain": [
       "array([0.   , 0.004, 0.86 , 0.86 , 0.928, 0.928, 0.98 , 0.98 , 0.988,\n",
       "       0.988, 0.992, 0.992, 0.996, 0.996, 1.   , 1.   ])"
      ]
     },
     "execution_count": 24,
     "metadata": {},
     "output_type": "execute_result"
    }
   ],
   "source": [
    "tpr"
   ]
  },
  {
   "cell_type": "code",
   "execution_count": 25,
   "id": "baeb5b0f",
   "metadata": {},
   "outputs": [
    {
     "data": {
      "text/plain": [
       "array([ 2.3431729 ,  1.3431729 ,  0.74268219,  0.74137999,  0.69609319,\n",
       "        0.68867913,  0.63316544,  0.62480986,  0.58612053,  0.58042965,\n",
       "        0.57594808,  0.55461919,  0.53720045,  0.44439165,  0.44218128,\n",
       "       -0.56296658])"
      ]
     },
     "execution_count": 25,
     "metadata": {},
     "output_type": "execute_result"
    }
   ],
   "source": [
    "threshold"
   ]
  },
  {
   "cell_type": "markdown",
   "id": "114848df",
   "metadata": {},
   "source": [
    "#### AUROC"
   ]
  },
  {
   "cell_type": "code",
   "execution_count": 26,
   "id": "1b3c8a66",
   "metadata": {},
   "outputs": [
    {
     "data": {
      "text/plain": [
       "Text(0, 0.5, 'tpr')"
      ]
     },
     "execution_count": 26,
     "metadata": {},
     "output_type": "execute_result"
    },
    {
     "data": {
      "image/png": "[encoded data removed]",
      "text/plain": [
       "<Figure size 432x288 with 1 Axes>"
      ]
     },
     "metadata": {
      "needs_background": "light"
     },
     "output_type": "display_data"
    }
   ],
   "source": [
    "plt.plot(fpr, tpr)\n",
    "plt.xlabel('fpr')\n",
    "plt.ylabel('tpr')"
   ]
  },
  {
   "cell_type": "code",
   "execution_count": 27,
   "id": "e263b025",
   "metadata": {},
   "outputs": [
    {
     "name": "stdout",
     "output_type": "stream",
     "text": [
      "AUROC : 0.9979\n"
     ]
    }
   ],
   "source": [
    "# auroc 값\n",
    "\n",
    "print(f\"AUROC : {auroc:.4f}\")"
   ]
  },
  {
   "cell_type": "markdown",
   "id": "5371a055",
   "metadata": {},
   "source": [
    "#### Best Threshold 계산"
   ]
  },
  {
   "cell_type": "code",
   "execution_count": 28,
   "id": "631306cf",
   "metadata": {},
   "outputs": [
    {
     "data": {
      "text/plain": [
       "array([0.        , 0.004     , 0.86      , 0.85324324, 0.92124324,\n",
       "       0.91448649, 0.96648649, 0.95972973, 0.96772973, 0.96097297,\n",
       "       0.96497297, 0.93794595, 0.94194595, 0.88789189, 0.89189189,\n",
       "       0.        ])"
      ]
     },
     "execution_count": 28,
     "metadata": {},
     "output_type": "execute_result"
    }
   ],
   "source": [
    "tpr-fpr"
   ]
  },
  {
   "cell_type": "code",
   "execution_count": 29,
   "id": "72090198",
   "metadata": {},
   "outputs": [
    {
     "data": {
      "text/plain": [
       "8"
      ]
     },
     "execution_count": 29,
     "metadata": {},
     "output_type": "execute_result"
    }
   ],
   "source": [
    "np.argmax(tpr-fpr)"
   ]
  },
  {
   "cell_type": "code",
   "execution_count": 30,
   "id": "abbd58e4",
   "metadata": {},
   "outputs": [
    {
     "name": "stdout",
     "output_type": "stream",
     "text": [
      "Best Threshold is 0.5861\n",
      "Best Threshold's sensitivity is 0.9880\n",
      "Best Threshold's specficity is 0.9797\n",
      "Best Threshold's J is 0.9677\n"
     ]
    }
   ],
   "source": [
    "J = tpr-fpr\n",
    "idx = np.argmax(J)\n",
    "best_thresh = threshold[idx]\n",
    "\n",
    "print(f\"Best Threshold is {best_thresh:.4f}\")\n",
    "print(f\"Best Threshold's sensitivity is {tpr[idx]:.4f}\")\n",
    "print(f\"Best Threshold's specficity is {1-fpr[idx]:.4f}\")\n",
    "print(f\"Best Threshold's J is {J[idx]:.4f}\")"
   ]
  },
  {
   "cell_type": "markdown",
   "id": "1ead3ccf",
   "metadata": {},
   "source": [
    "- Best Threshold는 AUROC에서 직선이 가장 긴 곳"
   ]
  },
  {
   "cell_type": "code",
   "execution_count": 31,
   "id": "4f8326bd",
   "metadata": {},
   "outputs": [
    {
     "data": {
      "text/plain": [
       "Text(0, 0.5, 'tpr')"
      ]
     },
     "execution_count": 31,
     "metadata": {},
     "output_type": "execute_result"
    },
    {
     "data": {
      "image/png": "[encoded data removed]",
      "text/plain": [
       "<Figure size 432x288 with 1 Axes>"
      ]
     },
     "metadata": {
      "needs_background": "light"
     },
     "output_type": "display_data"
    }
   ],
   "source": [
    "plt.plot(fpr, tpr)\n",
    "plt.plot(np.linspace(0, 1, 10), np.linspace(0, 1, 10))\n",
    "plt.plot((fpr[idx], fpr[idx]), (fpr[idx], tpr[idx]), color=\"red\", linestyle=\"--\")\n",
    "plt.xlabel(\"fpr\")\n",
    "plt.ylabel(\"tpr\")"
   ]
  },
  {
   "cell_type": "markdown",
   "id": "68646d6b",
   "metadata": {},
   "source": [
    "- 예측값에서의 Best Threshold 위치 "
   ]
  },
  {
   "cell_type": "code",
   "execution_count": 32,
   "id": "054f48ea",
   "metadata": {},
   "outputs": [
    {
     "data": {
      "image/png": "[encoded data removed]",
      "text/plain": [
       "<Figure size 720x360 with 2 Axes>"
      ]
     },
     "metadata": {
      "needs_background": "light"
     },
     "output_type": "display_data"
    }
   ],
   "source": [
    "fig, axes = plt.subplots(nrows=1, ncols=2, figsize=(10,5))\n",
    "\n",
    "pred= [('Train', train_data, train_pred), ('Test', test_data, test_pred)]\n",
    "\n",
    "for idx, (name, d, pred) in enumerate(preds):\n",
    "    ax = axes[idx]\n",
    "    ax.scatter(x=d[:,0], y=pred)\n",
    "    ax.axhline(0, color='red', linestyle='--')\n",
    "    ax.axhline(1, color='red', linestyle='--')\n",
    "    ax.set_xlabel('mean_radius')\n",
    "    ax.set_ylabel('predict')\n",
    "    ax.set_title(f\"{name} Data\")\n",
    "    ax.axhline(best_thresh, color='blue')"
   ]
  },
  {
   "cell_type": "markdown",
   "id": "87e310bf",
   "metadata": {},
   "source": [
    "- Threshold로 예측값을 0,1로 변환한 후 정확도 보기"
   ]
  },
  {
   "cell_type": "code",
   "execution_count": 33,
   "id": "9a149252",
   "metadata": {
    "scrolled": true
   },
   "outputs": [
    {
     "data": {
      "text/plain": [
       "array([ 0.65079698, -0.33739828,  0.76995559,  1.07473181,  0.98981797,\n",
       "       -0.14066351,  0.91330917,  0.56950769,  1.12592692,  1.08459606,\n",
       "        0.4943603 ,  1.13975842, -0.18693942,  0.96608847,  0.21771945,\n",
       "        0.1171693 ,  0.84120251,  1.06447582,  0.79191884, -0.18055752,\n",
       "        0.87215333,  0.74268219,  0.1757464 ,  0.85373267,  0.74809059,\n",
       "        0.65750233, -0.38942924,  0.05389535,  1.10404132,  0.92968424,\n",
       "        0.97343845, -0.00671976, -0.05875158,  1.05695736,  0.95024971,\n",
       "       -0.10131778,  0.99364715, -0.24420346,  0.89097432,  0.83445985,\n",
       "        0.90572241,  0.97150813,  0.34717662,  1.32982761,  0.65114308,\n",
       "        1.04404063,  0.0631745 ,  0.22603765,  0.86344659,  0.00947845,\n",
       "        0.01049084,  0.64188778,  0.93500279,  0.95343523,  1.05936231,\n",
       "        0.564212  ,  0.18251248,  0.16654126, -0.02796361,  1.0315927 ,\n",
       "        0.95794091,  0.1654442 , -0.02553562,  0.88120302,  1.0068701 ,\n",
       "        1.15917096,  0.55461919,  1.18389725,  0.73654641,  0.1434484 ,\n",
       "        0.28422859,  0.23212648,  0.81017793,  0.90911596,  0.861961  ,\n",
       "        0.87887002,  0.00963384,  0.76990145,  0.87627932,  1.05796051,\n",
       "        0.80851202, -0.05151203,  0.28589305,  0.97190287,  0.82269018,\n",
       "        0.35022569,  1.04796504,  0.93961742,  0.75433079,  0.04154028,\n",
       "        0.74137999,  1.0367655 ,  0.66694563, -0.24570585,  0.77733773,\n",
       "        0.74478429,  0.42857313,  0.02080548,  0.80061482,  0.90373755,\n",
       "        0.33288792, -0.30842021,  1.13996507,  0.82946406,  1.14757479,\n",
       "        0.80513325,  0.88839076,  1.06846555,  1.12579442,  0.93999686,\n",
       "        0.43514468,  0.04020508,  0.90374287,  1.12020893,  0.04972602,\n",
       "        0.94651372, -0.25859394,  0.73658897,  1.3431729 , -0.15793597,\n",
       "        1.11900806,  1.1074413 ,  0.26456787, -0.02748535,  0.57594808,\n",
       "        1.10318163,  0.87183164,  0.081985  ,  0.9968973 , -0.22710248,\n",
       "        0.70206323,  0.87075688,  1.07367585,  0.64224214,  0.8553272 ,\n",
       "        0.04319988,  0.1838739 ,  0.38042842,  0.6805383 ,  1.12902586,\n",
       "        0.385972  ,  1.03291529,  0.2371461 ,  0.72440711,  0.35201979,\n",
       "        0.85028511,  0.91939819, -0.13484813,  0.91797193,  0.91595381,\n",
       "        1.04362569,  0.84636538,  0.13688236,  0.43039803,  0.56619207,\n",
       "        0.10251935,  0.7973909 ,  0.87192468,  0.64094819,  0.80380528,\n",
       "        0.7472169 ,  1.01679716,  0.80937423, -0.06244248,  0.72735066,\n",
       "        0.08112279, -0.0629207 , -0.16175197,  0.27230803,  0.93843061,\n",
       "       -0.19317024,  1.13426357,  0.29279171,  0.95717176,  0.91238674,\n",
       "        0.91022251,  0.82734299,  1.26635338,  0.90234444,  0.36240274,\n",
       "        0.70475803, -0.02242242,  0.82233957, -0.0159246 ,  0.53468154,\n",
       "        1.0490258 ,  0.84199339,  0.85161441,  0.905708  ,  1.05453375,\n",
       "        0.01671905, -0.09478729,  0.75288978, -0.23511816,  0.95216404,\n",
       "       -0.18323812,  1.26537661,  0.91168666,  0.50293586, -0.08850953,\n",
       "        0.86910088,  0.32380981,  0.72974376,  0.34258091,  0.22277904,\n",
       "        0.20447365,  0.68867913,  0.85404364,  0.77242147,  0.76816252,\n",
       "        0.17181396,  0.90871868,  0.16975284,  0.9319524 ,  0.42542743,\n",
       "        1.12120535,  0.11649088,  1.16256317,  0.98091897,  0.89262065,\n",
       "        1.04304031,  0.25093841,  0.8671303 ,  0.29368081,  1.10447232,\n",
       "        0.86583162,  0.98427837,  0.75861076,  1.00486368,  0.91927674,\n",
       "        0.68006468,  0.82027725,  0.15436975, -0.05513138,  1.22320647,\n",
       "        0.85405909,  0.44521009,  0.95080811,  1.09406275,  0.93212597,\n",
       "        1.19425411,  0.78411669,  0.87437657,  0.49627247,  0.58042965,\n",
       "        0.94651399,  0.58612053,  1.00495964,  0.35149804,  1.07356855,\n",
       "        0.84586794,  1.14474301,  1.00137871,  0.24349786,  0.0123711 ,\n",
       "        0.44439165,  1.06063811,  0.19676308,  0.04960158,  0.92358352,\n",
       "        1.0975216 ,  0.93366251, -0.13547244,  0.29550312,  1.1631652 ,\n",
       "        0.62063166,  0.44218128,  0.85808518, -0.04615302,  0.31597441,\n",
       "        0.81705997,  0.9450206 ,  0.88430381,  0.53720045,  1.01805694,\n",
       "        0.70415171,  0.83591958,  1.0771165 ,  0.84917295,  0.82226179,\n",
       "        0.95921187,  0.66940422, -0.17836505,  0.99252336,  0.16063354,\n",
       "        1.11402385,  0.12550621,  0.90435375,  0.21474023,  0.10156635,\n",
       "        0.19043201,  0.1907199 ,  1.19129892,  0.05866836, -0.48365158,\n",
       "        0.41390401,  1.02298171,  0.47144963,  0.13525216,  1.28699155,\n",
       "        1.0003373 ,  0.028552  ,  1.10197831,  0.24285583,  0.91570311,\n",
       "        0.04916549,  0.68750243,  1.12479046,  0.00922674,  0.94999792,\n",
       "        0.62480986,  1.1633689 ,  0.90402153,  1.08563489,  0.82719286,\n",
       "        0.86809875,  1.00195701,  0.93627437, -0.20433947,  0.87658669,\n",
       "       -0.08533434,  1.14697578,  1.15064797,  1.23899528,  0.92521752,\n",
       "        0.14488962,  1.05140206,  0.10115309,  1.00461467,  0.63316544,\n",
       "        0.99085276, -0.20969531,  0.37302355,  1.01081445,  0.78367363,\n",
       "        0.93297491,  1.02026789,  0.73372239,  0.34360114,  0.98180861,\n",
       "        0.91315634,  0.70169212,  1.00549326,  0.73284516,  1.08749818,\n",
       "        0.83078576,  0.71385861,  0.9322706 ,  0.50726042,  0.78241792,\n",
       "        0.2735315 , -0.12870598,  0.01126919,  0.72285537,  0.34569351,\n",
       "        1.07350594,  1.03719743, -0.00482063,  1.00931688,  0.69609319,\n",
       "       -0.33264282,  0.89733184,  0.66029809,  0.26895077, -0.20941883,\n",
       "        0.93941529, -0.11722708,  0.89983229,  0.91336941, -0.56296658,\n",
       "        0.98104205,  0.97413552,  0.97552805,  0.27183564,  0.83197   ,\n",
       "        0.29509294,  1.14921454,  0.92075854,  0.78970555,  0.72684721,\n",
       "        0.73956117, -0.10773309,  0.02607981,  0.78014398,  0.16892459,\n",
       "        0.87485337,  0.25051722,  0.85824156,  0.77486525,  1.08220584,\n",
       "        1.1731254 ,  0.24966492,  0.86140045,  0.34707852,  0.74024664,\n",
       "        0.18692916,  1.03587849,  1.30262496])"
      ]
     },
     "execution_count": 33,
     "metadata": {},
     "output_type": "execute_result"
    }
   ],
   "source": [
    "train_pred"
   ]
  },
  {
   "cell_type": "code",
   "execution_count": 34,
   "id": "3fcd9103",
   "metadata": {},
   "outputs": [
    {
     "data": {
      "text/plain": [
       "0.5861205305266273"
      ]
     },
     "execution_count": 34,
     "metadata": {},
     "output_type": "execute_result"
    }
   ],
   "source": [
    "best_thresh"
   ]
  },
  {
   "cell_type": "code",
   "execution_count": 35,
   "id": "510bfa46",
   "metadata": {
    "scrolled": true
   },
   "outputs": [
    {
     "data": {
      "text/plain": [
       "array([ True, False,  True,  True,  True, False,  True, False,  True,\n",
       "        True, False,  True, False,  True, False, False,  True,  True,\n",
       "        True, False,  True,  True, False,  True,  True,  True, False,\n",
       "       False,  True,  True,  True, False, False,  True,  True, False,\n",
       "        True, False,  True,  True,  True,  True, False,  True,  True,\n",
       "        True, False, False,  True, False, False,  True,  True,  True,\n",
       "        True, False, False, False, False,  True,  True, False, False,\n",
       "        True,  True,  True, False,  True,  True, False, False, False,\n",
       "        True,  True,  True,  True, False,  True,  True,  True,  True,\n",
       "       False, False,  True,  True, False,  True,  True,  True, False,\n",
       "        True,  True,  True, False,  True,  True, False, False,  True,\n",
       "        True, False, False,  True,  True,  True,  True,  True,  True,\n",
       "        True,  True, False, False,  True,  True, False,  True, False,\n",
       "        True,  True, False,  True,  True, False, False, False,  True,\n",
       "        True, False,  True, False,  True,  True,  True,  True,  True,\n",
       "       False, False, False,  True,  True, False,  True, False,  True,\n",
       "       False,  True,  True, False,  True,  True,  True,  True, False,\n",
       "       False, False, False,  True,  True,  True,  True,  True,  True,\n",
       "        True, False,  True, False, False, False, False,  True, False,\n",
       "        True, False,  True,  True,  True,  True,  True,  True, False,\n",
       "        True, False,  True, False, False,  True,  True,  True,  True,\n",
       "        True, False, False,  True, False,  True, False,  True,  True,\n",
       "       False, False,  True, False,  True, False, False, False,  True,\n",
       "        True,  True,  True, False,  True, False,  True, False,  True,\n",
       "       False,  True,  True,  True,  True, False,  True, False,  True,\n",
       "        True,  True,  True,  True,  True,  True,  True, False, False,\n",
       "        True,  True, False,  True,  True,  True,  True,  True,  True,\n",
       "       False, False,  True, False,  True, False,  True,  True,  True,\n",
       "        True, False, False, False,  True, False, False,  True,  True,\n",
       "        True, False, False,  True,  True, False,  True, False, False,\n",
       "        True,  True,  True, False,  True,  True,  True,  True,  True,\n",
       "        True,  True,  True, False,  True, False,  True, False,  True,\n",
       "       False, False, False, False,  True, False, False, False,  True,\n",
       "       False, False,  True,  True, False,  True, False,  True, False,\n",
       "        True,  True, False,  True,  True,  True,  True,  True,  True,\n",
       "        True,  True,  True, False,  True, False,  True,  True,  True,\n",
       "        True, False,  True, False,  True,  True,  True, False, False,\n",
       "        True,  True,  True,  True,  True, False,  True,  True,  True,\n",
       "        True,  True,  True,  True,  True,  True, False,  True, False,\n",
       "       False, False,  True, False,  True,  True, False,  True,  True,\n",
       "       False,  True,  True, False, False,  True, False,  True,  True,\n",
       "       False,  True,  True,  True, False,  True, False,  True,  True,\n",
       "        True,  True,  True, False, False,  True, False,  True, False,\n",
       "        True,  True,  True,  True, False,  True, False,  True, False,\n",
       "        True,  True])"
      ]
     },
     "execution_count": 35,
     "metadata": {},
     "output_type": "execute_result"
    }
   ],
   "source": [
    "train_pred > best_thresh"
   ]
  },
  {
   "cell_type": "code",
   "execution_count": 36,
   "id": "2995e03f",
   "metadata": {},
   "outputs": [],
   "source": [
    "train_pred_label = list(map(int, (train_pred > best_thresh)))\n",
    "test_pred_label = list(map(int, (test_pred > best_thresh)))"
   ]
  },
  {
   "cell_type": "code",
   "execution_count": 37,
   "id": "eaf8f896",
   "metadata": {},
   "outputs": [],
   "source": [
    "from sklearn.metrics import accuracy_score\n",
    "\n",
    "linear_train_accuracy = accuracy_score(train_target, train_pred_label)\n",
    "linear_test_accuracy = accuracy_score(test_target, test_pred_label)"
   ]
  },
  {
   "cell_type": "code",
   "execution_count": 38,
   "id": "f86efc41",
   "metadata": {},
   "outputs": [
    {
     "name": "stdout",
     "output_type": "stream",
     "text": [
      "Train accuracy is : 0.98\n",
      "Test accuracy is : 0.96\n"
     ]
    }
   ],
   "source": [
    "print(f\"Train accuracy is : {linear_train_accuracy:.2f}\")\n",
    "print(f\"Test accuracy is : {linear_test_accuracy:.2f}\")"
   ]
  },
  {
   "cell_type": "markdown",
   "id": "9636f78b",
   "metadata": {},
   "source": [
    "### 3. Logistic Regrssion"
   ]
  },
  {
   "cell_type": "markdown",
   "id": "871210ec",
   "metadata": {},
   "source": [
    "#### 3-1. Scaling\n",
    "\n",
    "- Logistic Regression은 학습하기 전에 학습 시킬 데이터를 정규화함\n",
    "- Logistic Regression의 exp은 값이 클수록 overflow 발생할 수 있음"
   ]
  },
  {
   "cell_type": "code",
   "execution_count": 39,
   "id": "3b3c8e99",
   "metadata": {},
   "outputs": [],
   "source": [
    "from sklearn.preprocessing import StandardScaler"
   ]
  },
  {
   "cell_type": "code",
   "execution_count": 40,
   "id": "4a3749ef",
   "metadata": {},
   "outputs": [],
   "source": [
    "scaler = StandardScaler()"
   ]
  },
  {
   "cell_type": "markdown",
   "id": "97cf6806",
   "metadata": {},
   "source": [
    "- 정규화는 항상 train data를 이용해 학습하고, valid, test 데이터를 변환해야함\n",
    "- 모든 데이터를 한번에 학습할 경우 본 적 없는 vaild data의 평균과 분산을 반영하여 overfitting이 일어날 수 있음"
   ]
  },
  {
   "cell_type": "code",
   "execution_count": 41,
   "id": "904d1205",
   "metadata": {},
   "outputs": [
    {
     "data": {
      "text/plain": [
       "StandardScaler()"
      ]
     },
     "execution_count": 41,
     "metadata": {},
     "output_type": "execute_result"
    }
   ],
   "source": [
    "scaler.fit(train_data)"
   ]
  },
  {
   "cell_type": "code",
   "execution_count": 42,
   "id": "bdb4d502",
   "metadata": {},
   "outputs": [],
   "source": [
    "# 학습된 scaler 로 train/test 변환\n",
    "\n",
    "scaled_train_data = scaler.transform(train_data)\n",
    "scaled_test_data = scaler.transform(test_data)"
   ]
  },
  {
   "cell_type": "code",
   "execution_count": 43,
   "id": "d5ca086d",
   "metadata": {},
   "outputs": [
    {
     "data": {
      "text/plain": [
       "array([1.130e+01, 1.819e+01, 7.393e+01, 3.894e+02, 9.592e-02, 1.325e-01,\n",
       "       1.548e-01, 2.854e-02, 2.054e-01, 7.669e-02, 2.428e-01, 1.642e+00,\n",
       "       2.369e+00, 1.639e+01, 6.663e-03, 5.914e-02, 8.880e-02, 1.314e-02,\n",
       "       1.995e-02, 8.675e-03, 1.258e+01, 2.796e+01, 8.716e+01, 4.729e+02,\n",
       "       1.347e-01, 4.848e-01, 7.436e-01, 1.218e-01, 3.308e-01, 1.297e-01])"
      ]
     },
     "execution_count": 43,
     "metadata": {},
     "output_type": "execute_result"
    }
   ],
   "source": [
    "train_data[0]"
   ]
  },
  {
   "cell_type": "code",
   "execution_count": 44,
   "id": "9924e2a9",
   "metadata": {},
   "outputs": [
    {
     "data": {
      "text/plain": [
       "array([-0.77241528, -0.25350148, -0.71766034, -0.72713135, -0.05609214,\n",
       "        0.52832818,  0.80418063, -0.54281688,  0.8826752 ,  1.92363784,\n",
       "       -0.56190665,  0.82998234, -0.22721273, -0.4934605 , -0.1485608 ,\n",
       "        1.83202549,  1.75089411,  0.22238033, -0.03320069,  1.67142344,\n",
       "       -0.74402208,  0.36363441, -0.58496884, -0.70201562,  0.06028267,\n",
       "        1.48259627,  2.23558836,  0.09272995,  0.71316397,  2.55107451])"
      ]
     },
     "execution_count": 44,
     "metadata": {},
     "output_type": "execute_result"
    }
   ],
   "source": [
    "scaled_train_data[0]"
   ]
  },
  {
   "cell_type": "markdown",
   "id": "c1ba4b80",
   "metadata": {},
   "source": [
    "#### 3.2 학습"
   ]
  },
  {
   "cell_type": "code",
   "execution_count": 45,
   "id": "b09ed803",
   "metadata": {},
   "outputs": [],
   "source": [
    "from sklearn.linear_model import LogisticRegression\n",
    "\n",
    "logit_regressor = LogisticRegression()"
   ]
  },
  {
   "cell_type": "code",
   "execution_count": 46,
   "id": "ae8d6334",
   "metadata": {},
   "outputs": [
    {
     "data": {
      "text/plain": [
       "LogisticRegression()"
      ]
     },
     "execution_count": 46,
     "metadata": {},
     "output_type": "execute_result"
    }
   ],
   "source": [
    "logit_regressor.fit(scaled_train_data, train_target)"
   ]
  },
  {
   "cell_type": "markdown",
   "id": "f33b77aa",
   "metadata": {},
   "source": [
    "#### 3.3 예측"
   ]
  },
  {
   "cell_type": "markdown",
   "id": "3ce8792f",
   "metadata": {},
   "source": [
    "- Classification 모델의 경우 `(1) predict` : 어떤 class로 분류할 지, `(2) predict_proba` : 각 class에 속할 확률"
   ]
  },
  {
   "cell_type": "code",
   "execution_count": 47,
   "id": "79d2be1f",
   "metadata": {},
   "outputs": [],
   "source": [
    "train_pred = logit_regressor.predict(scaled_train_data)\n",
    "test_pred = logit_regressor.predict(scaled_test_data)"
   ]
  },
  {
   "cell_type": "code",
   "execution_count": 48,
   "id": "760590b9",
   "metadata": {},
   "outputs": [
    {
     "data": {
      "text/plain": [
       "array([1, 0, 1, 1, 1, 0, 1, 0, 1, 1])"
      ]
     },
     "execution_count": 48,
     "metadata": {},
     "output_type": "execute_result"
    }
   ],
   "source": [
    "train_pred[:10]"
   ]
  },
  {
   "cell_type": "code",
   "execution_count": 49,
   "id": "6bcf9d92",
   "metadata": {},
   "outputs": [],
   "source": [
    "train_pred_logit = logit_regressor.predict_proba(scaled_train_data)\n",
    "test_pred_logit = logit_regressor.predict_proba(scaled_test_data)"
   ]
  },
  {
   "cell_type": "code",
   "execution_count": 50,
   "id": "fd698649",
   "metadata": {},
   "outputs": [
    {
     "data": {
      "text/plain": [
       "array([[9.77486880e-03, 9.90225131e-01],\n",
       "       [9.99999999e-01, 1.10444571e-09],\n",
       "       [2.00315051e-02, 9.79968495e-01],\n",
       "       [1.74273407e-06, 9.99998257e-01],\n",
       "       [4.94023919e-04, 9.99505976e-01],\n",
       "       [9.99999933e-01, 6.70359495e-08],\n",
       "       [2.92533805e-04, 9.99707466e-01],\n",
       "       [8.26176477e-01, 1.73823523e-01],\n",
       "       [1.33303137e-04, 9.99866697e-01],\n",
       "       [5.72177528e-05, 9.99942782e-01]])"
      ]
     },
     "execution_count": 50,
     "metadata": {},
     "output_type": "execute_result"
    }
   ],
   "source": [
    "train_pred_logit[:10]"
   ]
  },
  {
   "cell_type": "code",
   "execution_count": 51,
   "id": "e9746336",
   "metadata": {},
   "outputs": [
    {
     "data": {
      "text/plain": [
       "array([0.00977487, 0.99022513])"
      ]
     },
     "execution_count": 51,
     "metadata": {},
     "output_type": "execute_result"
    }
   ],
   "source": [
    "train_pred_logit[0]"
   ]
  },
  {
   "cell_type": "markdown",
   "id": "d958441d",
   "metadata": {},
   "source": [
    "-> 두 번째 클래스에 속할 확률이 더 큼"
   ]
  },
  {
   "cell_type": "markdown",
   "id": "3c2acd34",
   "metadata": {},
   "source": [
    "#### 3.4 평가"
   ]
  },
  {
   "cell_type": "markdown",
   "id": "ae6c741b",
   "metadata": {},
   "source": [
    "- 데이터의 AUROC를 계산하기 위해서는 1의 클래스로 분류될 확률 하나만 필요함\n",
    "- 1에 속할 확률만 남김"
   ]
  },
  {
   "cell_type": "code",
   "execution_count": 52,
   "id": "dad85e64",
   "metadata": {},
   "outputs": [],
   "source": [
    "train_pred_logit = train_pred_logit[:, 1]\n",
    "test_pred_logit = test_pred_logit[:, 1]"
   ]
  },
  {
   "cell_type": "code",
   "execution_count": 53,
   "id": "2ec26ab1",
   "metadata": {},
   "outputs": [
    {
     "data": {
      "text/plain": [
       "0.9902251312004193"
      ]
     },
     "execution_count": 53,
     "metadata": {},
     "output_type": "execute_result"
    }
   ],
   "source": [
    "train_pred_logit[0]"
   ]
  },
  {
   "cell_type": "code",
   "execution_count": 54,
   "id": "b27a86c4",
   "metadata": {},
   "outputs": [],
   "source": [
    "from sklearn.metrics import auc, roc_curve\n",
    "\n",
    "fpr, tpr, threshold = roc_curve(train_target, train_pred_logit)\n",
    "auroc = auc(fpr, tpr)"
   ]
  },
  {
   "cell_type": "code",
   "execution_count": 55,
   "id": "da33e4e5",
   "metadata": {},
   "outputs": [
    {
     "data": {
      "text/plain": [
       "Text(0, 0.5, 'tpr')"
      ]
     },
     "execution_count": 55,
     "metadata": {},
     "output_type": "execute_result"
    },
    {
     "data": {
      "image/png": "[encoded data removed]",
      "text/plain": [
       "<Figure size 432x288 with 1 Axes>"
      ]
     },
     "metadata": {
      "needs_background": "light"
     },
     "output_type": "display_data"
    }
   ],
   "source": [
    "plt.plot(fpr, tpr)\n",
    "plt.xlabel('fpr')\n",
    "plt.ylabel('tpr')"
   ]
  },
  {
   "cell_type": "code",
   "execution_count": 56,
   "id": "2e2f33b7",
   "metadata": {},
   "outputs": [
    {
     "name": "stdout",
     "output_type": "stream",
     "text": [
      "AUROC : 0.9994\n"
     ]
    }
   ],
   "source": [
    "print(f\"AUROC : {auroc:.4f}\")"
   ]
  },
  {
   "cell_type": "code",
   "execution_count": 57,
   "id": "6930ccb7",
   "metadata": {},
   "outputs": [
    {
     "name": "stdout",
     "output_type": "stream",
     "text": [
      "Best Threshold is 0.4433\n",
      "Best Threshold's sensitivity is 1.0000\n",
      "Best Threshold's specificity is 0.9865\n",
      "Best Threshold's J is 0.9865\n"
     ]
    }
   ],
   "source": [
    "J = tpr- fpr\n",
    "idx = np.argmax(J)\n",
    "best_thresh = threshold[idx]\n",
    "\n",
    "print(f\"Best Threshold is {best_thresh:.4f}\")\n",
    "print(f\"Best Threshold's sensitivity is {tpr[idx]:.4f}\")\n",
    "print(f\"Best Threshold's specificity is {1-fpr[idx]:.4f}\")\n",
    "print(f\"Best Threshold's J is {J[idx]:.4f}\")"
   ]
  },
  {
   "cell_type": "code",
   "execution_count": 58,
   "id": "82573b71",
   "metadata": {},
   "outputs": [
    {
     "data": {
      "text/plain": [
       "Text(0, 0.5, 'tpr')"
      ]
     },
     "execution_count": 58,
     "metadata": {},
     "output_type": "execute_result"
    },
    {
     "data": {
      "image/png": "[encoded data removed]",
      "text/plain": [
       "<Figure size 432x288 with 1 Axes>"
      ]
     },
     "metadata": {
      "needs_background": "light"
     },
     "output_type": "display_data"
    }
   ],
   "source": [
    "plt.plot(fpr, tpr)\n",
    "plt.plot(np.linspace(0,1, 10), np.linspace(0,1,10))\n",
    "plt.plot((fpr[idx],fpr[idx]), (fpr[idx], tpr[idx]), color= 'red', linestyle='--')\n",
    "plt.xlabel('fpr')\n",
    "plt.ylabel('tpr')"
   ]
  },
  {
   "cell_type": "code",
   "execution_count": 59,
   "id": "922a9fe4",
   "metadata": {},
   "outputs": [
    {
     "data": {
      "text/plain": [
       "Text(0, 0.5, 'probability')"
      ]
     },
     "execution_count": 59,
     "metadata": {},
     "output_type": "execute_result"
    },
    {
     "data": {
      "image/png": "[encoded data removed]",
      "text/plain": [
       "<Figure size 432x288 with 1 Axes>"
      ]
     },
     "metadata": {
      "needs_background": "light"
     },
     "output_type": "display_data"
    }
   ],
   "source": [
    "plt.scatter(x=scaled_train_data[:,0], y=train_pred_logit)\n",
    "plt.axhline(best_thresh, color='blue')\n",
    "plt.axhline(0, color='red', linestyle='--')\n",
    "plt.axhline(1, color='red', linestyle='--')\n",
    "plt.xlabel('mean radius')\n",
    "plt.ylabel('probability')"
   ]
  },
  {
   "cell_type": "markdown",
   "id": "379de6ce",
   "metadata": {},
   "source": [
    "- Threshold로 예측값을 0,1로 변환한 후 정확도 확인"
   ]
  },
  {
   "cell_type": "code",
   "execution_count": 60,
   "id": "dca400da",
   "metadata": {},
   "outputs": [],
   "source": [
    "train_pred_label = list(map(int, (train_pred_logit > best_thresh)))\n",
    "test_pred_label =  list(map(int, (test_pred_logit > best_thresh)))"
   ]
  },
  {
   "cell_type": "code",
   "execution_count": 61,
   "id": "61a8ecc4",
   "metadata": {},
   "outputs": [],
   "source": [
    "proba_train_accuracy = accuracy_score(train_target, train_pred_label)\n",
    "proba_test_accuracy = accuracy_score(test_target, test_pred_label)"
   ]
  },
  {
   "cell_type": "code",
   "execution_count": 62,
   "id": "68d852db",
   "metadata": {},
   "outputs": [
    {
     "name": "stdout",
     "output_type": "stream",
     "text": [
      "Train accuracy is : 0.99\n",
      "Test accuracy is : 0.96\n"
     ]
    }
   ],
   "source": [
    "print(f\"Train accuracy is : {proba_train_accuracy:.2f}\")\n",
    "print(f\"Test accuracy is : {proba_test_accuracy:.2f}\")"
   ]
  },
  {
   "cell_type": "markdown",
   "id": "21b346b5",
   "metadata": {},
   "source": [
    "- predict의 결과값"
   ]
  },
  {
   "cell_type": "code",
   "execution_count": 63,
   "id": "eb641943",
   "metadata": {},
   "outputs": [],
   "source": [
    "train_accuracy = accuracy_score(train_target, train_pred)\n",
    "test_accuracy = accuracy_score(test_target, test_pred)"
   ]
  },
  {
   "cell_type": "code",
   "execution_count": 64,
   "id": "869d1627",
   "metadata": {},
   "outputs": [
    {
     "name": "stdout",
     "output_type": "stream",
     "text": [
      "Train accuracy is : 0.99\n",
      "Test accurarcy is : 0.97\n"
     ]
    }
   ],
   "source": [
    "print(f\"Train accuracy is : {train_accuracy:.2f}\")\n",
    "print(f\"Test accurarcy is : {test_accuracy:.2f}\")"
   ]
  },
  {
   "cell_type": "markdown",
   "id": "60d313ef",
   "metadata": {},
   "source": [
    "- `predict_proba`의 bset_threshold로 계산한 결과와 `predict`로 계산한 결과가 다름\n",
    "- 이는 두 0과 1로 예측하는 방법이 다르기 때문임. (0.49, 0.51)의 확률시 predict는 class 1의 확률에 속할 확률이 커서 1로 분류함\n",
    "- 하지만 best_threshold가 0.52라면 predict_proba의 경우 class를 0으로 분류함"
   ]
  },
  {
   "cell_type": "markdown",
   "id": "00e6dab6",
   "metadata": {},
   "source": [
    "### 마무리"
   ]
  },
  {
   "cell_type": "code",
   "execution_count": 65,
   "id": "6a147ff3",
   "metadata": {},
   "outputs": [
    {
     "name": "stdout",
     "output_type": "stream",
     "text": [
      "Linear Regression Test Accuracy: 0.96\n",
      "Logistic Regression predict_proba Test Accuracy: 0.96\n",
      "Logistic Regression predict Test Accuracy : 0.97\n"
     ]
    }
   ],
   "source": [
    "print(f\"Linear Regression Test Accuracy: {linear_test_accuracy:.2f}\")\n",
    "print(f\"Logistic Regression predict_proba Test Accuracy: {proba_test_accuracy:.2f}\")\n",
    "print(f\"Logistic Regression predict Test Accuracy : {test_accuracy:.2f}\")"
   ]
  },
  {
   "cell_type": "code",
   "execution_count": null,
   "id": "ccc8b161",
   "metadata": {},
   "outputs": [],
   "source": []
  }
 ],
 "metadata": {
  "kernelspec": {
   "display_name": "Python 3",
   "language": "python",
   "name": "python3"
  },
  "language_info": {
   "codemirror_mode": {
    "name": "ipython",
    "version": 3
   },
   "file_extension": ".py",
   "mimetype": "text/x-python",
   "name": "python",
   "nbconvert_exporter": "python",
   "pygments_lexer": "ipython3",
   "version": "3.7.10"
  }
 },
 "nbformat": 4,
 "nbformat_minor": 5
}
