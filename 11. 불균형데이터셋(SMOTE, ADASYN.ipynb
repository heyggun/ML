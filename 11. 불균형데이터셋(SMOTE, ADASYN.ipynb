{
  "nbformat": 4,
  "nbformat_minor": 0,
  "metadata": {
    "colab": {
      "name": "불균형데이터셋.ipynb",
      "provenance": [],
      "authorship_tag": "ABX9TyMTU0TBHxwbPG4nW9fbr/t3",
      "include_colab_link": true
    },
    "kernelspec": {
      "name": "python3",
      "display_name": "Python 3"
    },
    "language_info": {
      "name": "python"
    }
  },
  "cells": [
    {
      "cell_type": "markdown",
      "metadata": {
        "id": "view-in-github",
        "colab_type": "text"
      },
      "source": [
        "<a href=\"https://colab.research.google.com/github/heyggun/ML/blob/main/11.%20%EB%B6%88%EA%B7%A0%ED%98%95%EB%8D%B0%EC%9D%B4%ED%84%B0%EC%85%8B(SMOTE%2C%20ADASYN.ipynb\" target=\"_parent\"><img src=\"https://colab.research.google.com/assets/colab-badge.svg\" alt=\"Open In Colab\"/></a>"
      ]
    },
    {
      "cell_type": "code",
      "execution_count": 1,
      "metadata": {
        "colab": {
          "base_uri": "https://localhost:8080/"
        },
        "id": "kGisE-vMBuhO",
        "outputId": "4f175d45-f610-478d-b874-3099d3040ed9"
      },
      "outputs": [
        {
          "output_type": "stream",
          "name": "stdout",
          "text": [
            "0.8.1\n"
          ]
        }
      ],
      "source": [
        "import imblearn\n",
        "print(imblearn.__version__)"
      ]
    },
    {
      "cell_type": "code",
      "source": [
        "import pandas as pd\n",
        "import numpy as np\n",
        "\n",
        "from collections import Counter\n",
        "from matplotlib import pyplot"
      ],
      "metadata": {
        "id": "McUZWtWDB1p3"
      },
      "execution_count": 3,
      "outputs": []
    },
    {
      "cell_type": "code",
      "source": [
        "DataURL = 'https://raw.githubusercontent.com/jbrownlee/Datasets/master/glass.csv'\n",
        "df = pd.read_csv(DataURL, header=None)\n",
        "df.columns = ['RI', 'Na', 'Mg', 'Al', 'Sl', 'K', 'Ca', 'Ba', 'Fe', 'y']\n",
        "display(df.head(3))"
      ],
      "metadata": {
        "colab": {
          "base_uri": "https://localhost:8080/",
          "height": 143
        },
        "id": "QQJOGlHuC-fV",
        "outputId": "8b0ee639-910d-404d-a81c-d3c319f8224e"
      },
      "execution_count": 12,
      "outputs": [
        {
          "output_type": "display_data",
          "data": {
            "text/plain": [
              "        RI     Na    Mg    Al     Sl     K    Ca   Ba   Fe  y\n",
              "0  1.52101  13.64  4.49  1.10  71.78  0.06  8.75  0.0  0.0  1\n",
              "1  1.51761  13.89  3.60  1.36  72.73  0.48  7.83  0.0  0.0  1\n",
              "2  1.51618  13.53  3.55  1.54  72.99  0.39  7.78  0.0  0.0  1"
            ],
            "text/html": [
              "\n",
              "  <div id=\"df-ea6d6fed-e8ea-44d9-8ec9-31afb91b2892\">\n",
              "    <div class=\"colab-df-container\">\n",
              "      <div>\n",
              "<style scoped>\n",
              "    .dataframe tbody tr th:only-of-type {\n",
              "        vertical-align: middle;\n",
              "    }\n",
              "\n",
              "    .dataframe tbody tr th {\n",
              "        vertical-align: top;\n",
              "    }\n",
              "\n",
              "    .dataframe thead th {\n",
              "        text-align: right;\n",
              "    }\n",
              "</style>\n",
              "<table border=\"1\" class=\"dataframe\">\n",
              "  <thead>\n",
              "    <tr style=\"text-align: right;\">\n",
              "      <th></th>\n",
              "      <th>RI</th>\n",
              "      <th>Na</th>\n",
              "      <th>Mg</th>\n",
              "      <th>Al</th>\n",
              "      <th>Sl</th>\n",
              "      <th>K</th>\n",
              "      <th>Ca</th>\n",
              "      <th>Ba</th>\n",
              "      <th>Fe</th>\n",
              "      <th>y</th>\n",
              "    </tr>\n",
              "  </thead>\n",
              "  <tbody>\n",
              "    <tr>\n",
              "      <th>0</th>\n",
              "      <td>1.52101</td>\n",
              "      <td>13.64</td>\n",
              "      <td>4.49</td>\n",
              "      <td>1.10</td>\n",
              "      <td>71.78</td>\n",
              "      <td>0.06</td>\n",
              "      <td>8.75</td>\n",
              "      <td>0.0</td>\n",
              "      <td>0.0</td>\n",
              "      <td>1</td>\n",
              "    </tr>\n",
              "    <tr>\n",
              "      <th>1</th>\n",
              "      <td>1.51761</td>\n",
              "      <td>13.89</td>\n",
              "      <td>3.60</td>\n",
              "      <td>1.36</td>\n",
              "      <td>72.73</td>\n",
              "      <td>0.48</td>\n",
              "      <td>7.83</td>\n",
              "      <td>0.0</td>\n",
              "      <td>0.0</td>\n",
              "      <td>1</td>\n",
              "    </tr>\n",
              "    <tr>\n",
              "      <th>2</th>\n",
              "      <td>1.51618</td>\n",
              "      <td>13.53</td>\n",
              "      <td>3.55</td>\n",
              "      <td>1.54</td>\n",
              "      <td>72.99</td>\n",
              "      <td>0.39</td>\n",
              "      <td>7.78</td>\n",
              "      <td>0.0</td>\n",
              "      <td>0.0</td>\n",
              "      <td>1</td>\n",
              "    </tr>\n",
              "  </tbody>\n",
              "</table>\n",
              "</div>\n",
              "      <button class=\"colab-df-convert\" onclick=\"convertToInteractive('df-ea6d6fed-e8ea-44d9-8ec9-31afb91b2892')\"\n",
              "              title=\"Convert this dataframe to an interactive table.\"\n",
              "              style=\"display:none;\">\n",
              "        \n",
              "  <svg xmlns=\"http://www.w3.org/2000/svg\" height=\"24px\"viewBox=\"0 0 24 24\"\n",
              "       width=\"24px\">\n",
              "    <path d=\"M0 0h24v24H0V0z\" fill=\"none\"/>\n",
              "    <path d=\"M18.56 5.44l.94 2.06.94-2.06 2.06-.94-2.06-.94-.94-2.06-.94 2.06-2.06.94zm-11 1L8.5 8.5l.94-2.06 2.06-.94-2.06-.94L8.5 2.5l-.94 2.06-2.06.94zm10 10l.94 2.06.94-2.06 2.06-.94-2.06-.94-.94-2.06-.94 2.06-2.06.94z\"/><path d=\"M17.41 7.96l-1.37-1.37c-.4-.4-.92-.59-1.43-.59-.52 0-1.04.2-1.43.59L10.3 9.45l-7.72 7.72c-.78.78-.78 2.05 0 2.83L4 21.41c.39.39.9.59 1.41.59.51 0 1.02-.2 1.41-.59l7.78-7.78 2.81-2.81c.8-.78.8-2.07 0-2.86zM5.41 20L4 18.59l7.72-7.72 1.47 1.35L5.41 20z\"/>\n",
              "  </svg>\n",
              "      </button>\n",
              "      \n",
              "  <style>\n",
              "    .colab-df-container {\n",
              "      display:flex;\n",
              "      flex-wrap:wrap;\n",
              "      gap: 12px;\n",
              "    }\n",
              "\n",
              "    .colab-df-convert {\n",
              "      background-color: #E8F0FE;\n",
              "      border: none;\n",
              "      border-radius: 50%;\n",
              "      cursor: pointer;\n",
              "      display: none;\n",
              "      fill: #1967D2;\n",
              "      height: 32px;\n",
              "      padding: 0 0 0 0;\n",
              "      width: 32px;\n",
              "    }\n",
              "\n",
              "    .colab-df-convert:hover {\n",
              "      background-color: #E2EBFA;\n",
              "      box-shadow: 0px 1px 2px rgba(60, 64, 67, 0.3), 0px 1px 3px 1px rgba(60, 64, 67, 0.15);\n",
              "      fill: #174EA6;\n",
              "    }\n",
              "\n",
              "    [theme=dark] .colab-df-convert {\n",
              "      background-color: #3B4455;\n",
              "      fill: #D2E3FC;\n",
              "    }\n",
              "\n",
              "    [theme=dark] .colab-df-convert:hover {\n",
              "      background-color: #434B5C;\n",
              "      box-shadow: 0px 1px 3px 1px rgba(0, 0, 0, 0.15);\n",
              "      filter: drop-shadow(0px 1px 2px rgba(0, 0, 0, 0.3));\n",
              "      fill: #FFFFFF;\n",
              "    }\n",
              "  </style>\n",
              "\n",
              "      <script>\n",
              "        const buttonEl =\n",
              "          document.querySelector('#df-ea6d6fed-e8ea-44d9-8ec9-31afb91b2892 button.colab-df-convert');\n",
              "        buttonEl.style.display =\n",
              "          google.colab.kernel.accessAllowed ? 'block' : 'none';\n",
              "\n",
              "        async function convertToInteractive(key) {\n",
              "          const element = document.querySelector('#df-ea6d6fed-e8ea-44d9-8ec9-31afb91b2892');\n",
              "          const dataTable =\n",
              "            await google.colab.kernel.invokeFunction('convertToInteractive',\n",
              "                                                     [key], {});\n",
              "          if (!dataTable) return;\n",
              "\n",
              "          const docLinkHtml = 'Like what you see? Visit the ' +\n",
              "            '<a target=\"_blank\" href=https://colab.research.google.com/notebooks/data_table.ipynb>data table notebook</a>'\n",
              "            + ' to learn more about interactive tables.';\n",
              "          element.innerHTML = '';\n",
              "          dataTable['output_type'] = 'display_data';\n",
              "          await google.colab.output.renderOutput(dataTable, element);\n",
              "          const docLink = document.createElement('div');\n",
              "          docLink.innerHTML = docLinkHtml;\n",
              "          element.appendChild(docLink);\n",
              "        }\n",
              "      </script>\n",
              "    </div>\n",
              "  </div>\n",
              "  "
            ]
          },
          "metadata": {}
        }
      ]
    },
    {
      "cell_type": "code",
      "source": [
        "df['y'].value_counts()"
      ],
      "metadata": {
        "colab": {
          "base_uri": "https://localhost:8080/"
        },
        "id": "t9ss__y0YGh3",
        "outputId": "8a2ad509-da55-4cd8-ca9d-348808b6a24b"
      },
      "execution_count": 13,
      "outputs": [
        {
          "output_type": "execute_result",
          "data": {
            "text/plain": [
              "2    76\n",
              "1    70\n",
              "7    29\n",
              "3    17\n",
              "5    13\n",
              "6     9\n",
              "Name: y, dtype: int64"
            ]
          },
          "metadata": {},
          "execution_count": 13
        }
      ]
    },
    {
      "cell_type": "markdown",
      "source": [
        "- Class 1 : 빌딩 창문(float processed)\n",
        "- Class 2 : 빌딩 창문(non-float preocessed)\n",
        "- Class 3 : 자동차 창문(float preocessed)\n",
        "- Class 4 : 자동차 창문(non-float processed)\n",
        "- Class 5 : 컨테이너\n",
        "- Class 6 : 식기류\n",
        "- Class 7 : 헤드램프"
      ],
      "metadata": {
        "id": "dC-uSxPaZF9_"
      }
    },
    {
      "cell_type": "code",
      "source": [
        "y = df['y']\n",
        "X = df.drop(columns=['y'])"
      ],
      "metadata": {
        "id": "Kp6keoDnb6sO"
      },
      "execution_count": 36,
      "outputs": []
    },
    {
      "cell_type": "code",
      "source": [
        "display(y.head(3))\n",
        "display(X.head(3))"
      ],
      "metadata": {
        "colab": {
          "base_uri": "https://localhost:8080/",
          "height": 217
        },
        "id": "zg05u3GecoTB",
        "outputId": "3315fb28-2da7-4b3b-cb00-b4834a825ed4"
      },
      "execution_count": 37,
      "outputs": [
        {
          "output_type": "display_data",
          "data": {
            "text/plain": [
              "0    1\n",
              "1    1\n",
              "2    1\n",
              "Name: y, dtype: int64"
            ]
          },
          "metadata": {}
        },
        {
          "output_type": "display_data",
          "data": {
            "text/plain": [
              "        RI     Na    Mg    Al     Sl     K    Ca   Ba   Fe\n",
              "0  1.52101  13.64  4.49  1.10  71.78  0.06  8.75  0.0  0.0\n",
              "1  1.51761  13.89  3.60  1.36  72.73  0.48  7.83  0.0  0.0\n",
              "2  1.51618  13.53  3.55  1.54  72.99  0.39  7.78  0.0  0.0"
            ],
            "text/html": [
              "\n",
              "  <div id=\"df-46c27766-dbaf-48a4-a5da-b2e27cf0fca1\">\n",
              "    <div class=\"colab-df-container\">\n",
              "      <div>\n",
              "<style scoped>\n",
              "    .dataframe tbody tr th:only-of-type {\n",
              "        vertical-align: middle;\n",
              "    }\n",
              "\n",
              "    .dataframe tbody tr th {\n",
              "        vertical-align: top;\n",
              "    }\n",
              "\n",
              "    .dataframe thead th {\n",
              "        text-align: right;\n",
              "    }\n",
              "</style>\n",
              "<table border=\"1\" class=\"dataframe\">\n",
              "  <thead>\n",
              "    <tr style=\"text-align: right;\">\n",
              "      <th></th>\n",
              "      <th>RI</th>\n",
              "      <th>Na</th>\n",
              "      <th>Mg</th>\n",
              "      <th>Al</th>\n",
              "      <th>Sl</th>\n",
              "      <th>K</th>\n",
              "      <th>Ca</th>\n",
              "      <th>Ba</th>\n",
              "      <th>Fe</th>\n",
              "    </tr>\n",
              "  </thead>\n",
              "  <tbody>\n",
              "    <tr>\n",
              "      <th>0</th>\n",
              "      <td>1.52101</td>\n",
              "      <td>13.64</td>\n",
              "      <td>4.49</td>\n",
              "      <td>1.10</td>\n",
              "      <td>71.78</td>\n",
              "      <td>0.06</td>\n",
              "      <td>8.75</td>\n",
              "      <td>0.0</td>\n",
              "      <td>0.0</td>\n",
              "    </tr>\n",
              "    <tr>\n",
              "      <th>1</th>\n",
              "      <td>1.51761</td>\n",
              "      <td>13.89</td>\n",
              "      <td>3.60</td>\n",
              "      <td>1.36</td>\n",
              "      <td>72.73</td>\n",
              "      <td>0.48</td>\n",
              "      <td>7.83</td>\n",
              "      <td>0.0</td>\n",
              "      <td>0.0</td>\n",
              "    </tr>\n",
              "    <tr>\n",
              "      <th>2</th>\n",
              "      <td>1.51618</td>\n",
              "      <td>13.53</td>\n",
              "      <td>3.55</td>\n",
              "      <td>1.54</td>\n",
              "      <td>72.99</td>\n",
              "      <td>0.39</td>\n",
              "      <td>7.78</td>\n",
              "      <td>0.0</td>\n",
              "      <td>0.0</td>\n",
              "    </tr>\n",
              "  </tbody>\n",
              "</table>\n",
              "</div>\n",
              "      <button class=\"colab-df-convert\" onclick=\"convertToInteractive('df-46c27766-dbaf-48a4-a5da-b2e27cf0fca1')\"\n",
              "              title=\"Convert this dataframe to an interactive table.\"\n",
              "              style=\"display:none;\">\n",
              "        \n",
              "  <svg xmlns=\"http://www.w3.org/2000/svg\" height=\"24px\"viewBox=\"0 0 24 24\"\n",
              "       width=\"24px\">\n",
              "    <path d=\"M0 0h24v24H0V0z\" fill=\"none\"/>\n",
              "    <path d=\"M18.56 5.44l.94 2.06.94-2.06 2.06-.94-2.06-.94-.94-2.06-.94 2.06-2.06.94zm-11 1L8.5 8.5l.94-2.06 2.06-.94-2.06-.94L8.5 2.5l-.94 2.06-2.06.94zm10 10l.94 2.06.94-2.06 2.06-.94-2.06-.94-.94-2.06-.94 2.06-2.06.94z\"/><path d=\"M17.41 7.96l-1.37-1.37c-.4-.4-.92-.59-1.43-.59-.52 0-1.04.2-1.43.59L10.3 9.45l-7.72 7.72c-.78.78-.78 2.05 0 2.83L4 21.41c.39.39.9.59 1.41.59.51 0 1.02-.2 1.41-.59l7.78-7.78 2.81-2.81c.8-.78.8-2.07 0-2.86zM5.41 20L4 18.59l7.72-7.72 1.47 1.35L5.41 20z\"/>\n",
              "  </svg>\n",
              "      </button>\n",
              "      \n",
              "  <style>\n",
              "    .colab-df-container {\n",
              "      display:flex;\n",
              "      flex-wrap:wrap;\n",
              "      gap: 12px;\n",
              "    }\n",
              "\n",
              "    .colab-df-convert {\n",
              "      background-color: #E8F0FE;\n",
              "      border: none;\n",
              "      border-radius: 50%;\n",
              "      cursor: pointer;\n",
              "      display: none;\n",
              "      fill: #1967D2;\n",
              "      height: 32px;\n",
              "      padding: 0 0 0 0;\n",
              "      width: 32px;\n",
              "    }\n",
              "\n",
              "    .colab-df-convert:hover {\n",
              "      background-color: #E2EBFA;\n",
              "      box-shadow: 0px 1px 2px rgba(60, 64, 67, 0.3), 0px 1px 3px 1px rgba(60, 64, 67, 0.15);\n",
              "      fill: #174EA6;\n",
              "    }\n",
              "\n",
              "    [theme=dark] .colab-df-convert {\n",
              "      background-color: #3B4455;\n",
              "      fill: #D2E3FC;\n",
              "    }\n",
              "\n",
              "    [theme=dark] .colab-df-convert:hover {\n",
              "      background-color: #434B5C;\n",
              "      box-shadow: 0px 1px 3px 1px rgba(0, 0, 0, 0.15);\n",
              "      filter: drop-shadow(0px 1px 2px rgba(0, 0, 0, 0.3));\n",
              "      fill: #FFFFFF;\n",
              "    }\n",
              "  </style>\n",
              "\n",
              "      <script>\n",
              "        const buttonEl =\n",
              "          document.querySelector('#df-46c27766-dbaf-48a4-a5da-b2e27cf0fca1 button.colab-df-convert');\n",
              "        buttonEl.style.display =\n",
              "          google.colab.kernel.accessAllowed ? 'block' : 'none';\n",
              "\n",
              "        async function convertToInteractive(key) {\n",
              "          const element = document.querySelector('#df-46c27766-dbaf-48a4-a5da-b2e27cf0fca1');\n",
              "          const dataTable =\n",
              "            await google.colab.kernel.invokeFunction('convertToInteractive',\n",
              "                                                     [key], {});\n",
              "          if (!dataTable) return;\n",
              "\n",
              "          const docLinkHtml = 'Like what you see? Visit the ' +\n",
              "            '<a target=\"_blank\" href=https://colab.research.google.com/notebooks/data_table.ipynb>data table notebook</a>'\n",
              "            + ' to learn more about interactive tables.';\n",
              "          element.innerHTML = '';\n",
              "          dataTable['output_type'] = 'display_data';\n",
              "          await google.colab.output.renderOutput(dataTable, element);\n",
              "          const docLink = document.createElement('div');\n",
              "          docLink.innerHTML = docLinkHtml;\n",
              "          element.appendChild(docLink);\n",
              "        }\n",
              "      </script>\n",
              "    </div>\n",
              "  </div>\n",
              "  "
            ]
          },
          "metadata": {}
        }
      ]
    },
    {
      "cell_type": "code",
      "source": [
        "df['y'].value_counts().sort_index().plot(kind='bar');"
      ],
      "metadata": {
        "colab": {
          "base_uri": "https://localhost:8080/",
          "height": 262
        },
        "id": "oypbHMVzZEA_",
        "outputId": "5736a89e-4688-47da-adb7-5d282cd10412"
      },
      "execution_count": 22,
      "outputs": [
        {
          "output_type": "display_data",
          "data": {
            "text/plain": [
              "<Figure size 432x288 with 1 Axes>"
            ],
            "image/png": "[encoded data removed]"
          },
          "metadata": {
            "needs_background": "light"
          }
        }
      ]
    },
    {
      "cell_type": "code",
      "source": [
        "counter = Counter(y)\n",
        "for k,v in counter.items():\n",
        "  print(f\"Class={k}, n={v}, {round(v/len(y)*100,2)}%\")\n"
      ],
      "metadata": {
        "colab": {
          "base_uri": "https://localhost:8080/"
        },
        "id": "xtzGXy9EZlMv",
        "outputId": "15eb5255-2d65-46e2-90ff-31268487e6ed"
      },
      "execution_count": 43,
      "outputs": [
        {
          "output_type": "stream",
          "name": "stdout",
          "text": [
            "Class=1, n=70, 32.71%\n",
            "Class=2, n=76, 35.51%\n",
            "Class=3, n=17, 7.94%\n",
            "Class=5, n=13, 6.07%\n",
            "Class=6, n=9, 4.21%\n",
            "Class=7, n=29, 13.55%\n"
          ]
        }
      ]
    },
    {
      "cell_type": "code",
      "source": [
        "from sklearn.model_selection import train_test_split\n",
        "\n",
        "X_train_m, X_test_m, y_train_m, y_test_m = train_test_split(X,y, test_size=0.3,\n",
        "                                                           random_state=0)\n",
        "\n",
        "print(X_train_m.shape)\n",
        "print(X_test_m.shape)\n",
        "print(y_train_m.shape)\n",
        "print(y_test_m.shape)"
      ],
      "metadata": {
        "colab": {
          "base_uri": "https://localhost:8080/"
        },
        "id": "nMCacqx5kY37",
        "outputId": "a26b8ab1-978d-4364-9834-c1cbe6d0e158"
      },
      "execution_count": 71,
      "outputs": [
        {
          "output_type": "stream",
          "name": "stdout",
          "text": [
            "(149, 9)\n",
            "(65, 9)\n",
            "(149,)\n",
            "(65,)\n"
          ]
        }
      ]
    },
    {
      "cell_type": "code",
      "source": [
        "from sklearn.ensemble import RandomForestClassifier\n",
        "\n",
        "model = RandomForestClassifier()\n",
        "model.fit(X_train_m, y_train_m)\n",
        "pred = model.predict_proba(X_test_m)\n",
        "\n",
        "from sklearn.metrics import roc_auc_score\n",
        "\n",
        "print(roc_auc_score(y_test_m, pred, multi_class='ovr'))"
      ],
      "metadata": {
        "colab": {
          "base_uri": "https://localhost:8080/"
        },
        "id": "FI08foLGnMRt",
        "outputId": "cbf85494-7d9f-4312-dcd5-8c3f3a18a13d"
      },
      "execution_count": 82,
      "outputs": [
        {
          "output_type": "stream",
          "name": "stdout",
          "text": [
            "0.9393671830674483\n"
          ]
        }
      ]
    },
    {
      "cell_type": "markdown",
      "source": [
        "- 불균형 데이터 처리\n",
        ": Under Sampling 이나 단순 Over Sampling을 권장하지 않는 방법"
      ],
      "metadata": {
        "id": "zLQSz2wWdUAt"
      }
    },
    {
      "cell_type": "markdown",
      "source": [
        "### Under sampling - 언더 샘플링"
      ],
      "metadata": {
        "id": "w_2Q2xpldb3V"
      }
    },
    {
      "cell_type": "code",
      "source": [
        "from imblearn.under_sampling import RandomUnderSampler\n",
        "\n",
        "x_resampled, y_resampled = RandomUnderSampler(random_state=0).fit_resample(X,y)\n",
        "\n",
        "counter = Counter(y_resampled)\n",
        "for k,v in counter.items():\n",
        "  print(f\"Class ={k}, n={v}, {round(v/len(y_resampled)*100,2)}%\")"
      ],
      "metadata": {
        "colab": {
          "base_uri": "https://localhost:8080/"
        },
        "id": "bO2dvue6cXGE",
        "outputId": "37aa00eb-ffc0-45c1-ea52-befb8a8457b6"
      },
      "execution_count": 88,
      "outputs": [
        {
          "output_type": "stream",
          "name": "stdout",
          "text": [
            "Class =1, n=9, 16.67%\n",
            "Class =2, n=9, 16.67%\n",
            "Class =3, n=9, 16.67%\n",
            "Class =5, n=9, 16.67%\n",
            "Class =6, n=9, 16.67%\n",
            "Class =7, n=9, 16.67%\n"
          ]
        }
      ]
    },
    {
      "cell_type": "markdown",
      "source": [
        "-> Undersampling은 잠재적으로 정보의 가치가 높은 데이터도 버려서 유용한 데이터가 사라지는 위험이 있음..."
      ],
      "metadata": {
        "id": "GDizKrkGdxkb"
      }
    },
    {
      "cell_type": "code",
      "source": [
        "from sklearn.model_selection import train_test_split\n",
        "\n",
        "X_train_m, X_test_m, y_train_m, y_test_m = train_test_split(x_resampled, y_resampled, \n",
        "                                                            test_size=0.3,\n",
        "                                                           random_state=0)\n",
        "\n",
        "print(X_train_m.shape)\n",
        "print(X_test_m.shape)\n",
        "print(y_train_m.shape)\n",
        "print(y_test_m.shape)\n",
        "\n",
        "\n",
        "from sklearn.ensemble import RandomForestClassifier\n",
        "\n",
        "model = RandomForestClassifier()\n",
        "model.fit(X_train_m, y_train_m)\n",
        "pred = model.predict_proba(X_test_m)\n",
        "\n",
        "from sklearn.metrics import roc_auc_score\n",
        "\n",
        "print(roc_auc_score(y_test_m, pred, multi_class='ovr'))"
      ],
      "metadata": {
        "colab": {
          "base_uri": "https://localhost:8080/"
        },
        "id": "h_K3C5cMnw_w",
        "outputId": "61e1016c-08cf-46ad-fa7a-ade9d6c44540"
      },
      "execution_count": 89,
      "outputs": [
        {
          "output_type": "stream",
          "name": "stdout",
          "text": [
            "(37, 9)\n",
            "(17, 9)\n",
            "(37,)\n",
            "(17,)\n",
            "0.8992063492063492\n"
          ]
        }
      ]
    },
    {
      "cell_type": "markdown",
      "source": [
        "### Over Sampling - 오버 샘플링"
      ],
      "metadata": {
        "id": "Ya8TtQvdea5H"
      }
    },
    {
      "cell_type": "code",
      "source": [
        "from imblearn.over_sampling import RandomOverSampler\n",
        "\n",
        "x_resampled, y_resampled = RandomOverSampler(random_state=0).fit_resample(X,y)\n",
        "\n",
        "counter = Counter(y_resampled)\n",
        "\n",
        "for i,v in counter.items():\n",
        "  print(f\"Class = {i}, n={v}, {round(v/len(y_resampled)*100,2)}%\")\n"
      ],
      "metadata": {
        "colab": {
          "base_uri": "https://localhost:8080/"
        },
        "id": "XLdVXuphdpkp",
        "outputId": "41468dd0-1fb8-4edb-e994-2ce89f3bed15"
      },
      "execution_count": 90,
      "outputs": [
        {
          "output_type": "stream",
          "name": "stdout",
          "text": [
            "Class = 1, n=76, 16.67%\n",
            "Class = 2, n=76, 16.67%\n",
            "Class = 3, n=76, 16.67%\n",
            "Class = 5, n=76, 16.67%\n",
            "Class = 6, n=76, 16.67%\n",
            "Class = 7, n=76, 16.67%\n"
          ]
        }
      ]
    },
    {
      "cell_type": "markdown",
      "source": [
        "-> 모든 클래스의 데이터가 76개로 통일되었으나, 동일 데이터를 똑같이 복사해서 수만 늘리는 것으로 오버 피팅의 위험이 생김"
      ],
      "metadata": {
        "id": "l98uodOCfNPF"
      }
    },
    {
      "cell_type": "code",
      "source": [
        "from sklearn.model_selection import train_test_split\n",
        "\n",
        "X_train_m, X_test_m, y_train_m, y_test_m = train_test_split(x_resampled, y_resampled, \n",
        "                                                            test_size=0.3,\n",
        "                                                           random_state=0)\n",
        "\n",
        "print(X_train_m.shape)\n",
        "print(X_test_m.shape)\n",
        "print(y_train_m.shape)\n",
        "print(y_test_m.shape)\n",
        "\n",
        "\n",
        "from sklearn.ensemble import RandomForestClassifier\n",
        "\n",
        "model = RandomForestClassifier()\n",
        "model.fit(X_train_m, y_train_m)\n",
        "pred = model.predict_proba(X_test_m)\n",
        "\n",
        "from sklearn.metrics import roc_auc_score\n",
        "\n",
        "print(roc_auc_score(y_test_m, pred, multi_class='ovr'))"
      ],
      "metadata": {
        "colab": {
          "base_uri": "https://localhost:8080/"
        },
        "id": "BZCKkPdgoLWo",
        "outputId": "212ab818-a6e4-4efc-ce0f-73e91c760744"
      },
      "execution_count": 91,
      "outputs": [
        {
          "output_type": "stream",
          "name": "stdout",
          "text": [
            "(319, 9)\n",
            "(137, 9)\n",
            "(319,)\n",
            "(137,)\n",
            "0.9865663812798798\n"
          ]
        }
      ]
    },
    {
      "cell_type": "markdown",
      "source": [
        "### Algorithm Over Sampling (알고리즘을 통한 오버샘플링)\n",
        "\n",
        "- SMOTE, ADASYN"
      ],
      "metadata": {
        "id": "OvPQ5bZwfTA9"
      }
    },
    {
      "cell_type": "markdown",
      "source": [
        "#### SMOTE\n",
        "\n",
        "1. 먼저 소수 클래스에서 각각의 샘플들의 knn(k-nearest neighbors) 찾음\n",
        "2. 그 이웃들 사이에 선을 그어 무작위 점 생성"
      ],
      "metadata": {
        "id": "g9IAfMzJfgZk"
      }
    },
    {
      "cell_type": "code",
      "source": [
        "from imblearn.over_sampling import SMOTE\n",
        "\n",
        "x_resampled, y_resampled = SMOTE(random_state=0).fit_resample(X,y)\n",
        "\n",
        "counter = Counter(y_resampled)\n",
        "\n",
        "for i,v in counter.items():\n",
        "  print(f\"Class={i}, n={v}, {round(v/len(y_resampled)*100,2)}%\")"
      ],
      "metadata": {
        "colab": {
          "base_uri": "https://localhost:8080/"
        },
        "id": "a-IkrS7he_u6",
        "outputId": "d0c79104-6a36-4ea2-c8c8-020b9166358e"
      },
      "execution_count": 92,
      "outputs": [
        {
          "output_type": "stream",
          "name": "stdout",
          "text": [
            "Class=1, n=76, 16.67%\n",
            "Class=2, n=76, 16.67%\n",
            "Class=3, n=76, 16.67%\n",
            "Class=5, n=76, 16.67%\n",
            "Class=6, n=76, 16.67%\n",
            "Class=7, n=76, 16.67%\n"
          ]
        }
      ]
    },
    {
      "cell_type": "markdown",
      "source": [
        "-> 완전히 동일하지는 않지만 샘플들 사이의 특성을 반영한 데이터 생성되어 오버 피팅에 나름대로 강한 데이터 생성됨 (없지는 않음)"
      ],
      "metadata": {
        "id": "VAFtn8iSglsx"
      }
    },
    {
      "cell_type": "code",
      "source": [
        "from sklearn.model_selection import train_test_split\n",
        "\n",
        "X_train_m, X_test_m, y_train_m, y_test_m = train_test_split(x_resampled, y_resampled, \n",
        "                                                            test_size=0.3,\n",
        "                                                           random_state=0)\n",
        "\n",
        "print(X_train_m.shape)\n",
        "print(X_test_m.shape)\n",
        "print(y_train_m.shape)\n",
        "print(y_test_m.shape)\n",
        "\n",
        "\n",
        "from sklearn.ensemble import RandomForestClassifier\n",
        "\n",
        "model = RandomForestClassifier()\n",
        "model.fit(X_train_m, y_train_m)\n",
        "pred = model.predict_proba(X_test_m)\n",
        "\n",
        "from sklearn.metrics import roc_auc_score\n",
        "\n",
        "print(roc_auc_score(y_test_m, pred, multi_class='ovr'))"
      ],
      "metadata": {
        "colab": {
          "base_uri": "https://localhost:8080/"
        },
        "id": "tHP-rlREoPrQ",
        "outputId": "cffd46a0-b5e6-4053-b584-a7dd9901aa58"
      },
      "execution_count": 93,
      "outputs": [
        {
          "output_type": "stream",
          "name": "stdout",
          "text": [
            "(319, 9)\n",
            "(137, 9)\n",
            "(319,)\n",
            "(137,)\n",
            "0.9780510739225461\n"
          ]
        }
      ]
    },
    {
      "cell_type": "markdown",
      "source": [
        "#### ADASYN\n",
        "\n",
        "- SMOTE의 개선된 버전, 동일한 프로세스를 진행한 후 점들에 임의의 작은 값을 더해줌으로써 조금 더 사실적인 데이터가 생성됨.\n",
        "- 모든 표본이 약간 분산됨"
      ],
      "metadata": {
        "id": "KBJZ93WThK68"
      }
    },
    {
      "cell_type": "code",
      "source": [
        "from imblearn.over_sampling import ADASYN\n",
        "\n",
        "x_resampled, y_resampled = ADASYN(sampling_strategy = 'minority').fit_resample(X,y)\n",
        "\n",
        "counter = Counter(y_resampled)\n",
        "\n",
        "for i,v in counter.items():\n",
        "  print(f\"Class={i}, n={v}, {round(v/len(y_resampled)*100,2)}%\")"
      ],
      "metadata": {
        "colab": {
          "base_uri": "https://localhost:8080/"
        },
        "id": "YUXGvzr2geB1",
        "outputId": "4e763547-0bc1-48d6-c802-6445f2d28d35"
      },
      "execution_count": 96,
      "outputs": [
        {
          "output_type": "stream",
          "name": "stdout",
          "text": [
            "Class=1, n=70, 24.73%\n",
            "Class=2, n=76, 26.86%\n",
            "Class=3, n=17, 6.01%\n",
            "Class=5, n=13, 4.59%\n",
            "Class=6, n=78, 27.56%\n",
            "Class=7, n=29, 10.25%\n"
          ]
        }
      ]
    },
    {
      "cell_type": "code",
      "source": [
        "from sklearn.model_selection import train_test_split\n",
        "\n",
        "X_train_m, X_test_m, y_train_m, y_test_m = train_test_split(x_resampled, y_resampled, \n",
        "                                                            test_size=0.3,\n",
        "                                                           random_state=0)\n",
        "\n",
        "print(X_train_m.shape)\n",
        "print(X_test_m.shape)\n",
        "print(y_train_m.shape)\n",
        "print(y_test_m.shape)\n",
        "\n",
        "\n",
        "from sklearn.ensemble import RandomForestClassifier\n",
        "\n",
        "model = RandomForestClassifier()\n",
        "model.fit(X_train_m, y_train_m)\n",
        "pred = model.predict_proba(X_test_m)\n",
        "\n",
        "from sklearn.metrics import roc_auc_score\n",
        "\n",
        "print(roc_auc_score(y_test_m, pred, multi_class='ovr'))"
      ],
      "metadata": {
        "colab": {
          "base_uri": "https://localhost:8080/"
        },
        "id": "OxokQx0HoSXp",
        "outputId": "f2a61665-6b2a-4737-f27e-b931f5cc2839"
      },
      "execution_count": 97,
      "outputs": [
        {
          "output_type": "stream",
          "name": "stdout",
          "text": [
            "(198, 9)\n",
            "(85, 9)\n",
            "(198,)\n",
            "(85,)\n",
            "0.9460225301741406\n"
          ]
        }
      ]
    },
    {
      "cell_type": "markdown",
      "source": [
        "### Cost-sensitive learning\n",
        "- 데이터 자체를 생성하지는 않지만, 머신러닝을 학습할 때 소수의 클래스에 대한 cost 값에 가중치를 더 많이 주어 균형 잡힌 학습을 가능하게 하는 방법"
      ],
      "metadata": {
        "id": "A6Nqt7fsjs5E"
      }
    },
    {
      "cell_type": "code",
      "source": [
        "from numpy import mean, std\n",
        "from sklearn.model_selection import RepeatedStratifiedKFold, cross_val_score\n",
        "\n",
        "\n",
        "def evaluate_model(X_, y_, model_):\n",
        "    cv = RepeatedStratifiedKFold(n_splits=5, n_repeats=3, random_state=1)\n",
        "    scores = cross_val_score(model_, X_, y_, scoring='accuracy', cv=cv, n_jobs=-1)\n",
        "    return scores\n",
        "\n",
        "model = RandomForestClassifier(n_estimators=1000)\n",
        "scores = evaluate_model(X, y, model)\n",
        "print('Mean Accuracy No weight: %.3f (%.3f)' % (mean(scores), std(scores)))\n",
        "\n",
        "weights = {1:1.0, 2:1.0, 3:2.0, 5:2.0, 6:2.0, 7:2.0}\n",
        "model = RandomForestClassifier(n_estimators=1000, class_weight=weights)\n",
        "scores = evaluate_model(X, y, model)\n",
        "print('Mean Accuracy    weight: %.3f (%.3f)' % (mean(scores), std(scores)))"
      ],
      "metadata": {
        "colab": {
          "base_uri": "https://localhost:8080/"
        },
        "id": "_vwRlW4Dis3p",
        "outputId": "aa6d2bc3-bc05-4d71-e20f-09850c25cbb4"
      },
      "execution_count": 99,
      "outputs": [
        {
          "output_type": "stream",
          "name": "stdout",
          "text": [
            "Mean Accuracy No weight: 0.799 (0.056)\n",
            "Mean Accuracy    weight: 0.807 (0.051)\n"
          ]
        }
      ]
    },
    {
      "cell_type": "code",
      "source": [
        ""
      ],
      "metadata": {
        "id": "ZKNic0pgpiV7"
      },
      "execution_count": null,
      "outputs": []
    }
  ]
}