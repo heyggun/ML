{
  "nbformat": 4,
  "nbformat_minor": 0,
  "metadata": {
    "colab": {
      "name": "12. Cross Validation(K_fold, StratifiedK_fold).ipynb",
      "provenance": [],
      "authorship_tag": "ABX9TyN63D5gFhgygy0X+QKaYRRn",
      "include_colab_link": true
    },
    "kernelspec": {
      "name": "python3",
      "display_name": "Python 3"
    },
    "language_info": {
      "name": "python"
    }
  },
  "cells": [
    {
      "cell_type": "markdown",
      "metadata": {
        "id": "view-in-github",
        "colab_type": "text"
      },
      "source": [
        "<a href=\"https://colab.research.google.com/github/heyggun/ML/blob/main/12_Cross_Validation(K_fold%2C_StratifiedK_fold).ipynb\" target=\"_parent\"><img src=\"https://colab.research.google.com/assets/colab-badge.svg\" alt=\"Open In Colab\"/></a>"
      ]
    },
    {
      "cell_type": "code",
      "execution_count": 2,
      "metadata": {
        "id": "ZcL2fRA597XV"
      },
      "outputs": [],
      "source": [
        "import pandas as pd\n",
        "import numpy as np\n",
        "\n",
        "from sklearn.model_selection import KFold\n",
        "from sklearn.model_selection import train_test_split\n",
        "\n",
        "from sklearn.tree import DecisionTreeClassifier"
      ]
    },
    {
      "cell_type": "markdown",
      "source": [
        "#### K-fold 교차검증"
      ],
      "metadata": {
        "id": "M0Ug3iym-c4c"
      }
    },
    {
      "cell_type": "markdown",
      "source": [
        "- 일단 iris 데이터로 실습"
      ],
      "metadata": {
        "id": "x92WSyyh-fus"
      }
    },
    {
      "cell_type": "code",
      "source": [
        "from sklearn.datasets import load_iris"
      ],
      "metadata": {
        "id": "zDZOkPSo-YE6"
      },
      "execution_count": 3,
      "outputs": []
    },
    {
      "cell_type": "code",
      "source": [
        "fold_iris = load_iris()\n",
        "print(fold_iris.keys())"
      ],
      "metadata": {
        "colab": {
          "base_uri": "https://localhost:8080/"
        },
        "id": "bBLo7oPA-XYM",
        "outputId": "60f778a8-afbc-42a0-8dea-aa7cd4c1af7e"
      },
      "execution_count": 7,
      "outputs": [
        {
          "output_type": "stream",
          "name": "stdout",
          "text": [
            "dict_keys(['data', 'target', 'frame', 'target_names', 'DESCR', 'feature_names', 'filename', 'data_module'])\n"
          ]
        }
      ]
    },
    {
      "cell_type": "code",
      "source": [
        "features = fold_iris.data\n",
        "label = fold_iris.target\n",
        "\n",
        "fold_df_clf = DecisionTreeClassifier()"
      ],
      "metadata": {
        "id": "dm3o-gMJ-mBW"
      },
      "execution_count": 14,
      "outputs": []
    },
    {
      "cell_type": "code",
      "source": [
        "Kfold = KFold(n_splits=5)\n",
        "cv_accuracy = []"
      ],
      "metadata": {
        "id": "whdsI12Y-49l"
      },
      "execution_count": 11,
      "outputs": []
    },
    {
      "cell_type": "code",
      "source": [
        "from sklearn.metrics import accuracy_score"
      ],
      "metadata": {
        "id": "da3_BF4DAc0P"
      },
      "execution_count": 18,
      "outputs": []
    },
    {
      "cell_type": "code",
      "source": [
        "n_iter = 0\n",
        "\n",
        "for train_idx, test_idx in Kfold.split(features):\n",
        "\n",
        "  X_train, X_test = features[train_idx], features[test_idx]\n",
        "  y_train, y_test = label[train_idx], label[test_idx]\n",
        "\n",
        "  # 학습\n",
        "  fold_df_clf.fit(X_train, y_train)\n",
        "  # 예측\n",
        "  fold_pred = fold_df_clf.predict(X_test)\n",
        "\n",
        "  #정확도 측정\n",
        "  n_iter +=1\n",
        "  accuracy = np.round(accuracy_score(y_test, fold_pred), 4)\n",
        "  print(f\"{n_iter}, 교차 검증 정확도 : {accuracy}, 학습 데이터 크기 : {X_train.shape[0]}, 검증 데이터 크기 : {X_test.shape[0]}\")\n",
        "  cv_accuracy.append(accuracy)\n",
        "\n",
        "print(f\"평균 검증 정확도: {np.mean(cv_accuracy)}\")"
      ],
      "metadata": {
        "colab": {
          "base_uri": "https://localhost:8080/"
        },
        "id": "1V6rWi0r-90T",
        "outputId": "dc2455a3-0951-4cd0-fb6b-3ad84248ef9c"
      },
      "execution_count": 21,
      "outputs": [
        {
          "output_type": "stream",
          "name": "stdout",
          "text": [
            "1, 교차 검증 정확도 : 1.0, 학습 데이터 크기 : 120, 검증 데이터 크기 : 30\n",
            "2, 교차 검증 정확도 : 0.9667, 학습 데이터 크기 : 120, 검증 데이터 크기 : 30\n",
            "3, 교차 검증 정확도 : 0.8333, 학습 데이터 크기 : 120, 검증 데이터 크기 : 30\n",
            "4, 교차 검증 정확도 : 0.9333, 학습 데이터 크기 : 120, 검증 데이터 크기 : 30\n",
            "5, 교차 검증 정확도 : 0.7333, 학습 데이터 크기 : 120, 검증 데이터 크기 : 30\n",
            "평균 검증 정확도: 0.8933199999999999\n"
          ]
        }
      ]
    },
    {
      "cell_type": "markdown",
      "source": [
        "< k-fold의 문제점 >\n",
        "\n",
        "-  일정한 간격으로 잘라서 사용하기 때문에, 만약 label이 0,1,2 이지만 0,1만 가지고 학습할 경우 2라는 답을 도출할 수 없어짐\n",
        "\n",
        "아래 예시 코드 참고\n",
        "\n"
      ],
      "metadata": {
        "id": "WtKVThAMAo_0"
      }
    },
    {
      "cell_type": "code",
      "source": [
        "# 기존 Kfold 문제점\n",
        "\n",
        "kfold_iris_data = load_iris()\n",
        "kfold_iris_data_df = pd.DataFrame(data=kfold_iris_data.data, columns= kfold_iris_data.feature_names)\n",
        "kfold_iris_data_df['target'] = kfold_iris_data.target\n",
        "\n",
        "kfold_iris_data_df['target'].value_counts()"
      ],
      "metadata": {
        "colab": {
          "base_uri": "https://localhost:8080/"
        },
        "id": "de7M7mwn_aVB",
        "outputId": "cc0e91e9-264c-489e-809f-fa4292b392d7"
      },
      "execution_count": 23,
      "outputs": [
        {
          "output_type": "execute_result",
          "data": {
            "text/plain": [
              "0    50\n",
              "1    50\n",
              "2    50\n",
              "Name: target, dtype: int64"
            ]
          },
          "metadata": {},
          "execution_count": 23
        }
      ]
    },
    {
      "cell_type": "code",
      "source": [
        "display(kfold_iris_data_df.head(3))"
      ],
      "metadata": {
        "colab": {
          "base_uri": "https://localhost:8080/",
          "height": 143
        },
        "id": "2XVXoo_WBS1g",
        "outputId": "930535cb-b34a-4305-80b8-d3181901f54f"
      },
      "execution_count": 24,
      "outputs": [
        {
          "output_type": "display_data",
          "data": {
            "text/plain": [
              "   sepal length (cm)  sepal width (cm)  petal length (cm)  petal width (cm)  \\\n",
              "0                5.1               3.5                1.4               0.2   \n",
              "1                4.9               3.0                1.4               0.2   \n",
              "2                4.7               3.2                1.3               0.2   \n",
              "\n",
              "   target  \n",
              "0       0  \n",
              "1       0  \n",
              "2       0  "
            ],
            "text/html": [
              "\n",
              "  <div id=\"df-ba8e222a-85c4-4f7d-a2f7-6ec6badb769a\">\n",
              "    <div class=\"colab-df-container\">\n",
              "      <div>\n",
              "<style scoped>\n",
              "    .dataframe tbody tr th:only-of-type {\n",
              "        vertical-align: middle;\n",
              "    }\n",
              "\n",
              "    .dataframe tbody tr th {\n",
              "        vertical-align: top;\n",
              "    }\n",
              "\n",
              "    .dataframe thead th {\n",
              "        text-align: right;\n",
              "    }\n",
              "</style>\n",
              "<table border=\"1\" class=\"dataframe\">\n",
              "  <thead>\n",
              "    <tr style=\"text-align: right;\">\n",
              "      <th></th>\n",
              "      <th>sepal length (cm)</th>\n",
              "      <th>sepal width (cm)</th>\n",
              "      <th>petal length (cm)</th>\n",
              "      <th>petal width (cm)</th>\n",
              "      <th>target</th>\n",
              "    </tr>\n",
              "  </thead>\n",
              "  <tbody>\n",
              "    <tr>\n",
              "      <th>0</th>\n",
              "      <td>5.1</td>\n",
              "      <td>3.5</td>\n",
              "      <td>1.4</td>\n",
              "      <td>0.2</td>\n",
              "      <td>0</td>\n",
              "    </tr>\n",
              "    <tr>\n",
              "      <th>1</th>\n",
              "      <td>4.9</td>\n",
              "      <td>3.0</td>\n",
              "      <td>1.4</td>\n",
              "      <td>0.2</td>\n",
              "      <td>0</td>\n",
              "    </tr>\n",
              "    <tr>\n",
              "      <th>2</th>\n",
              "      <td>4.7</td>\n",
              "      <td>3.2</td>\n",
              "      <td>1.3</td>\n",
              "      <td>0.2</td>\n",
              "      <td>0</td>\n",
              "    </tr>\n",
              "  </tbody>\n",
              "</table>\n",
              "</div>\n",
              "      <button class=\"colab-df-convert\" onclick=\"convertToInteractive('df-ba8e222a-85c4-4f7d-a2f7-6ec6badb769a')\"\n",
              "              title=\"Convert this dataframe to an interactive table.\"\n",
              "              style=\"display:none;\">\n",
              "        \n",
              "  <svg xmlns=\"http://www.w3.org/2000/svg\" height=\"24px\"viewBox=\"0 0 24 24\"\n",
              "       width=\"24px\">\n",
              "    <path d=\"M0 0h24v24H0V0z\" fill=\"none\"/>\n",
              "    <path d=\"M18.56 5.44l.94 2.06.94-2.06 2.06-.94-2.06-.94-.94-2.06-.94 2.06-2.06.94zm-11 1L8.5 8.5l.94-2.06 2.06-.94-2.06-.94L8.5 2.5l-.94 2.06-2.06.94zm10 10l.94 2.06.94-2.06 2.06-.94-2.06-.94-.94-2.06-.94 2.06-2.06.94z\"/><path d=\"M17.41 7.96l-1.37-1.37c-.4-.4-.92-.59-1.43-.59-.52 0-1.04.2-1.43.59L10.3 9.45l-7.72 7.72c-.78.78-.78 2.05 0 2.83L4 21.41c.39.39.9.59 1.41.59.51 0 1.02-.2 1.41-.59l7.78-7.78 2.81-2.81c.8-.78.8-2.07 0-2.86zM5.41 20L4 18.59l7.72-7.72 1.47 1.35L5.41 20z\"/>\n",
              "  </svg>\n",
              "      </button>\n",
              "      \n",
              "  <style>\n",
              "    .colab-df-container {\n",
              "      display:flex;\n",
              "      flex-wrap:wrap;\n",
              "      gap: 12px;\n",
              "    }\n",
              "\n",
              "    .colab-df-convert {\n",
              "      background-color: #E8F0FE;\n",
              "      border: none;\n",
              "      border-radius: 50%;\n",
              "      cursor: pointer;\n",
              "      display: none;\n",
              "      fill: #1967D2;\n",
              "      height: 32px;\n",
              "      padding: 0 0 0 0;\n",
              "      width: 32px;\n",
              "    }\n",
              "\n",
              "    .colab-df-convert:hover {\n",
              "      background-color: #E2EBFA;\n",
              "      box-shadow: 0px 1px 2px rgba(60, 64, 67, 0.3), 0px 1px 3px 1px rgba(60, 64, 67, 0.15);\n",
              "      fill: #174EA6;\n",
              "    }\n",
              "\n",
              "    [theme=dark] .colab-df-convert {\n",
              "      background-color: #3B4455;\n",
              "      fill: #D2E3FC;\n",
              "    }\n",
              "\n",
              "    [theme=dark] .colab-df-convert:hover {\n",
              "      background-color: #434B5C;\n",
              "      box-shadow: 0px 1px 3px 1px rgba(0, 0, 0, 0.15);\n",
              "      filter: drop-shadow(0px 1px 2px rgba(0, 0, 0, 0.3));\n",
              "      fill: #FFFFFF;\n",
              "    }\n",
              "  </style>\n",
              "\n",
              "      <script>\n",
              "        const buttonEl =\n",
              "          document.querySelector('#df-ba8e222a-85c4-4f7d-a2f7-6ec6badb769a button.colab-df-convert');\n",
              "        buttonEl.style.display =\n",
              "          google.colab.kernel.accessAllowed ? 'block' : 'none';\n",
              "\n",
              "        async function convertToInteractive(key) {\n",
              "          const element = document.querySelector('#df-ba8e222a-85c4-4f7d-a2f7-6ec6badb769a');\n",
              "          const dataTable =\n",
              "            await google.colab.kernel.invokeFunction('convertToInteractive',\n",
              "                                                     [key], {});\n",
              "          if (!dataTable) return;\n",
              "\n",
              "          const docLinkHtml = 'Like what you see? Visit the ' +\n",
              "            '<a target=\"_blank\" href=https://colab.research.google.com/notebooks/data_table.ipynb>data table notebook</a>'\n",
              "            + ' to learn more about interactive tables.';\n",
              "          element.innerHTML = '';\n",
              "          dataTable['output_type'] = 'display_data';\n",
              "          await google.colab.output.renderOutput(dataTable, element);\n",
              "          const docLink = document.createElement('div');\n",
              "          docLink.innerHTML = docLinkHtml;\n",
              "          element.appendChild(docLink);\n",
              "        }\n",
              "      </script>\n",
              "    </div>\n",
              "  </div>\n",
              "  "
            ]
          },
          "metadata": {}
        }
      ]
    },
    {
      "cell_type": "code",
      "source": [
        "kfold_iris = KFold(n_splits=3)\n",
        "cnt_iter= 0\n",
        "\n",
        "for train_idx, test_inx in kfold_iris.split(kfold_iris_data_df):\n",
        "\n",
        "  cnt_iter+=1\n",
        "  label_train = kfold_iris_data_df['target'].iloc[train_idx]\n",
        "  label_test = kfold_iris_data_df['target'].iloc[test_idx]\n",
        "\n",
        "  print(f\"교차검증 {cnt_iter}\")\n",
        "  print(f\"학습 레이블 데이터 분포 \\n: {label_train.value_counts()}\")\n",
        "  print(f\"검증 레이블 데이터 분포 : {label_test.value_counts()}\")"
      ],
      "metadata": {
        "colab": {
          "base_uri": "https://localhost:8080/"
        },
        "id": "9ztA4AaHBZqA",
        "outputId": "d2430af2-6321-4c81-b51d-ca5badf5dd2b"
      },
      "execution_count": 27,
      "outputs": [
        {
          "output_type": "stream",
          "name": "stdout",
          "text": [
            "교차검증 1\n",
            "학습 레이블 데이터 분포 \n",
            ": 1    50\n",
            "2    50\n",
            "Name: target, dtype: int64\n",
            "검증 레이블 데이터 분포 \n",
            ": 2    30\n",
            "Name: target, dtype: int64\n",
            "교차검증 2\n",
            "학습 레이블 데이터 분포 \n",
            ": 0    50\n",
            "2    50\n",
            "Name: target, dtype: int64\n",
            "검증 레이블 데이터 분포 \n",
            ": 2    30\n",
            "Name: target, dtype: int64\n",
            "교차검증 3\n",
            "학습 레이블 데이터 분포 \n",
            ": 0    50\n",
            "1    50\n",
            "Name: target, dtype: int64\n",
            "검증 레이블 데이터 분포 \n",
            ": 2    30\n",
            "Name: target, dtype: int64\n"
          ]
        }
      ]
    },
    {
      "cell_type": "markdown",
      "source": [
        "## stratifiedkFold\n",
        "\n",
        "- target에 속성값의 개수를 동일하게 가져감으로써 kfold 같이 데이터가 한곳으로 몰리는 것을 방지"
      ],
      "metadata": {
        "id": "RK64rDK_G1hU"
      }
    },
    {
      "cell_type": "code",
      "source": [
        "from sklearn.model_selection import StratifiedKFold"
      ],
      "metadata": {
        "id": "toXhFlOfEG1a"
      },
      "execution_count": 28,
      "outputs": []
    },
    {
      "cell_type": "code",
      "source": [
        "skf_iris = StratifiedKFold(n_splits=3)\n",
        "cnt_iter = 0\n",
        "\n",
        "for train_idx, test_idx in skf_iris.split(kfold_iris_data_df, kfold_iris_data_df['target']):\n",
        "  cnt_iter +=1\n",
        "  label_train = kfold_iris_data_df['target'].iloc[train_idx]\n",
        "  label_test = kfold_iris_data_df['target'].iloc[test_idx]\n",
        "\n",
        "  print(f\"교차검증 : {cnt_iter}\")\n",
        "  print(f\"학습 레이블 데이터 분포 :\\n {label_train.value_counts()} \")\n",
        "  print(f\"검증 레이블 데이터 분포 :\\n {label_test.value_counts()}\")"
      ],
      "metadata": {
        "colab": {
          "base_uri": "https://localhost:8080/"
        },
        "id": "WcSXZ8AdG_2c",
        "outputId": "610841ee-369e-4a66-f432-a8089af209b8"
      },
      "execution_count": 40,
      "outputs": [
        {
          "output_type": "stream",
          "name": "stdout",
          "text": [
            "교차검증 : 1\n",
            "학습 레이블 데이터 분포 :\n",
            " 2    34\n",
            "0    33\n",
            "1    33\n",
            "Name: target, dtype: int64 \n",
            "검증 레이블 데이터 분포 :\n",
            " 0    17\n",
            "1    17\n",
            "2    16\n",
            "Name: target, dtype: int64\n",
            "교차검증 : 2\n",
            "학습 레이블 데이터 분포 :\n",
            " 1    34\n",
            "0    33\n",
            "2    33\n",
            "Name: target, dtype: int64 \n",
            "검증 레이블 데이터 분포 :\n",
            " 0    17\n",
            "2    17\n",
            "1    16\n",
            "Name: target, dtype: int64\n",
            "교차검증 : 3\n",
            "학습 레이블 데이터 분포 :\n",
            " 0    34\n",
            "1    33\n",
            "2    33\n",
            "Name: target, dtype: int64 \n",
            "검증 레이블 데이터 분포 :\n",
            " 1    17\n",
            "2    17\n",
            "0    16\n",
            "Name: target, dtype: int64\n"
          ]
        }
      ]
    },
    {
      "cell_type": "markdown",
      "source": [
        "<stratifiedKFold 예시>\n",
        "- 회귀에서는 지원하지 X"
      ],
      "metadata": {
        "id": "feq80PGuIS6X"
      }
    },
    {
      "cell_type": "code",
      "source": [
        "from sklearn.tree import DecisionTreeClassifier\n",
        "from sklearn.metrics import accuracy_score\n",
        "from sklearn.model_selection import KFold\n",
        "\n",
        "from sklearn.model_selection import StratifiedKFold\n",
        "\n",
        "import pandas as pd\n",
        "import numpy as np"
      ],
      "metadata": {
        "id": "EoYR4rCbHXNl"
      },
      "execution_count": 41,
      "outputs": []
    },
    {
      "cell_type": "code",
      "source": [
        "iris_data = load_iris()\n",
        "features = iris_data['data']\n",
        "labels = iris_data['target']\n",
        "\n",
        "clf = DecisionTreeClassifier(random_state=1234)"
      ],
      "metadata": {
        "id": "ifgiXvOWI6c7"
      },
      "execution_count": 47,
      "outputs": []
    },
    {
      "cell_type": "code",
      "source": [
        "skfold = StratifiedKFold(n_splits=3)\n",
        "idx_iter = 0\n",
        "cv_accuracy = []\n",
        "\n",
        "\n",
        "for train_idx, test_idx in skfold.split(features, labels):\n",
        "  X_train, X_test = features[train_idx], features[test_idx]\n",
        "  y_train, y_test = labels[train_idx], labels[test_idx]\n",
        "\n",
        "  clf.fit(X_train, y_train)\n",
        "  pred = clf.predict(X_test)\n",
        "\n",
        "  idx_iter +=1\n",
        "  accuracy = np.round(accuracy_score(y_test,pred),4)\n",
        "  train_size = X_train.shape[0]\n",
        "  test_size = X_test.shape[0]\n",
        "\n",
        "  print(f\"{idx_iter}, '교차 검증 정확도' : {accuracy}, '학습 데이터 크기 :' {train_size}, '검증 데이터 크기' : {test_size}\")\n",
        "  print(f\"{idx_iter}, '검증 세트 인덱스' : {test_idx}\")\n",
        "  cv_accuracy.append(accuracy)\n"
      ],
      "metadata": {
        "colab": {
          "base_uri": "https://localhost:8080/"
        },
        "id": "O9QdhXz5JMJu",
        "outputId": "e9a503d8-ebfe-4c15-c309-6ef6a6040902"
      },
      "execution_count": 50,
      "outputs": [
        {
          "output_type": "stream",
          "name": "stdout",
          "text": [
            "1, '교차 검증 정확도' : 0.98, '학습 데이터 크기 :' 100, '검증 데이터 크기' : 50\n",
            "1, '검증 세트 인덱스' : [  0   1   2   3   4   5   6   7   8   9  10  11  12  13  14  15  16  50\n",
            "  51  52  53  54  55  56  57  58  59  60  61  62  63  64  65  66 100 101\n",
            " 102 103 104 105 106 107 108 109 110 111 112 113 114 115]\n",
            "2, '교차 검증 정확도' : 0.94, '학습 데이터 크기 :' 100, '검증 데이터 크기' : 50\n",
            "2, '검증 세트 인덱스' : [ 17  18  19  20  21  22  23  24  25  26  27  28  29  30  31  32  33  67\n",
            "  68  69  70  71  72  73  74  75  76  77  78  79  80  81  82 116 117 118\n",
            " 119 120 121 122 123 124 125 126 127 128 129 130 131 132]\n",
            "3, '교차 검증 정확도' : 1.0, '학습 데이터 크기 :' 100, '검증 데이터 크기' : 50\n",
            "3, '검증 세트 인덱스' : [ 34  35  36  37  38  39  40  41  42  43  44  45  46  47  48  49  83  84\n",
            "  85  86  87  88  89  90  91  92  93  94  95  96  97  98  99 133 134 135\n",
            " 136 137 138 139 140 141 142 143 144 145 146 147 148 149]\n"
          ]
        }
      ]
    },
    {
      "cell_type": "code",
      "source": [
        "print(np.round(cv_accuracy,4))\n",
        "print(np.mean(cv_accuracy))"
      ],
      "metadata": {
        "colab": {
          "base_uri": "https://localhost:8080/"
        },
        "id": "7FU9FOPuJ_V7",
        "outputId": "b9522def-fdfd-46ec-b6c6-4473f649ced6"
      },
      "execution_count": 54,
      "outputs": [
        {
          "output_type": "stream",
          "name": "stdout",
          "text": [
            "[0.98 0.94 1.  ]\n",
            "0.9733333333333333\n"
          ]
        }
      ]
    },
    {
      "cell_type": "code",
      "source": [
        ""
      ],
      "metadata": {
        "id": "U03SNddoNFIK"
      },
      "execution_count": null,
      "outputs": []
    }
  ]
}