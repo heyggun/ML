{
  "cells": [
    {
      "cell_type": "markdown",
      "id": "679a9595",
      "metadata": {
        "id": "679a9595"
      },
      "source": [
        "## 1. 데이터 준비(MNIST)\n",
        "\n",
        "    - 손으로 쓴 숫자(0-9)에서 흑백 이미지로 구성된 데이터셋"
      ]
    },
    {
      "cell_type": "code",
      "execution_count": 1,
      "id": "64f07893",
      "metadata": {
        "id": "64f07893"
      },
      "outputs": [],
      "source": [
        "from pathlib import Path\n",
        "import requests"
      ]
    },
    {
      "cell_type": "markdown",
      "id": "3e97f280",
      "metadata": {
        "id": "3e97f280"
      },
      "source": [
        "    - 경로 설정 담당 python3 라이브러리 `pathlib` 사용\n",
        "    - request를 이용한 데이터셋 다운로드\n",
        "    - dataset은 Numpy 포맷으로, 데이터 직렬화를 위해 python 전용 pickle 이용"
      ]
    },
    {
      "cell_type": "code",
      "execution_count": 2,
      "id": "0fcd62a2",
      "metadata": {
        "id": "0fcd62a2"
      },
      "outputs": [],
      "source": [
        "DATA_PATH = Path('data')\n",
        "PATH = DATA_PATH / 'mnist'\n",
        "PATH.mkdir(parents=True, exist_ok=True)\n",
        "\n",
        "URL = \"https://github.com/pytorch/tutorials/raw/main/_static/\"\n",
        "FILENAME = 'mnist.pkl.gz'\n",
        "\n",
        "if not (PATH/FILENAME).exists():\n",
        "    content = requests.get(URL+FILENAME).content\n",
        "    (PATH/FILENAME).open('wb').write(content)"
      ]
    },
    {
      "cell_type": "code",
      "execution_count": 3,
      "id": "f2d4bccc",
      "metadata": {
        "id": "f2d4bccc"
      },
      "outputs": [],
      "source": [
        "import pickle\n",
        "import gzip\n",
        "\n",
        "with gzip.open((PATH/FILENAME).as_posix(), 'rb') as f:\n",
        "    ((x_train, y_train), (x_valid, y_valid), _) = pickle.load(f, encoding='latin-1')"
      ]
    },
    {
      "cell_type": "markdown",
      "id": "369c8b99",
      "metadata": {
        "id": "369c8b99"
      },
      "source": [
        "    - 각 이미지는 28x28 shape 이고, 784(28x28) 크기를 가진 하나의 행으로 저장되어 있음로,\n",
        "    이미지를 2d로 재구성함"
      ]
    },
    {
      "cell_type": "code",
      "execution_count": 4,
      "id": "28d2c7e7",
      "metadata": {
        "scrolled": false,
        "id": "28d2c7e7",
        "outputId": "19d430e5-6791-42a5-a1fb-d008ebd225d4",
        "colab": {
          "base_uri": "https://localhost:8080/",
          "height": 447
        }
      },
      "outputs": [
        {
          "output_type": "stream",
          "name": "stdout",
          "text": [
            "(50000, 784)\n"
          ]
        },
        {
          "output_type": "display_data",
          "data": {
            "text/plain": [
              "<Figure size 640x480 with 1 Axes>"
            ],
            "image/png": "[encoded data removed]"
          },
          "metadata": {}
        }
      ],
      "source": [
        "import matplotlib.pyplot as plt\n",
        "import numpy as np\n",
        "\n",
        "plt.imshow(x_train[0].reshape((28,28)), cmap='gray')\n",
        "print(x_train.shape)"
      ]
    },
    {
      "cell_type": "markdown",
      "id": "6ece86d4",
      "metadata": {
        "id": "6ece86d4"
      },
      "source": [
        "     - pyTorch는 Numpy 배열보다는 torch.tensor를 사용하므로 데이터 변환"
      ]
    },
    {
      "cell_type": "code",
      "execution_count": 5,
      "id": "cd005667",
      "metadata": {
        "id": "cd005667"
      },
      "outputs": [],
      "source": [
        "import torch\n",
        "\n",
        "x_train, y_train, x_valid, y_valid = map(torch.tensor, (x_train, y_train,\n",
        "                                                       x_valid, y_valid))\n",
        "\n",
        "n,c = x_train.shape"
      ]
    },
    {
      "cell_type": "markdown",
      "id": "030ae2f9",
      "metadata": {
        "id": "030ae2f9"
      },
      "source": [
        "    - x_train, y_train 및 각각의 shape 확인\n",
        "    - 각 trian 데이터에 대한 min, max 값 확인"
      ]
    },
    {
      "cell_type": "code",
      "execution_count": 6,
      "id": "5d6ece5a",
      "metadata": {
        "id": "5d6ece5a",
        "outputId": "2becdb68-9be8-4f40-facc-f0ad550c393a",
        "colab": {
          "base_uri": "https://localhost:8080/"
        }
      },
      "outputs": [
        {
          "output_type": "stream",
          "name": "stdout",
          "text": [
            " x_train -> tensor([[0., 0., 0.,  ..., 0., 0., 0.],\n",
            "        [0., 0., 0.,  ..., 0., 0., 0.],\n",
            "        [0., 0., 0.,  ..., 0., 0., 0.],\n",
            "        ...,\n",
            "        [0., 0., 0.,  ..., 0., 0., 0.],\n",
            "        [0., 0., 0.,  ..., 0., 0., 0.],\n",
            "        [0., 0., 0.,  ..., 0., 0., 0.]])\n",
            " y_train -> tensor([5, 0, 4,  ..., 8, 4, 8])\n",
            " x_train shape-> torch.Size([50000, 784]), y_train shape -> torch.Size([50000])\n",
            " y_train min -> 0, y_train max -> 9\n"
          ]
        }
      ],
      "source": [
        "print(f\" x_train -> {x_train}\")\n",
        "print(f\" y_train -> {y_train}\")\n",
        "print(f\" x_train shape-> {x_train.shape}, y_train shape -> {y_train.shape}\")\n",
        "print(f\" y_train min -> {y_train.min()}, y_train max -> {y_train.max()}\")\n"
      ]
    },
    {
      "cell_type": "code",
      "execution_count": 6,
      "id": "dab1bf20",
      "metadata": {
        "id": "dab1bf20"
      },
      "outputs": [],
      "source": []
    },
    {
      "cell_type": "markdown",
      "id": "588d9051",
      "metadata": {
        "id": "588d9051"
      },
      "source": [
        "### 2. torch.nn 없이 신경망 만들기"
      ]
    },
    {
      "cell_type": "code",
      "execution_count": 7,
      "id": "539b1b0a",
      "metadata": {
        "id": "539b1b0a"
      },
      "outputs": [],
      "source": [
        "import math"
      ]
    },
    {
      "cell_type": "markdown",
      "id": "3e8f99b5",
      "metadata": {
        "id": "3e8f99b5"
      },
      "source": [
        "    - 가중치에 대해서 초기화initialzation 한 후 설정함\n",
        "    ( 해당 단계가 기울기에 포함되는 것을 원하지 않으므로)\n",
        "    \n",
        "    - PyTorch는 기울기를 자동으로 계산해주므로,\n",
        "    간단한 선형 모델을 만들 수 있음"
      ]
    },
    {
      "cell_type": "code",
      "execution_count": 8,
      "id": "b7cefac8",
      "metadata": {
        "id": "b7cefac8"
      },
      "outputs": [],
      "source": [
        "weights = torch.randn(784, 10) / math.sqrt(784)\n",
        "weights.requires_grad_() # 가중치 초기화\n",
        "bias = torch.zeros(10, requires_grad=True)"
      ]
    },
    {
      "cell_type": "markdown",
      "id": "e3e676c7",
      "metadata": {
        "id": "e3e676c7"
      },
      "source": [
        "    - activation function -> softmax 로 구현"
      ]
    },
    {
      "cell_type": "code",
      "execution_count": 9,
      "id": "7131638b",
      "metadata": {
        "id": "7131638b"
      },
      "outputs": [],
      "source": [
        "def log_softmax(x):\n",
        "    return x - x.exp().sum(-1).log().unsqueeze(-1)\n",
        "\n",
        "def model(xb):\n",
        "    return log_softmax(xb @ weights + bias)"
      ]
    },
    {
      "cell_type": "markdown",
      "id": "8e7d60b1",
      "metadata": {
        "id": "8e7d60b1"
      },
      "source": [
        "    - 배치 (batch) 데이터로 forward learning"
      ]
    },
    {
      "cell_type": "code",
      "execution_count": 10,
      "id": "1ccb0fd1",
      "metadata": {
        "id": "1ccb0fd1",
        "outputId": "083ced28-3e43-42c2-903c-149423a38bb6",
        "colab": {
          "base_uri": "https://localhost:8080/"
        }
      },
      "outputs": [
        {
          "output_type": "stream",
          "name": "stdout",
          "text": [
            "tensor([-2.7543, -2.3307, -2.3657, -2.3212, -1.9833, -2.5499, -2.6523, -2.3881,\n",
            "        -2.0311, -1.9813], grad_fn=<SelectBackward0>) torch.Size([64, 10])\n"
          ]
        }
      ],
      "source": [
        "bs = 64\n",
        "xb= x_train[0:bs]\n",
        "preds= model(xb)\n",
        "\n",
        "print(preds[0], preds.shape)"
      ]
    },
    {
      "cell_type": "markdown",
      "id": "0ead8f4a",
      "metadata": {
        "id": "0ead8f4a"
      },
      "source": [
        "    -> 예측값 shape는 (64,10)\n",
        "    - 위의 preds tensor는 gradient function을 담고 있어서,\n",
        "    backpropagation에 사용함"
      ]
    },
    {
      "cell_type": "markdown",
      "id": "dab6ef29",
      "metadata": {
        "id": "dab6ef29"
      },
      "source": [
        "    - loss_function 을 위한 negative log-likelihood 구현"
      ]
    },
    {
      "cell_type": "code",
      "execution_count": 11,
      "id": "33c24f36",
      "metadata": {
        "id": "33c24f36"
      },
      "outputs": [],
      "source": [
        "def null(input, target):\n",
        "    return -input[range(target.shape[0]), target].mean()\n",
        "\n",
        "loss_func= null"
      ]
    },
    {
      "cell_type": "markdown",
      "id": "13a2d3b4",
      "metadata": {
        "id": "13a2d3b4"
      },
      "source": [
        "    - 위의 무작위 모델에 대한 loss 확인"
      ]
    },
    {
      "cell_type": "code",
      "execution_count": 12,
      "id": "69145d49",
      "metadata": {
        "id": "69145d49",
        "outputId": "080a6f68-9070-47ee-e383-2839ea26a9b9",
        "colab": {
          "base_uri": "https://localhost:8080/"
        }
      },
      "outputs": [
        {
          "output_type": "stream",
          "name": "stdout",
          "text": [
            "tensor(2.3143, grad_fn=<NegBackward0>)\n"
          ]
        }
      ],
      "source": [
        "yb = y_train[0:bs]\n",
        "print(loss_func(preds, yb))"
      ]
    },
    {
      "cell_type": "markdown",
      "id": "b8b809a0",
      "metadata": {
        "id": "b8b809a0"
      },
      "source": [
        "    - accuracy matrix 함수\n",
        ""
      ]
    },
    {
      "cell_type": "code",
      "execution_count": 13,
      "id": "f86c9d91",
      "metadata": {
        "id": "f86c9d91"
      },
      "outputs": [],
      "source": [
        "def accuracy(output, yb):\n",
        "    preds= torch.argmax(output, dim=1)\n",
        "    return (preds==yb).float().mean()"
      ]
    },
    {
      "cell_type": "markdown",
      "id": "b60d7b4a",
      "metadata": {
        "id": "b60d7b4a"
      },
      "source": [
        "    - 무작위 모델에 대한 accuracy(정확도) 확인"
      ]
    },
    {
      "cell_type": "code",
      "execution_count": 14,
      "id": "7c75c0f5",
      "metadata": {
        "id": "7c75c0f5",
        "outputId": "245e3ee5-c01a-4a96-d7f5-bf5dd19a26c7",
        "colab": {
          "base_uri": "https://localhost:8080/"
        }
      },
      "outputs": [
        {
          "output_type": "stream",
          "name": "stdout",
          "text": [
            "tensor(0.0625)\n"
          ]
        }
      ],
      "source": [
        "print(accuracy(preds, yb))"
      ]
    },
    {
      "cell_type": "code",
      "execution_count": 15,
      "id": "a65f662f",
      "metadata": {
        "id": "a65f662f"
      },
      "outputs": [],
      "source": [
        "from IPython.core.debugger import set_trace"
      ]
    },
    {
      "cell_type": "code",
      "execution_count": 16,
      "id": "88ebd739",
      "metadata": {
        "id": "88ebd739"
      },
      "outputs": [],
      "source": [
        "lr = 0.5\n",
        "epochs = 2\n",
        "\n",
        "for epoch in range(epochs):\n",
        "    for i in range((n-1)//bs+1):\n",
        "        start_i = i * bs\n",
        "        end_i = start_i + bs\n",
        "        xb = x_train[start_i:end_i]\n",
        "        yb = y_train[start_i:end_i]\n",
        "        pred = model(xb)\n",
        "        loss = loss_func(pred, yb)\n",
        "\n",
        "        loss.backward()\n",
        "        with torch.no_grad():\n",
        "            weights -= weights.grad * lr\n",
        "            bias -= bias.grad * lr\n",
        "            weights.grad.zero_()\n",
        "            bias.grad.zero_()"
      ]
    },
    {
      "cell_type": "code",
      "execution_count": 17,
      "id": "dfc391d1",
      "metadata": {
        "id": "dfc391d1",
        "outputId": "d548e023-8ae7-4627-83d7-071c33aebae6",
        "colab": {
          "base_uri": "https://localhost:8080/"
        }
      },
      "outputs": [
        {
          "output_type": "stream",
          "name": "stdout",
          "text": [
            " 학습 후 loss -> 0.07976925373077393\n",
            " 학습 후 accuracy -> 1.0\n"
          ]
        }
      ],
      "source": [
        "print(f\" 학습 후 loss -> {loss_func(model(xb),yb)}\")\n",
        "print(f\" 학습 후 accuracy -> {accuracy(model(xb), yb)}\")"
      ]
    },
    {
      "cell_type": "code",
      "execution_count": 17,
      "id": "afa00de3",
      "metadata": {
        "id": "afa00de3"
      },
      "outputs": [],
      "source": []
    },
    {
      "cell_type": "code",
      "execution_count": 17,
      "id": "4b4d041c",
      "metadata": {
        "id": "4b4d041c"
      },
      "outputs": [],
      "source": []
    },
    {
      "cell_type": "markdown",
      "id": "0f2b4256",
      "metadata": {
        "id": "0f2b4256"
      },
      "source": [
        "## 3. torch.nn.functional 사용하기\n",
        "\n",
        "    - 코드 리팩토링(refactoring)"
      ]
    },
    {
      "cell_type": "code",
      "execution_count": 18,
      "id": "54232248",
      "metadata": {
        "id": "54232248"
      },
      "outputs": [],
      "source": [
        "import torch.nn.functional as F"
      ]
    },
    {
      "cell_type": "code",
      "execution_count": 19,
      "id": "3bf0cf38",
      "metadata": {
        "id": "3bf0cf38"
      },
      "outputs": [],
      "source": [
        "loss_func = F.cross_entropy\n",
        "\n",
        "def model(xb):\n",
        "    return xb @ weights + bias"
      ]
    },
    {
      "cell_type": "code",
      "execution_count": 20,
      "id": "9ce4aa39",
      "metadata": {
        "id": "9ce4aa39",
        "outputId": "cae95429-9fac-4d61-a025-a1cd214d46ce",
        "colab": {
          "base_uri": "https://localhost:8080/"
        }
      },
      "outputs": [
        {
          "output_type": "stream",
          "name": "stdout",
          "text": [
            " 학습 후 loss -> 0.07976924628019333\n",
            " 학습 후 accuracy -> 1.0\n"
          ]
        }
      ],
      "source": [
        "print(f\" 학습 후 loss -> {loss_func(model(xb),yb)}\")\n",
        "print(f\" 학습 후 accuracy -> {accuracy(model(xb), yb)}\")"
      ]
    },
    {
      "cell_type": "code",
      "execution_count": 20,
      "id": "4f1816a3",
      "metadata": {
        "id": "4f1816a3"
      },
      "outputs": [],
      "source": []
    },
    {
      "cell_type": "markdown",
      "id": "f6b941da",
      "metadata": {
        "id": "f6b941da"
      },
      "source": [
        "## 4. Refactoring"
      ]
    },
    {
      "cell_type": "markdown",
      "id": "b872b2d6",
      "metadata": {
        "id": "b872b2d6"
      },
      "source": [
        "### 4-1.  nn.Module 이용해  refactoring"
      ]
    },
    {
      "cell_type": "code",
      "execution_count": 21,
      "id": "31e11d99",
      "metadata": {
        "id": "31e11d99"
      },
      "outputs": [],
      "source": [
        "from torch import nn"
      ]
    },
    {
      "cell_type": "code",
      "execution_count": 22,
      "id": "32c6ed11",
      "metadata": {
        "id": "32c6ed11"
      },
      "outputs": [],
      "source": [
        "class Mnist_Logistic(nn.Module):\n",
        "    def __init__(self):\n",
        "        super().__init__()\n",
        "        self.weights= nn.Parameter(torch.randn(784,10)/math.sqrt(784))\n",
        "        self.bias= nn.Parameter(torch.zeros(10))\n",
        "\n",
        "    def forward(self, xb):\n",
        "        return xb@ self.weights + self.bias\n",
        ""
      ]
    },
    {
      "cell_type": "code",
      "execution_count": 23,
      "id": "a73885aa",
      "metadata": {
        "id": "a73885aa"
      },
      "outputs": [],
      "source": [
        "model = Mnist_Logistic()"
      ]
    },
    {
      "cell_type": "code",
      "execution_count": 24,
      "id": "2b2e5666",
      "metadata": {
        "id": "2b2e5666",
        "outputId": "010b2b44-3dfb-4788-9fb6-948d12bc8697",
        "colab": {
          "base_uri": "https://localhost:8080/"
        }
      },
      "outputs": [
        {
          "output_type": "stream",
          "name": "stdout",
          "text": [
            " 학습 후 loss -> 2.1101255416870117\n",
            " 학습 후 accuracy -> 0.25\n"
          ]
        }
      ],
      "source": [
        "print(f\" 학습 후 loss -> {loss_func(model(xb),yb)}\")\n",
        "print(f\" 학습 후 accuracy -> {accuracy(model(xb), yb)}\")"
      ]
    },
    {
      "cell_type": "markdown",
      "id": "54906dc5",
      "metadata": {
        "id": "54906dc5"
      },
      "source": [
        "    - training loop를 위해 parameter 값 업데이트를\n",
        "    수동으로 했던 것을 nn.Module을 활용해 간결하게 만듦"
      ]
    },
    {
      "cell_type": "code",
      "execution_count": 25,
      "id": "62448cb6",
      "metadata": {
        "id": "62448cb6"
      },
      "outputs": [],
      "source": [
        "def fit():\n",
        "    for epoch in range(epochs):\n",
        "        for i in range((n-1)//bs+1):\n",
        "            start_i = i*bs\n",
        "            end_i = start_i+bs\n",
        "            xb = x_train[start_i:end_i]\n",
        "            yb = y_train[start_i:end_i]\n",
        "            pred= model(xb)\n",
        "            loss = loss_func(pred,yb)\n",
        "\n",
        "            loss.backward()\n",
        "            with torch.no_grad():\n",
        "                for p in model.parameters():\n",
        "                    p -= p.grad * lr\n",
        "                model.zero_grad()\n",
        "\n",
        "fit()\n",
        "\n"
      ]
    },
    {
      "cell_type": "code",
      "execution_count": 26,
      "id": "e01db341",
      "metadata": {
        "id": "e01db341",
        "outputId": "534d697b-1326-4e13-f40a-fa4309a522fb",
        "colab": {
          "base_uri": "https://localhost:8080/"
        }
      },
      "outputs": [
        {
          "output_type": "stream",
          "name": "stdout",
          "text": [
            " 학습 후 loss -> 0.08026944100856781\n",
            " 학습 후 accuracy -> 1.0\n"
          ]
        }
      ],
      "source": [
        "print(f\" 학습 후 loss -> {loss_func(model(xb),yb)}\")\n",
        "print(f\" 학습 후 accuracy -> {accuracy(model(xb), yb)}\")"
      ]
    },
    {
      "cell_type": "markdown",
      "id": "d710a818",
      "metadata": {
        "id": "d710a818"
      },
      "source": [
        "### 4-2.  nn.Linear 이용해  refactoring"
      ]
    },
    {
      "cell_type": "code",
      "execution_count": 27,
      "id": "a35d8ac0",
      "metadata": {
        "id": "a35d8ac0"
      },
      "outputs": [],
      "source": [
        "class Mnist_Logistic(nn.Module):\n",
        "    def __init__(self):\n",
        "        super().__init__()\n",
        "        self.lin = nn.Linear(784, 10)\n",
        "\n",
        "    def forward(self, xb):\n",
        "        return self.lin(xb)"
      ]
    },
    {
      "cell_type": "code",
      "execution_count": 28,
      "id": "a4c1201d",
      "metadata": {
        "id": "a4c1201d",
        "outputId": "66e9296f-2d21-4aa4-ffe0-42c1637869f7",
        "colab": {
          "base_uri": "https://localhost:8080/"
        }
      },
      "outputs": [
        {
          "output_type": "stream",
          "name": "stdout",
          "text": [
            " 학습 후 loss -> 2.243588447570801\n",
            " 학습 후 accuracy -> 0.1875\n"
          ]
        }
      ],
      "source": [
        "model = Mnist_Logistic()\n",
        "print(f\" 학습 후 loss -> {loss_func(model(xb),yb)}\")\n",
        "print(f\" 학습 후 accuracy -> {accuracy(model(xb), yb)}\")"
      ]
    },
    {
      "cell_type": "code",
      "execution_count": 29,
      "id": "04934c1c",
      "metadata": {
        "id": "04934c1c"
      },
      "outputs": [],
      "source": [
        "fit()"
      ]
    },
    {
      "cell_type": "code",
      "execution_count": 30,
      "id": "0863d83d",
      "metadata": {
        "id": "0863d83d",
        "outputId": "d78fbc3c-1dc5-4a95-d46c-80c2b956fd63",
        "colab": {
          "base_uri": "https://localhost:8080/"
        }
      },
      "outputs": [
        {
          "output_type": "stream",
          "name": "stdout",
          "text": [
            " 학습 후 loss -> 0.08224186301231384\n",
            " 학습 후 accuracy -> 1.0\n"
          ]
        }
      ],
      "source": [
        "print(f\" 학습 후 loss -> {loss_func(model(xb),yb)}\")\n",
        "print(f\" 학습 후 accuracy -> {accuracy(model(xb), yb)}\")"
      ]
    },
    {
      "cell_type": "code",
      "execution_count": 30,
      "id": "07fcc736",
      "metadata": {
        "id": "07fcc736"
      },
      "outputs": [],
      "source": []
    },
    {
      "cell_type": "markdown",
      "id": "bb102d9b",
      "metadata": {
        "id": "bb102d9b"
      },
      "source": [
        "### 4-3. torch.optim 이용해  refactoring"
      ]
    },
    {
      "cell_type": "code",
      "execution_count": 31,
      "id": "07740bf1",
      "metadata": {
        "id": "07740bf1"
      },
      "outputs": [],
      "source": [
        "from torch import optim"
      ]
    },
    {
      "cell_type": "code",
      "execution_count": 32,
      "id": "e5eda44c",
      "metadata": {
        "id": "e5eda44c",
        "outputId": "c5ba71c2-0ce2-4eb7-e54e-921958bb3a05",
        "colab": {
          "base_uri": "https://localhost:8080/"
        }
      },
      "outputs": [
        {
          "output_type": "stream",
          "name": "stdout",
          "text": [
            " 학습 후 loss -> 2.3309996128082275\n",
            " 학습 후 accuracy -> 0.125\n",
            " 학습 후 loss -> 0.08187355101108551\n",
            " 학습 후 accuracy -> 1.0\n"
          ]
        }
      ],
      "source": [
        "def get_model():\n",
        "    model = Mnist_Logistic()\n",
        "    return model, optim.SGD(model.parameters(), lr=lr)\n",
        "\n",
        "model, opt = get_model()\n",
        "print(f\" 학습 후 loss -> {loss_func(model(xb),yb)}\")\n",
        "print(f\" 학습 후 accuracy -> {accuracy(model(xb), yb)}\")\n",
        "\n",
        "for epoch in range(epochs):\n",
        "    for i in range((n-1)// bs+1):\n",
        "        start_i = i*bs\n",
        "        end_i = start_i+bs\n",
        "        xb = x_train[start_i:end_i]\n",
        "        yb = y_train[start_i:end_i]\n",
        "        pred = model(xb)\n",
        "        loss = loss_func(pred, yb)\n",
        "\n",
        "        loss.backward()\n",
        "        opt.step()\n",
        "        opt.zero_grad()\n",
        "\n",
        "print(f\" 학습 후 loss -> {loss_func(model(xb),yb)}\")\n",
        "print(f\" 학습 후 accuracy -> {accuracy(model(xb), yb)}\")"
      ]
    },
    {
      "cell_type": "markdown",
      "id": "2213f6a6",
      "metadata": {
        "id": "2213f6a6"
      },
      "source": [
        "### 4-4. DataSet을 이용해 Refactoring"
      ]
    },
    {
      "cell_type": "code",
      "execution_count": 33,
      "id": "e9631f2c",
      "metadata": {
        "id": "e9631f2c"
      },
      "outputs": [],
      "source": [
        "from torch.utils.data import TensorDataset"
      ]
    },
    {
      "cell_type": "code",
      "execution_count": 34,
      "id": "80f8f8bf",
      "metadata": {
        "id": "80f8f8bf"
      },
      "outputs": [],
      "source": [
        "train_ds = TensorDataset(x_train, y_train)"
      ]
    },
    {
      "cell_type": "code",
      "execution_count": 35,
      "id": "1f73be87",
      "metadata": {
        "id": "1f73be87",
        "outputId": "cdb0104c-7290-416e-d432-61f7aeb0f7d8",
        "colab": {
          "base_uri": "https://localhost:8080/"
        }
      },
      "outputs": [
        {
          "output_type": "stream",
          "name": "stdout",
          "text": [
            " 학습 후 loss -> 0.08306284248828888\n",
            " 학습 후 accuracy -> 1.0\n"
          ]
        }
      ],
      "source": [
        "model, opt = get_model()\n",
        "for epoch in range(epochs):\n",
        "    for i in range((n-1)//bs+1):\n",
        "        xb, yb = train_ds[i*bs:i*bs+bs]\n",
        "        pred= model(xb)\n",
        "        loss = loss_func(pred, yb)\n",
        "\n",
        "        loss.backward()\n",
        "        opt.step()\n",
        "        opt.zero_grad()\n",
        "\n",
        "\n",
        "print(f\" 학습 후 loss -> {loss_func(model(xb),yb)}\")\n",
        "print(f\" 학습 후 accuracy -> {accuracy(model(xb), yb)}\")"
      ]
    },
    {
      "cell_type": "code",
      "execution_count": 35,
      "id": "08922840",
      "metadata": {
        "id": "08922840"
      },
      "outputs": [],
      "source": []
    },
    {
      "cell_type": "markdown",
      "id": "91fe4ed0",
      "metadata": {
        "id": "91fe4ed0"
      },
      "source": [
        "### 4-5. DataLoader을 이용해 Refactoring"
      ]
    },
    {
      "cell_type": "code",
      "execution_count": 36,
      "id": "3643f3e9",
      "metadata": {
        "id": "3643f3e9"
      },
      "outputs": [],
      "source": [
        "from torch.utils.data import DataLoader"
      ]
    },
    {
      "cell_type": "code",
      "execution_count": 37,
      "id": "c1504d19",
      "metadata": {
        "id": "c1504d19"
      },
      "outputs": [],
      "source": [
        "train_ds = TensorDataset(x_train, y_train)\n",
        "train_dl = DataLoader(train_ds, batch_size=bs)"
      ]
    },
    {
      "cell_type": "code",
      "execution_count": 38,
      "id": "6a787a38",
      "metadata": {
        "id": "6a787a38",
        "outputId": "f7d371af-14f3-4de9-cb54-03f1e43a3917",
        "colab": {
          "base_uri": "https://localhost:8080/"
        }
      },
      "outputs": [
        {
          "output_type": "stream",
          "name": "stdout",
          "text": [
            " 학습 후 loss -> 0.08149973303079605\n",
            " 학습 후 accuracy -> 1.0\n"
          ]
        }
      ],
      "source": [
        "model, opt = get_model()\n",
        "\n",
        "for epoch in range(epochs):\n",
        "    for xb, yb in train_dl:\n",
        "        pred = model(xb)\n",
        "        loss = loss_func(pred, yb)\n",
        "\n",
        "        loss.backward()\n",
        "        opt.step()\n",
        "        opt.zero_grad()\n",
        "\n",
        "\n",
        "print(f\" 학습 후 loss -> {loss_func(model(xb),yb)}\")\n",
        "print(f\" 학습 후 accuracy -> {accuracy(model(xb), yb)}\")"
      ]
    },
    {
      "cell_type": "code",
      "execution_count": 38,
      "id": "89917064",
      "metadata": {
        "id": "89917064"
      },
      "outputs": [],
      "source": []
    },
    {
      "cell_type": "markdown",
      "id": "ef89f304",
      "metadata": {
        "id": "ef89f304"
      },
      "source": [
        "## 5.  Validation data"
      ]
    },
    {
      "cell_type": "code",
      "execution_count": 39,
      "id": "9a75b650",
      "metadata": {
        "id": "9a75b650"
      },
      "outputs": [],
      "source": [
        "train_ds = TensorDataset(x_train, y_train)\n",
        "train_dl = DataLoader(train_ds, batch_size=bs, shuffle=True)\n",
        "\n",
        "valid_ds = TensorDataset(x_valid, y_valid)\n",
        "valid_dl = DataLoader(valid_ds, batch_size=bs*2)"
      ]
    },
    {
      "cell_type": "code",
      "execution_count": 40,
      "id": "413389b0",
      "metadata": {
        "id": "413389b0",
        "outputId": "1c466521-d9d0-4af0-f874-158cee9a9a7b",
        "colab": {
          "base_uri": "https://localhost:8080/"
        }
      },
      "outputs": [
        {
          "output_type": "stream",
          "name": "stdout",
          "text": [
            "0 tensor(0.3006)\n",
            "1 tensor(0.3153)\n"
          ]
        }
      ],
      "source": [
        "model, opt = get_model()\n",
        "\n",
        "for epoch in range(epochs):\n",
        "    model.train()\n",
        "    for xb, yb in train_dl:\n",
        "        pred = model(xb)\n",
        "        loss = loss_func(pred, yb)\n",
        "\n",
        "        loss.backward()\n",
        "        opt.step()\n",
        "        opt.zero_grad()\n",
        "\n",
        "    model.eval()\n",
        "    with torch.no_grad():\n",
        "        valid_loss = sum(loss_func(model(xb), yb) for xb,yb in valid_dl)\n",
        "\n",
        "    print(epoch, valid_loss/len(valid_dl))"
      ]
    },
    {
      "cell_type": "code",
      "execution_count": 40,
      "id": "c7293416",
      "metadata": {
        "id": "c7293416"
      },
      "outputs": [],
      "source": []
    },
    {
      "cell_type": "markdown",
      "id": "32a7e7e8",
      "metadata": {
        "id": "32a7e7e8"
      },
      "source": [
        "## 6. fit(), get_data() 생성"
      ]
    },
    {
      "cell_type": "code",
      "execution_count": 41,
      "id": "6ebc4bc4",
      "metadata": {
        "id": "6ebc4bc4"
      },
      "outputs": [],
      "source": [
        "def loss_batch(model, loss_func, xb, yb, opt=None):\n",
        "    loss = loss_func(model(xb), yb)\n",
        "\n",
        "    if opt is not None:\n",
        "        loss.backward()\n",
        "        opt.step()\n",
        "        opt.zero_grad()\n",
        "\n",
        "    return loss.item(), len(xb)"
      ]
    },
    {
      "cell_type": "code",
      "execution_count": 42,
      "id": "2ee578b5",
      "metadata": {
        "id": "2ee578b5"
      },
      "outputs": [],
      "source": [
        "import numpy as np"
      ]
    },
    {
      "cell_type": "code",
      "execution_count": 43,
      "id": "67e470af",
      "metadata": {
        "id": "67e470af"
      },
      "outputs": [],
      "source": [
        "def fit(epochs, model, loss_func, opt, train_dl, valid_dl):\n",
        "    for epoch in range(epochs):\n",
        "        model.train()\n",
        "        for xb, yb in train_dl:\n",
        "            loss_batch(model, loss_func, xb, yb, opt)\n",
        "\n",
        "        model.eval()\n",
        "        with torch.no_grad():\n",
        "            losses, nums = zip(\n",
        "            *[loss_batch(model, loss_func, xb,yb) for xb, yb in valid_dl]\n",
        "            )\n",
        "        val_loss = np.sum(np.multiply(losses, nums)) / np.sum(nums)\n",
        "\n",
        "        print(epoch, val_loss)\n",
        ""
      ]
    },
    {
      "cell_type": "code",
      "execution_count": 44,
      "id": "0f147ee3",
      "metadata": {
        "id": "0f147ee3"
      },
      "outputs": [],
      "source": [
        "def get_data(train_ds, valid_ds, bs):\n",
        "    return (\n",
        "            DataLoader(train_ds, batch_size=bs, shuffle=True),\n",
        "            DataLoader(valid_ds, batch_size=bs*2))"
      ]
    },
    {
      "cell_type": "code",
      "execution_count": 45,
      "id": "628f7546",
      "metadata": {
        "id": "628f7546",
        "outputId": "b5bc3d69-3191-4cd9-920d-f047ae303ff2",
        "colab": {
          "base_uri": "https://localhost:8080/"
        }
      },
      "outputs": [
        {
          "output_type": "stream",
          "name": "stdout",
          "text": [
            "0 0.2997095855236053\n",
            "1 0.33744335747957227\n"
          ]
        }
      ],
      "source": [
        "train_dl, valid_dl = get_data(train_ds, valid_ds, bs)\n",
        "model, opt = get_model()\n",
        "fit(epochs, model, loss_func, opt, train_dl, valid_dl)"
      ]
    },
    {
      "cell_type": "code",
      "execution_count": 45,
      "id": "fea0b842",
      "metadata": {
        "id": "fea0b842"
      },
      "outputs": [],
      "source": []
    },
    {
      "cell_type": "markdown",
      "id": "9851dd8f",
      "metadata": {
        "id": "9851dd8f"
      },
      "source": [
        "## 7. CNN"
      ]
    },
    {
      "cell_type": "code",
      "execution_count": 46,
      "id": "11115db1",
      "metadata": {
        "id": "11115db1"
      },
      "outputs": [],
      "source": [
        "class Mnist_CNN(nn.Module):\n",
        "    def __init__(self):\n",
        "        super().__init__()\n",
        "        self.conv1 = nn.Conv2d(1, 16, kernel_size=3, stride=2, padding=1)\n",
        "        self.conv2 = nn.Conv2d(16, 16, kernel_size=3, stride=2, padding=1)\n",
        "        self.conv3 = nn.Conv2d(16, 10, kernel_size=3, stride=2, padding=1)\n",
        "\n",
        "    def forward(self, xb):\n",
        "        xb = xb.view(-1,1,28,28)\n",
        "        xb = F.relu(self.conv1(xb))\n",
        "        xb = F.relu(self.conv2(xb))\n",
        "        xb = F.relu(self.conv3(xb))\n",
        "        xb = F.avg_pool2d(xb,4)\n",
        "        return xb.view(-1, xb.size(1))\n",
        "\n",
        "lr= 0.1"
      ]
    },
    {
      "cell_type": "code",
      "execution_count": 47,
      "id": "84d55fc5",
      "metadata": {
        "id": "84d55fc5",
        "outputId": "7caaf2e2-e87a-48dc-c965-07bdb826b994",
        "colab": {
          "base_uri": "https://localhost:8080/"
        }
      },
      "outputs": [
        {
          "output_type": "stream",
          "name": "stdout",
          "text": [
            "0 0.4215622594356537\n",
            "1 0.23031596010923386\n"
          ]
        }
      ],
      "source": [
        "model = Mnist_CNN()\n",
        "opt = optim.SGD(model.parameters(), lr=lr, momentum=0.9)\n",
        "fit(epochs, model, loss_func, opt, train_dl, valid_dl)"
      ]
    },
    {
      "cell_type": "markdown",
      "id": "9a0d8515",
      "metadata": {
        "id": "9a0d8515"
      },
      "source": [
        "## 8. nn.Sequential 사용"
      ]
    },
    {
      "cell_type": "code",
      "execution_count": 48,
      "id": "cc36f28b",
      "metadata": {
        "id": "cc36f28b"
      },
      "outputs": [],
      "source": [
        "class Lambda(nn.Module):\n",
        "    def __init__(self, func):\n",
        "        super().__init__()\n",
        "        self.func = func\n",
        "\n",
        "    def forward(self, x):\n",
        "        return self.func(x)\n",
        "\n",
        "def preprocess(x):\n",
        "    return x.view(-1, 1, 28, 28)"
      ]
    },
    {
      "cell_type": "code",
      "execution_count": 49,
      "id": "17e11fe0",
      "metadata": {
        "id": "17e11fe0",
        "outputId": "9425763e-41db-4f1f-c85e-2da68f6e5310",
        "colab": {
          "base_uri": "https://localhost:8080/"
        }
      },
      "outputs": [
        {
          "output_type": "stream",
          "name": "stdout",
          "text": [
            "0 0.3306345723628998\n",
            "1 0.2205428599715233\n"
          ]
        }
      ],
      "source": [
        "model = nn.Sequential(\n",
        "        Lambda(preprocess),\n",
        "        nn.Conv2d(1,16,kernel_size=3, stride=2, padding=1),\n",
        "        nn.ReLU(),\n",
        "        nn.Conv2d(16,16, kernel_size=3, stride=2, padding=1),\n",
        "        nn.ReLU(),\n",
        "        nn.Conv2d(16,10, kernel_size=3, stride=2, padding=1),\n",
        "        nn.ReLU(),\n",
        "        nn.AvgPool2d(4),\n",
        "        Lambda(lambda x: x.view(x.size(0), -1)),\n",
        "        )\n",
        "\n",
        "opt = optim.SGD(model.parameters(), lr=lr, momentum=0.9)\n",
        "fit(epochs, model, loss_func, opt, train_dl, valid_dl)"
      ]
    },
    {
      "cell_type": "code",
      "execution_count": 49,
      "id": "0cb82a76",
      "metadata": {
        "id": "0cb82a76"
      },
      "outputs": [],
      "source": []
    },
    {
      "cell_type": "code",
      "execution_count": 49,
      "id": "892efe69",
      "metadata": {
        "id": "892efe69"
      },
      "outputs": [],
      "source": []
    },
    {
      "cell_type": "markdown",
      "id": "8bc10802",
      "metadata": {
        "id": "8bc10802"
      },
      "source": [
        "    - 위의  CNN은 28*28 vector라고 가정하고,\n",
        "    cnn grid size를 4*4 라고 가정했기 때문에 MNIST에서만 작동함\n",
        "    \n",
        "    - 위 가정을 제거해서 모델이 모든 2d channel 이미지에서 작동하게 함"
      ]
    },
    {
      "cell_type": "code",
      "execution_count": 60,
      "id": "384cc4a6",
      "metadata": {
        "id": "384cc4a6"
      },
      "outputs": [],
      "source": [
        "def preprocess(x, y):\n",
        "    return x.view(-1,1,28,28),y\n",
        "\n",
        "class WrappedDataLoader():\n",
        "    def __init__(self, dl, func):\n",
        "        self.dl = dl\n",
        "        self.func = func\n",
        "\n",
        "    def __len__(self):\n",
        "        return len(self.dl)\n",
        "\n",
        "    def __iter__(self):\n",
        "        batches = iter(self.dl)\n",
        "        for b in batches:\n",
        "            yield(self.func(*b))"
      ]
    },
    {
      "cell_type": "code",
      "execution_count": 61,
      "id": "f485477d",
      "metadata": {
        "id": "f485477d"
      },
      "outputs": [],
      "source": [
        "trian_dl, valid_dl = get_data(train_ds, valid_ds, bs)\n",
        "train_dl = WrappedDataLoader(train_dl, preprocess)\n",
        "valid_dl = WrappedDataLoader(valid_dl, preprocess)"
      ]
    },
    {
      "cell_type": "code",
      "execution_count": 62,
      "id": "c6055887",
      "metadata": {
        "id": "c6055887"
      },
      "outputs": [],
      "source": [
        "model = nn.Sequential(\n",
        "    nn.Conv2d(1, 16, kernel_size=3, stride=2, padding=1),\n",
        "    nn.ReLU(),\n",
        "    nn.Conv2d(16, 16, kernel_size=3, stride=2, padding=1),\n",
        "    nn.ReLU(),\n",
        "    nn.Conv2d(16, 10, kernel_size=3, stride=2, padding=1),\n",
        "    nn.ReLU(),\n",
        "    nn.AdaptiveAvgPool2d(1),\n",
        "    Lambda(lambda x: x.view(x.size(0), -1)),\n",
        ")\n",
        "\n",
        "opt = optim.SGD(model.parameters(), lr=lr, momentum=0.9)"
      ]
    },
    {
      "cell_type": "code",
      "execution_count": 63,
      "id": "2642e24a",
      "metadata": {
        "id": "2642e24a",
        "outputId": "3f987b87-9e68-439c-9921-fb4a4c4e7fea",
        "colab": {
          "base_uri": "https://localhost:8080/"
        }
      },
      "outputs": [
        {
          "output_type": "stream",
          "name": "stdout",
          "text": [
            "0 0.3873112458229065\n",
            "1 0.28920770040750504\n"
          ]
        }
      ],
      "source": [
        "fit(epochs, model, loss_func, opt, train_dl, valid_dl)"
      ]
    },
    {
      "cell_type": "code",
      "execution_count": 63,
      "id": "59c3fbfa",
      "metadata": {
        "id": "59c3fbfa"
      },
      "outputs": [],
      "source": []
    },
    {
      "cell_type": "markdown",
      "id": "260171d1",
      "metadata": {
        "id": "260171d1"
      },
      "source": [
        "## 9. GPU 사용"
      ]
    },
    {
      "cell_type": "code",
      "execution_count": 64,
      "id": "3ce49636",
      "metadata": {
        "id": "3ce49636",
        "outputId": "790b0289-5695-4c3e-bc99-db10ef668ef7",
        "colab": {
          "base_uri": "https://localhost:8080/"
        }
      },
      "outputs": [
        {
          "output_type": "stream",
          "name": "stdout",
          "text": [
            "True\n"
          ]
        }
      ],
      "source": [
        "print(torch.cuda.is_available())"
      ]
    },
    {
      "cell_type": "code",
      "execution_count": 65,
      "id": "10e509d4",
      "metadata": {
        "id": "10e509d4"
      },
      "outputs": [],
      "source": [
        "dev = torch.device(\n",
        "    \"cuda\") if torch.cuda.is_available() else torch.device(\"cpu\")"
      ]
    },
    {
      "cell_type": "code",
      "source": [
        "def preprocess(x, y):\n",
        "    return x.view(-1, 1, 28, 28).to(dev), y.to(dev)\n",
        "\n",
        "\n",
        "train_dl, valid_dl = get_data(train_ds, valid_ds, bs)\n",
        "train_dl = WrappedDataLoader(train_dl, preprocess)\n",
        "valid_dl = WrappedDataLoader(valid_dl, preprocess)"
      ],
      "metadata": {
        "id": "TpfistqOpAfW"
      },
      "id": "TpfistqOpAfW",
      "execution_count": 66,
      "outputs": []
    },
    {
      "cell_type": "code",
      "source": [
        "model.to(dev)\n",
        "opt = optim.SGD(model.parameters(), lr=lr, momentum=0.9)"
      ],
      "metadata": {
        "id": "WGhnzeAqpBh1"
      },
      "id": "WGhnzeAqpBh1",
      "execution_count": 67,
      "outputs": []
    },
    {
      "cell_type": "code",
      "source": [
        "fit(epochs, model, loss_func, opt, train_dl, valid_dl)"
      ],
      "metadata": {
        "id": "a5_7tj00pVll",
        "outputId": "03ad84b3-e0ae-4f51-f331-3e24c6b0fdbf",
        "colab": {
          "base_uri": "https://localhost:8080/"
        }
      },
      "id": "a5_7tj00pVll",
      "execution_count": 68,
      "outputs": [
        {
          "output_type": "stream",
          "name": "stdout",
          "text": [
            "0 0.21496456950306891\n",
            "1 0.23002218225598337\n"
          ]
        }
      ]
    },
    {
      "cell_type": "code",
      "source": [
        "\n"
      ],
      "metadata": {
        "id": "nEVUwlcXpXR4"
      },
      "id": "nEVUwlcXpXR4",
      "execution_count": 68,
      "outputs": []
    },
    {
      "cell_type": "markdown",
      "source": [
        "\n",
        "- 실무에서 딥러닝 모델은 만들어져 있는 모델을 fine-tuning해서 주로 사용해서, 딥러닝 모델이 어떻게 돌아가는지 대해서는 이론적으로만 알고 있었는데, 이렇게 하나씩 구현해보면서 추후에 모델을 커스터마이즈 할 때 어떤 부분을 수정해서 사용해야 할지에 대한 감을 잡을 수 있어서 좋았습니다.\n",
        "\n",
        "- 물론 한번에 이해가 가진 않아서 몇 번 더 해봐야 알 것 같습니다."
      ],
      "metadata": {
        "id": "SgBqM32mpren"
      },
      "id": "SgBqM32mpren"
    },
    {
      "cell_type": "code",
      "source": [],
      "metadata": {
        "id": "vjzqK-zkqB6m"
      },
      "id": "vjzqK-zkqB6m",
      "execution_count": null,
      "outputs": []
    }
  ],
  "metadata": {
    "kernelspec": {
      "display_name": "Python 3",
      "name": "python3"
    },
    "language_info": {
      "codemirror_mode": {
        "name": "ipython",
        "version": 3
      },
      "file_extension": ".py",
      "mimetype": "text/x-python",
      "name": "python",
      "nbconvert_exporter": "python",
      "pygments_lexer": "ipython3",
      "version": "3.9.13"
    },
    "colab": {
      "provenance": [],
      "gpuType": "T4"
    },
    "accelerator": "GPU"
  },
  "nbformat": 4,
  "nbformat_minor": 5
}