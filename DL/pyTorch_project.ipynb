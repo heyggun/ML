{
 "cells": [
  {
   "cell_type": "markdown",
   "id": "679a9595",
   "metadata": {},
   "source": [
    "## 1. 데이터 준비(MNIST)\n",
    "\n",
    "    - 손으로 쓴 숫자(0-9)에서 흑백 이미지로 구성된 데이터셋"
   ]
  },
  {
   "cell_type": "code",
   "execution_count": 1,
   "id": "64f07893",
   "metadata": {},
   "outputs": [],
   "source": [
    "from pathlib import Path\n",
    "import requests"
   ]
  },
  {
   "cell_type": "markdown",
   "id": "3e97f280",
   "metadata": {},
   "source": [
    "    - 경로 설정 담당 python3 라이브러리 `pathlib` 사용\n",
    "    - request를 이용한 데이터셋 다운로드\n",
    "    - dataset은 Numpy 포맷으로, 데이터 직렬화를 위해 python 전용 pickle 이용"
   ]
  },
  {
   "cell_type": "code",
   "execution_count": 2,
   "id": "0fcd62a2",
   "metadata": {},
   "outputs": [],
   "source": [
    "DATA_PATH = Path('data')\n",
    "PATH = DATA_PATH / 'mnist'\n",
    "PATH.mkdir(parents=True, exist_ok=True)\n",
    "\n",
    "URL = \"https://github.com/pytorch/tutorials/raw/main/_static/\"\n",
    "FILENAME = 'mnist.pkl.gz'\n",
    "\n",
    "if not (PATH/FILENAME).exists():\n",
    "    content = requests.get(URL+FILENAME).content\n",
    "    (PATH/FILENAME).open('wb').write(content)"
   ]
  },
  {
   "cell_type": "code",
   "execution_count": 3,
   "id": "f2d4bccc",
   "metadata": {},
   "outputs": [],
   "source": [
    "import pickle\n",
    "import gzip\n",
    "\n",
    "with gzip.open((PATH/FILENAME).as_posix(), 'rb') as f:\n",
    "    ((x_train, y_train), (x_valid, y_valid), _) = pickle.load(f, encoding='latin-1')"
   ]
  },
  {
   "cell_type": "markdown",
   "id": "369c8b99",
   "metadata": {},
   "source": [
    "    - 각 이미지는 28x28 shape 이고, 784(28x28) 크기를 가진 하나의 행으로 저장되어 있음로,\n",
    "    이미지를 2d로 재구성함"
   ]
  },
  {
   "cell_type": "code",
   "execution_count": 4,
   "id": "28d2c7e7",
   "metadata": {
    "scrolled": false
   },
   "outputs": [
    {
     "name": "stdout",
     "output_type": "stream",
     "text": [
      "(50000, 784)\n"
     ]
    },
    {
     "data": {
      "image/png": "[encoded data removed]",
      "text/plain": [
       "<Figure size 640x480 with 1 Axes>"
      ]
     },
     "metadata": {},
     "output_type": "display_data"
    }
   ],
   "source": [
    "import matplotlib.pyplot as plt\n",
    "import numpy as np\n",
    "\n",
    "plt.imshow(x_train[0].reshape((28,28)), cmap='gray')\n",
    "print(x_train.shape)"
   ]
  },
  {
   "cell_type": "markdown",
   "id": "6ece86d4",
   "metadata": {},
   "source": [
    "     - pyTorch는 Numpy 배열보다는 torch.tensor를 사용하므로 데이터 변환"
   ]
  },
  {
   "cell_type": "code",
   "execution_count": 5,
   "id": "cd005667",
   "metadata": {},
   "outputs": [],
   "source": [
    "import torch\n",
    "\n",
    "x_train, y_train, x_valid, y_valid = map(torch.tensor, (x_train, y_train,\n",
    "                                                       x_valid, y_valid))\n",
    "\n",
    "n,c = x_train.shape"
   ]
  },
  {
   "cell_type": "markdown",
   "id": "030ae2f9",
   "metadata": {},
   "source": [
    "    - x_train, y_train 및 각각의 shape 확인\n",
    "    - 각 trian 데이터에 대한 min, max 값 확인"
   ]
  },
  {
   "cell_type": "code",
   "execution_count": 6,
   "id": "5d6ece5a",
   "metadata": {},
   "outputs": [
    {
     "name": "stdout",
     "output_type": "stream",
     "text": [
      " x_train -> tensor([[0., 0., 0.,  ..., 0., 0., 0.],\n",
      "        [0., 0., 0.,  ..., 0., 0., 0.],\n",
      "        [0., 0., 0.,  ..., 0., 0., 0.],\n",
      "        ...,\n",
      "        [0., 0., 0.,  ..., 0., 0., 0.],\n",
      "        [0., 0., 0.,  ..., 0., 0., 0.],\n",
      "        [0., 0., 0.,  ..., 0., 0., 0.]])\n",
      " y_train -> tensor([5, 0, 4,  ..., 8, 4, 8])\n",
      " x_train shape-> torch.Size([50000, 784]), y_train shape -> torch.Size([50000])\n",
      " y_train min -> 0, y_train max -> 9\n"
     ]
    }
   ],
   "source": [
    "print(f\" x_train -> {x_train}\")\n",
    "print(f\" y_train -> {y_train}\")\n",
    "print(f\" x_train shape-> {x_train.shape}, y_train shape -> {y_train.shape}\")\n",
    "print(f\" y_train min -> {y_train.min()}, y_train max -> {y_train.max()}\")\n"
   ]
  },
  {
   "cell_type": "code",
   "execution_count": null,
   "id": "dab1bf20",
   "metadata": {},
   "outputs": [],
   "source": []
  },
  {
   "cell_type": "markdown",
   "id": "588d9051",
   "metadata": {},
   "source": [
    "### 2. torch.nn 없이 신경망 만들기"
   ]
  },
  {
   "cell_type": "code",
   "execution_count": 7,
   "id": "539b1b0a",
   "metadata": {},
   "outputs": [],
   "source": [
    "import math"
   ]
  },
  {
   "cell_type": "markdown",
   "id": "3e8f99b5",
   "metadata": {},
   "source": [
    "    - 가중치에 대해서 초기화initialzation 한 후 설정함\n",
    "    ( 해당 단계가 기울기에 포함되는 것을 원하지 않으므로)\n",
    "    \n",
    "    - PyTorch는 기울기를 자동으로 계산해주므로, \n",
    "    간단한 선형 모델을 만들 수 있음"
   ]
  },
  {
   "cell_type": "code",
   "execution_count": 8,
   "id": "b7cefac8",
   "metadata": {},
   "outputs": [],
   "source": [
    "weights = torch.randn(784, 10) / math.sqrt(784)\n",
    "weights.requires_grad_() # 가중치 초기화\n",
    "bias = torch.zeros(10, requires_grad=True)"
   ]
  },
  {
   "cell_type": "markdown",
   "id": "e3e676c7",
   "metadata": {},
   "source": [
    "    - activation function -> softmax 로 구현"
   ]
  },
  {
   "cell_type": "code",
   "execution_count": 9,
   "id": "7131638b",
   "metadata": {},
   "outputs": [],
   "source": [
    "def log_softmax(x):\n",
    "    return x - x.exp().sum(-1).log().unsqueeze(-1)\n",
    "\n",
    "def model(xb):\n",
    "    return log_softmax(xb @ weights + bias)"
   ]
  },
  {
   "cell_type": "markdown",
   "id": "8e7d60b1",
   "metadata": {},
   "source": [
    "    - 배치 (batch) 데이터로 forward learning "
   ]
  },
  {
   "cell_type": "code",
   "execution_count": 10,
   "id": "1ccb0fd1",
   "metadata": {},
   "outputs": [
    {
     "name": "stdout",
     "output_type": "stream",
     "text": [
      "tensor([-2.7802, -2.4729, -1.9740, -2.4568, -2.5062, -1.6982, -2.1844, -2.8260,\n",
      "        -2.9348, -1.9697], grad_fn=<SelectBackward0>) torch.Size([64, 10])\n"
     ]
    }
   ],
   "source": [
    "bs = 64\n",
    "xb= x_train[0:bs]\n",
    "preds= model(xb)\n",
    "\n",
    "print(preds[0], preds.shape)"
   ]
  },
  {
   "cell_type": "markdown",
   "id": "0ead8f4a",
   "metadata": {},
   "source": [
    "    -> 예측값 shape는 (64,10)\n",
    "    - 위의 preds tensor는 gradient function을 담고 있어서,\n",
    "    backpropagation에 사용함"
   ]
  },
  {
   "cell_type": "markdown",
   "id": "dab6ef29",
   "metadata": {},
   "source": [
    "    - loss_function 을 위한 negative log-likelihood 구현"
   ]
  },
  {
   "cell_type": "code",
   "execution_count": 11,
   "id": "33c24f36",
   "metadata": {},
   "outputs": [],
   "source": [
    "def null(input, target):\n",
    "    return -input[range(target.shape[0]), target].mean()\n",
    "\n",
    "loss_func= null"
   ]
  },
  {
   "cell_type": "markdown",
   "id": "13a2d3b4",
   "metadata": {},
   "source": [
    "    - 위의 무작위 모델에 대한 loss 확인"
   ]
  },
  {
   "cell_type": "code",
   "execution_count": 12,
   "id": "69145d49",
   "metadata": {},
   "outputs": [
    {
     "name": "stdout",
     "output_type": "stream",
     "text": [
      "tensor(2.3700, grad_fn=<NegBackward0>)\n"
     ]
    }
   ],
   "source": [
    "yb = y_train[0:bs]\n",
    "print(loss_func(preds, yb))"
   ]
  },
  {
   "cell_type": "markdown",
   "id": "b8b809a0",
   "metadata": {},
   "source": [
    "    - accuracy matrix 함수\n",
    " "
   ]
  },
  {
   "cell_type": "code",
   "execution_count": 13,
   "id": "f86c9d91",
   "metadata": {},
   "outputs": [],
   "source": [
    "def accuracy(output, yb):\n",
    "    preds= torch.argmax(output, dim=1)\n",
    "    return (preds==yb).float().mean()"
   ]
  },
  {
   "cell_type": "markdown",
   "id": "b60d7b4a",
   "metadata": {},
   "source": [
    "    - 무작위 모델에 대한 accuracy(정확도) 확인"
   ]
  },
  {
   "cell_type": "code",
   "execution_count": 14,
   "id": "7c75c0f5",
   "metadata": {},
   "outputs": [
    {
     "name": "stdout",
     "output_type": "stream",
     "text": [
      "tensor(0.0469)\n"
     ]
    }
   ],
   "source": [
    "print(accuracy(preds, yb))"
   ]
  },
  {
   "cell_type": "code",
   "execution_count": 15,
   "id": "a65f662f",
   "metadata": {},
   "outputs": [],
   "source": [
    "from IPython.core.debugger import set_trace"
   ]
  },
  {
   "cell_type": "code",
   "execution_count": 16,
   "id": "88ebd739",
   "metadata": {},
   "outputs": [],
   "source": [
    "lr = 0.5\n",
    "epochs = 2\n",
    "\n",
    "for epoch in range(epochs):\n",
    "    for i in range((n-1)//bs+1):\n",
    "        start_i = i * bs\n",
    "        end_i = start_i + bs\n",
    "        xb = x_train[start_i:end_i]\n",
    "        yb = y_train[start_i:end_i]\n",
    "        pred = model(xb)\n",
    "        loss = loss_func(pred, yb)\n",
    "        \n",
    "        loss.backward()\n",
    "        with torch.no_grad():\n",
    "            weights -= weights.grad * lr\n",
    "            bias -= bias.grad * lr\n",
    "            weights.grad.zero_()\n",
    "            bias.grad.zero_()"
   ]
  },
  {
   "cell_type": "code",
   "execution_count": 17,
   "id": "dfc391d1",
   "metadata": {},
   "outputs": [
    {
     "name": "stdout",
     "output_type": "stream",
     "text": [
      " 학습 후 loss -> 0.08064761757850647\n",
      " 학습 후 accuracy -> 1.0\n"
     ]
    }
   ],
   "source": [
    "print(f\" 학습 후 loss -> {loss_func(model(xb),yb)}\")\n",
    "print(f\" 학습 후 accuracy -> {accuracy(model(xb), yb)}\")"
   ]
  },
  {
   "cell_type": "code",
   "execution_count": null,
   "id": "afa00de3",
   "metadata": {},
   "outputs": [],
   "source": []
  },
  {
   "cell_type": "code",
   "execution_count": null,
   "id": "4b4d041c",
   "metadata": {},
   "outputs": [],
   "source": []
  },
  {
   "cell_type": "markdown",
   "id": "0f2b4256",
   "metadata": {},
   "source": [
    "## 3. torch.nn.functional 사용하기\n",
    "\n",
    "    - 코드 리팩토링(refactoring)"
   ]
  },
  {
   "cell_type": "code",
   "execution_count": 18,
   "id": "54232248",
   "metadata": {},
   "outputs": [],
   "source": [
    "import torch.nn.functional as F"
   ]
  },
  {
   "cell_type": "code",
   "execution_count": 19,
   "id": "3bf0cf38",
   "metadata": {},
   "outputs": [],
   "source": [
    "loss_func = F.cross_entropy\n",
    "\n",
    "def model(xb):\n",
    "    return xb @ weights + bias"
   ]
  },
  {
   "cell_type": "code",
   "execution_count": 20,
   "id": "9ce4aa39",
   "metadata": {},
   "outputs": [
    {
     "name": "stdout",
     "output_type": "stream",
     "text": [
      " 학습 후 loss -> 0.08064751327037811\n",
      " 학습 후 accuracy -> 1.0\n"
     ]
    }
   ],
   "source": [
    "print(f\" 학습 후 loss -> {loss_func(model(xb),yb)}\")\n",
    "print(f\" 학습 후 accuracy -> {accuracy(model(xb), yb)}\")"
   ]
  },
  {
   "cell_type": "code",
   "execution_count": null,
   "id": "4f1816a3",
   "metadata": {},
   "outputs": [],
   "source": []
  },
  {
   "cell_type": "markdown",
   "id": "f6b941da",
   "metadata": {},
   "source": [
    "## 4. Refactoring"
   ]
  },
  {
   "cell_type": "markdown",
   "id": "b872b2d6",
   "metadata": {},
   "source": [
    "### 4-1.  nn.Module 이용해  refactoring"
   ]
  },
  {
   "cell_type": "code",
   "execution_count": 21,
   "id": "31e11d99",
   "metadata": {},
   "outputs": [],
   "source": [
    "from torch import nn"
   ]
  },
  {
   "cell_type": "code",
   "execution_count": 22,
   "id": "32c6ed11",
   "metadata": {},
   "outputs": [],
   "source": [
    "class Mnist_Logistic(nn.Module):\n",
    "    def __init__(self):\n",
    "        super().__init__()\n",
    "        self.weights= nn.Parameter(torch.randn(784,10)/math.sqrt(784))\n",
    "        self.bias= nn.Parameter(torch.zeros(10))\n",
    "        \n",
    "    def forward(self, xb):\n",
    "        return xb@ self.weights + self.bias\n",
    "    "
   ]
  },
  {
   "cell_type": "code",
   "execution_count": 23,
   "id": "a73885aa",
   "metadata": {},
   "outputs": [],
   "source": [
    "model = Mnist_Logistic()"
   ]
  },
  {
   "cell_type": "code",
   "execution_count": 24,
   "id": "2b2e5666",
   "metadata": {},
   "outputs": [
    {
     "name": "stdout",
     "output_type": "stream",
     "text": [
      " 학습 후 loss -> 2.3490474224090576\n",
      " 학습 후 accuracy -> 0.0\n"
     ]
    }
   ],
   "source": [
    "print(f\" 학습 후 loss -> {loss_func(model(xb),yb)}\")\n",
    "print(f\" 학습 후 accuracy -> {accuracy(model(xb), yb)}\")"
   ]
  },
  {
   "cell_type": "markdown",
   "id": "54906dc5",
   "metadata": {},
   "source": [
    "    - training loop를 위해 parameter 값 업데이트를 \n",
    "    수동으로 했던 것을 nn.Module을 활용해 간결하게 만듦"
   ]
  },
  {
   "cell_type": "code",
   "execution_count": 25,
   "id": "62448cb6",
   "metadata": {},
   "outputs": [],
   "source": [
    "def fit():\n",
    "    for epoch in range(epochs):\n",
    "        for i in range((n-1)//bs+1):\n",
    "            start_i = i*bs\n",
    "            end_i = start_i+bs\n",
    "            xb = x_train[start_i:end_i]\n",
    "            yb = y_train[start_i:end_i]\n",
    "            pred= model(xb)\n",
    "            loss = loss_func(pred,yb)\n",
    "            \n",
    "            loss.backward()\n",
    "            with torch.no_grad():\n",
    "                for p in model.parameters():\n",
    "                    p -= p.grad * lr\n",
    "                model.zero_grad()\n",
    "                \n",
    "fit() \n",
    "    \n"
   ]
  },
  {
   "cell_type": "code",
   "execution_count": 26,
   "id": "e01db341",
   "metadata": {},
   "outputs": [
    {
     "name": "stdout",
     "output_type": "stream",
     "text": [
      " 학습 후 loss -> 0.08052727580070496\n",
      " 학습 후 accuracy -> 1.0\n"
     ]
    }
   ],
   "source": [
    "print(f\" 학습 후 loss -> {loss_func(model(xb),yb)}\")\n",
    "print(f\" 학습 후 accuracy -> {accuracy(model(xb), yb)}\")"
   ]
  },
  {
   "cell_type": "markdown",
   "id": "d710a818",
   "metadata": {},
   "source": [
    "### 4-2.  nn.Linear 이용해  refactoring"
   ]
  },
  {
   "cell_type": "code",
   "execution_count": 27,
   "id": "a35d8ac0",
   "metadata": {},
   "outputs": [],
   "source": [
    "class Mnist_Logistic(nn.Module):\n",
    "    def __init__(self):\n",
    "        super().__init__()\n",
    "        self.lin = nn.Linear(784, 10)\n",
    "\n",
    "    def forward(self, xb):\n",
    "        return self.lin(xb)"
   ]
  },
  {
   "cell_type": "code",
   "execution_count": 28,
   "id": "a4c1201d",
   "metadata": {},
   "outputs": [
    {
     "name": "stdout",
     "output_type": "stream",
     "text": [
      " 학습 후 loss -> 2.354980230331421\n",
      " 학습 후 accuracy -> 0.0625\n"
     ]
    }
   ],
   "source": [
    "model = Mnist_Logistic()\n",
    "print(f\" 학습 후 loss -> {loss_func(model(xb),yb)}\")\n",
    "print(f\" 학습 후 accuracy -> {accuracy(model(xb), yb)}\")"
   ]
  },
  {
   "cell_type": "code",
   "execution_count": 29,
   "id": "04934c1c",
   "metadata": {},
   "outputs": [],
   "source": [
    "fit()"
   ]
  },
  {
   "cell_type": "code",
   "execution_count": 30,
   "id": "0863d83d",
   "metadata": {},
   "outputs": [
    {
     "name": "stdout",
     "output_type": "stream",
     "text": [
      " 학습 후 loss -> 0.08151780813932419\n",
      " 학습 후 accuracy -> 1.0\n"
     ]
    }
   ],
   "source": [
    "print(f\" 학습 후 loss -> {loss_func(model(xb),yb)}\")\n",
    "print(f\" 학습 후 accuracy -> {accuracy(model(xb), yb)}\")"
   ]
  },
  {
   "cell_type": "code",
   "execution_count": null,
   "id": "07fcc736",
   "metadata": {},
   "outputs": [],
   "source": []
  },
  {
   "cell_type": "markdown",
   "id": "bb102d9b",
   "metadata": {},
   "source": [
    "### 4-3. torch.optim 이용해  refactoring"
   ]
  },
  {
   "cell_type": "code",
   "execution_count": 31,
   "id": "07740bf1",
   "metadata": {},
   "outputs": [],
   "source": [
    "from torch import optim"
   ]
  },
  {
   "cell_type": "code",
   "execution_count": 34,
   "id": "e5eda44c",
   "metadata": {},
   "outputs": [
    {
     "name": "stdout",
     "output_type": "stream",
     "text": [
      " 학습 후 loss -> 2.264681339263916\n",
      " 학습 후 accuracy -> 0.125\n",
      " 학습 후 loss -> 0.08243892341852188\n",
      " 학습 후 accuracy -> 1.0\n"
     ]
    }
   ],
   "source": [
    "def get_model():\n",
    "    model = Mnist_Logistic()\n",
    "    return model, optim.SGD(model.parameters(), lr=lr)\n",
    "\n",
    "model, opt = get_model()\n",
    "print(f\" 학습 후 loss -> {loss_func(model(xb),yb)}\")\n",
    "print(f\" 학습 후 accuracy -> {accuracy(model(xb), yb)}\")\n",
    "\n",
    "for epoch in range(epochs):\n",
    "    for i in range((n-1)// bs+1):\n",
    "        start_i = i*bs\n",
    "        end_i = start_i+bs\n",
    "        xb = x_train[start_i:end_i]\n",
    "        yb = y_train[start_i:end_i]\n",
    "        pred = model(xb)\n",
    "        loss = loss_func(pred, yb)\n",
    "        \n",
    "        loss.backward()\n",
    "        opt.step()\n",
    "        opt.zero_grad()\n",
    "        \n",
    "print(f\" 학습 후 loss -> {loss_func(model(xb),yb)}\")\n",
    "print(f\" 학습 후 accuracy -> {accuracy(model(xb), yb)}\")"
   ]
  },
  {
   "cell_type": "markdown",
   "id": "2213f6a6",
   "metadata": {},
   "source": [
    "### 4-4. DataSet을 이용해 Refactoring"
   ]
  },
  {
   "cell_type": "code",
   "execution_count": 35,
   "id": "e9631f2c",
   "metadata": {},
   "outputs": [],
   "source": [
    "from torch.utils.data import TensorDataset"
   ]
  },
  {
   "cell_type": "code",
   "execution_count": 36,
   "id": "80f8f8bf",
   "metadata": {},
   "outputs": [],
   "source": [
    "train_ds = TensorDataset(x_train, y_train)"
   ]
  },
  {
   "cell_type": "code",
   "execution_count": 37,
   "id": "1f73be87",
   "metadata": {},
   "outputs": [
    {
     "name": "stdout",
     "output_type": "stream",
     "text": [
      " 학습 후 loss -> 0.08139986544847488\n",
      " 학습 후 accuracy -> 1.0\n"
     ]
    }
   ],
   "source": [
    "model, opt = get_model()\n",
    "for epoch in range(epochs):\n",
    "    for i in range((n-1)//bs+1):\n",
    "        xb, yb = train_ds[i*bs:i*bs+bs]\n",
    "        pred= model(xb)\n",
    "        loss = loss_func(pred, yb)\n",
    "        \n",
    "        loss.backward()\n",
    "        opt.step()\n",
    "        opt.zero_grad()\n",
    "        \n",
    "        \n",
    "print(f\" 학습 후 loss -> {loss_func(model(xb),yb)}\")\n",
    "print(f\" 학습 후 accuracy -> {accuracy(model(xb), yb)}\")"
   ]
  },
  {
   "cell_type": "code",
   "execution_count": null,
   "id": "08922840",
   "metadata": {},
   "outputs": [],
   "source": []
  },
  {
   "cell_type": "markdown",
   "id": "91fe4ed0",
   "metadata": {},
   "source": [
    "### 4-5. DataLoader을 이용해 Refactoring"
   ]
  },
  {
   "cell_type": "code",
   "execution_count": 38,
   "id": "3643f3e9",
   "metadata": {},
   "outputs": [],
   "source": [
    "from torch.utils.data import DataLoader"
   ]
  },
  {
   "cell_type": "code",
   "execution_count": 41,
   "id": "c1504d19",
   "metadata": {},
   "outputs": [],
   "source": [
    "train_ds = TensorDataset(x_train, y_train)\n",
    "train_dl = DataLoader(train_ds, batch_size=bs)"
   ]
  },
  {
   "cell_type": "code",
   "execution_count": 42,
   "id": "6a787a38",
   "metadata": {},
   "outputs": [
    {
     "name": "stdout",
     "output_type": "stream",
     "text": [
      " 학습 후 loss -> 0.08326781541109085\n",
      " 학습 후 accuracy -> 1.0\n"
     ]
    }
   ],
   "source": [
    "model, opt = get_model()\n",
    "\n",
    "for epoch in range(epochs):\n",
    "    for xb, yb in train_dl:\n",
    "        pred = model(xb)\n",
    "        loss = loss_func(pred, yb)\n",
    "        \n",
    "        loss.backward()\n",
    "        opt.step()\n",
    "        opt.zero_grad()\n",
    "    \n",
    "        \n",
    "print(f\" 학습 후 loss -> {loss_func(model(xb),yb)}\")\n",
    "print(f\" 학습 후 accuracy -> {accuracy(model(xb), yb)}\")"
   ]
  },
  {
   "cell_type": "code",
   "execution_count": null,
   "id": "89917064",
   "metadata": {},
   "outputs": [],
   "source": []
  },
  {
   "cell_type": "markdown",
   "id": "ef89f304",
   "metadata": {},
   "source": [
    "## 5.  Validation data "
   ]
  },
  {
   "cell_type": "code",
   "execution_count": 44,
   "id": "9a75b650",
   "metadata": {},
   "outputs": [],
   "source": [
    "train_ds = TensorDataset(x_train, y_train)\n",
    "train_dl = DataLoader(train_ds, batch_size=bs, shuffle=True)\n",
    "\n",
    "valid_ds = TensorDataset(x_valid, y_valid)\n",
    "valid_dl = DataLoader(valid_ds, batch_size=bs*2)"
   ]
  },
  {
   "cell_type": "code",
   "execution_count": 45,
   "id": "413389b0",
   "metadata": {},
   "outputs": [
    {
     "name": "stdout",
     "output_type": "stream",
     "text": [
      "0 tensor(0.3200)\n",
      "1 tensor(0.2774)\n"
     ]
    }
   ],
   "source": [
    "model, opt = get_model()\n",
    "\n",
    "for epoch in range(epochs):\n",
    "    model.train()\n",
    "    for xb, yb in train_dl:\n",
    "        pred = model(xb)\n",
    "        loss = loss_func(pred, yb)\n",
    "        \n",
    "        loss.backward()\n",
    "        opt.step()\n",
    "        opt.zero_grad()\n",
    "        \n",
    "    model.eval()\n",
    "    with torch.no_grad():\n",
    "        valid_loss = sum(loss_func(model(xb), yb) for xb,yb in valid_dl)\n",
    "        \n",
    "    print(epoch, valid_loss/len(valid_dl))"
   ]
  },
  {
   "cell_type": "code",
   "execution_count": null,
   "id": "c7293416",
   "metadata": {},
   "outputs": [],
   "source": []
  },
  {
   "cell_type": "markdown",
   "id": "32a7e7e8",
   "metadata": {},
   "source": [
    "## 6. fit(), get_data() 생성"
   ]
  },
  {
   "cell_type": "code",
   "execution_count": 56,
   "id": "6ebc4bc4",
   "metadata": {},
   "outputs": [],
   "source": [
    "def loss_batch(model, loss_func, xb, yb, opt=None):\n",
    "    loss = loss_func(model(xb), yb)\n",
    "    \n",
    "    if opt is not None:\n",
    "        loss.backward()\n",
    "        opt.step()\n",
    "        opt.zero_grad()\n",
    "        \n",
    "    return loss.item(), len(xb)"
   ]
  },
  {
   "cell_type": "code",
   "execution_count": 57,
   "id": "2ee578b5",
   "metadata": {},
   "outputs": [],
   "source": [
    "import numpy as np"
   ]
  },
  {
   "cell_type": "code",
   "execution_count": 58,
   "id": "67e470af",
   "metadata": {},
   "outputs": [],
   "source": [
    "def fit(epochs, model, loss_func, opt, train_dl, valid_dl):\n",
    "    for epoch in range(epochs):\n",
    "        model.train()\n",
    "        for xb, yb in train_dl:\n",
    "            loss_batch(model, loss_func, xb, yb, opt)\n",
    "            \n",
    "        model.eval()\n",
    "        with torch.no_grad():\n",
    "            losses, nums = zip(\n",
    "            *[loss_batch(model, loss_func, xb,yb) for xb, yb in valid_dl]\n",
    "            )\n",
    "        val_loss = np.sum(np.multiply(losses, nums)) / np.sum(nums)\n",
    "        \n",
    "        print(epoch, val_loss)\n",
    "        "
   ]
  },
  {
   "cell_type": "code",
   "execution_count": 59,
   "id": "0f147ee3",
   "metadata": {},
   "outputs": [],
   "source": [
    "def get_data(train_ds, valid_ds, bs):\n",
    "    return (\n",
    "            DataLoader(train_ds, batch_size=bs, shuffle=True),\n",
    "            DataLoader(valid_ds, batch_size=bs*2))"
   ]
  },
  {
   "cell_type": "code",
   "execution_count": 60,
   "id": "628f7546",
   "metadata": {},
   "outputs": [
    {
     "name": "stdout",
     "output_type": "stream",
     "text": [
      "0 0.3070010386943817\n",
      "1 0.3012943680882454\n"
     ]
    }
   ],
   "source": [
    "train_dl, valid_dl = get_data(train_ds, valid_ds, bs)\n",
    "model, opt = get_model()\n",
    "fit(epochs, model, loss_func, opt, train_dl, valid_dl)"
   ]
  },
  {
   "cell_type": "code",
   "execution_count": null,
   "id": "fea0b842",
   "metadata": {},
   "outputs": [],
   "source": []
  },
  {
   "cell_type": "markdown",
   "id": "9851dd8f",
   "metadata": {},
   "source": [
    "## 7. CNN"
   ]
  },
  {
   "cell_type": "code",
   "execution_count": 67,
   "id": "11115db1",
   "metadata": {},
   "outputs": [],
   "source": [
    "class Mnist_CNN(nn.Module):\n",
    "    def __init__(self):\n",
    "        super().__init__()\n",
    "        self.conv1 = nn.Conv2d(1, 16, kernel_size=3, stride=2, padding=1)\n",
    "        self.conv2 = nn.Conv2d(16, 16, kernel_size=3, stride=2, padding=1)\n",
    "        self.conv3 = nn.Conv2d(16, 10, kernel_size=3, stride=2, padding=1)\n",
    "        \n",
    "    def forward(self, xb):\n",
    "        xb = xb.view(-1,1,28,28)\n",
    "        xb = F.relu(self.conv1(xb))\n",
    "        xb = F.relu(self.conv2(xb))\n",
    "        xb = F.relu(self.conv3(xb))\n",
    "        xb = F.avg_pool2d(xb,4)\n",
    "        return xb.view(-1, xb.size(1))\n",
    "    \n",
    "lr= 0.1"
   ]
  },
  {
   "cell_type": "code",
   "execution_count": 68,
   "id": "84d55fc5",
   "metadata": {},
   "outputs": [
    {
     "name": "stdout",
     "output_type": "stream",
     "text": [
      "0 0.3514069197416306\n",
      "1 0.23066942761540413\n"
     ]
    }
   ],
   "source": [
    "model = Mnist_CNN()\n",
    "opt = optim.SGD(model.parameters(), lr=lr, momentum=0.9)\n",
    "fit(epochs, model, loss_func, opt, train_dl, valid_dl)"
   ]
  },
  {
   "cell_type": "markdown",
   "id": "9a0d8515",
   "metadata": {},
   "source": [
    "## 8. nn.Sequential 사용"
   ]
  },
  {
   "cell_type": "code",
   "execution_count": 74,
   "id": "cc36f28b",
   "metadata": {},
   "outputs": [],
   "source": [
    "class Lambda(nn.Module):\n",
    "    def __init__(self, func):\n",
    "        super().__init__()\n",
    "        self.func = func\n",
    "        \n",
    "    def forward(self, x):\n",
    "        return self.func(x)\n",
    "    \n",
    "def preprocess(x):\n",
    "    return x.view(-1, 1, 28, 28)"
   ]
  },
  {
   "cell_type": "code",
   "execution_count": 76,
   "id": "17e11fe0",
   "metadata": {},
   "outputs": [
    {
     "name": "stdout",
     "output_type": "stream",
     "text": [
      "0 0.4239803113460541\n",
      "1 0.22280159608125685\n"
     ]
    }
   ],
   "source": [
    "model = nn.Sequential(\n",
    "        Lambda(preprocess),\n",
    "        nn.Conv2d(1,16,kernel_size=3, stride=2, padding=1),\n",
    "        nn.ReLU(),\n",
    "        nn.Conv2d(16,16, kernel_size=3, stride=2, padding=1),\n",
    "        nn.ReLU(),\n",
    "        nn.Conv2d(16,10, kernel_size=3, stride=2, padding=1),\n",
    "        nn.ReLU(),\n",
    "        nn.AvgPool2d(4),\n",
    "        Lambda(lambda x: x.view(x.size(0), -1)),\n",
    "        )\n",
    "\n",
    "opt = optim.SGD(model.parameters(), lr=lr, momentum=0.9)\n",
    "fit(epochs, model, loss_func, opt, train_dl, valid_dl)"
   ]
  },
  {
   "cell_type": "code",
   "execution_count": null,
   "id": "0cb82a76",
   "metadata": {},
   "outputs": [],
   "source": []
  },
  {
   "cell_type": "code",
   "execution_count": null,
   "id": "892efe69",
   "metadata": {},
   "outputs": [],
   "source": []
  },
  {
   "cell_type": "markdown",
   "id": "8bc10802",
   "metadata": {},
   "source": [
    "    - 위의  CNN은 28*28 vector라고 가정하고,\n",
    "    cnn grid size를 4*4 라고 가정했기 때문에 MNIST에서만 작동함\n",
    "    \n",
    "    - 위 가정을 제거해서 모델이 모든 2d channel 이미지에서 작동하게 함"
   ]
  },
  {
   "cell_type": "code",
   "execution_count": 77,
   "id": "384cc4a6",
   "metadata": {},
   "outputs": [],
   "source": [
    "def preprocess(x, y):\n",
    "    return x.view(-1,1,28,28),y\n",
    "\n",
    "class WrapperDataLoader():\n",
    "    def __init__(self, dl, func):\n",
    "        self.dl = dl\n",
    "        self.func = func\n",
    "        \n",
    "    def __len__(self):\n",
    "        return len(self.dl)\n",
    "    \n",
    "    def __iter__(self):\n",
    "        batches = iter(self.dl)\n",
    "        for b in batches:\n",
    "            yield(self.func(*b))"
   ]
  },
  {
   "cell_type": "code",
   "execution_count": 78,
   "id": "f485477d",
   "metadata": {},
   "outputs": [],
   "source": [
    "trian_dl, valid_dl = get_data(train_ds, valid_ds, bs)\n",
    "train_dl = WrapperDataLoader(train_dl, preprocess)\n",
    "valid_dl = WrapperDataLoader(valid_dl, preprocess)"
   ]
  },
  {
   "cell_type": "code",
   "execution_count": 79,
   "id": "c6055887",
   "metadata": {},
   "outputs": [],
   "source": [
    "model = nn.Sequential(\n",
    "    nn.Conv2d(1, 16, kernel_size=3, stride=2, padding=1),\n",
    "    nn.ReLU(),\n",
    "    nn.Conv2d(16, 16, kernel_size=3, stride=2, padding=1),\n",
    "    nn.ReLU(),\n",
    "    nn.Conv2d(16, 10, kernel_size=3, stride=2, padding=1),\n",
    "    nn.ReLU(),\n",
    "    nn.AdaptiveAvgPool2d(1),\n",
    "    Lambda(lambda x: x.view(x.size(0), -1)),\n",
    ")\n",
    "\n",
    "opt = optim.SGD(model.parameters(), lr=lr, momentum=0.9)"
   ]
  },
  {
   "cell_type": "code",
   "execution_count": 80,
   "id": "2642e24a",
   "metadata": {},
   "outputs": [
    {
     "name": "stdout",
     "output_type": "stream",
     "text": [
      "0 0.3531580195903778\n",
      "1 0.2702534495949745\n"
     ]
    }
   ],
   "source": [
    "fit(epochs, model, loss_func, opt, train_dl, valid_dl)"
   ]
  },
  {
   "cell_type": "code",
   "execution_count": null,
   "id": "59c3fbfa",
   "metadata": {},
   "outputs": [],
   "source": []
  },
  {
   "cell_type": "markdown",
   "id": "260171d1",
   "metadata": {},
   "source": [
    "## 9. GPU 사용"
   ]
  },
  {
   "cell_type": "code",
   "execution_count": 81,
   "id": "3ce49636",
   "metadata": {},
   "outputs": [
    {
     "name": "stdout",
     "output_type": "stream",
     "text": [
      "False\n"
     ]
    }
   ],
   "source": [
    "print(torch.cuda.is_available())"
   ]
  },
  {
   "cell_type": "markdown",
   "id": "f01e1639",
   "metadata": {},
   "source": [
    "    -> 현재 컴퓨터에 cuda 설치를 안해서 pass\n",
    "    colab으로 그 이후는 넘어감"
   ]
  },
  {
   "cell_type": "code",
   "execution_count": null,
   "id": "10e509d4",
   "metadata": {},
   "outputs": [],
   "source": []
  }
 ],
 "metadata": {
  "kernelspec": {
   "display_name": "Python 3 (ipykernel)",
   "language": "python",
   "name": "python3"
  },
  "language_info": {
   "codemirror_mode": {
    "name": "ipython",
    "version": 3
   },
   "file_extension": ".py",
   "mimetype": "text/x-python",
   "name": "python",
   "nbconvert_exporter": "python",
   "pygments_lexer": "ipython3",
   "version": "3.9.13"
  }
 },
 "nbformat": 4,
 "nbformat_minor": 5
}
