{
 "cells": [
  {
   "cell_type": "markdown",
   "id": "a50b33ab",
   "metadata": {},
   "source": [
    "#### Diabetes(당뇨병) 데이터와 Linear Regression"
   ]
  },
  {
   "cell_type": "code",
   "execution_count": 1,
   "id": "cb8ef982",
   "metadata": {},
   "outputs": [
    {
     "name": "stderr",
     "output_type": "stream",
     "text": [
      "C:\\Users\\PC\\anaconda3\\envs\\vmconda\\lib\\site-packages\\numpy\\_distributor_init.py:32: UserWarning: loaded more than 1 DLL from .libs:\n",
      "C:\\Users\\PC\\anaconda3\\envs\\vmconda\\lib\\site-packages\\numpy\\.libs\\libopenblas.TXA6YQSD3GCQQC22GEQ54J2UDCXDXHWN.gfortran-win_amd64.dll\n",
      "C:\\Users\\PC\\anaconda3\\envs\\vmconda\\lib\\site-packages\\numpy\\.libs\\libopenblas.WCDJNK7YVMPZQ2ME2ZZHJJRJ3JIKNDB7.gfortran-win_amd64.dll\n",
      "  stacklevel=1)\n"
     ]
    }
   ],
   "source": [
    "import pandas as pd\n",
    "import numpy as np\n",
    "import matplotlib.pyplot as plt\n",
    "\n",
    "np.random.seed(2021)"
   ]
  },
  {
   "cell_type": "markdown",
   "id": "67d61fd8",
   "metadata": {},
   "source": [
    "### 1. Data"
   ]
  },
  {
   "cell_type": "markdown",
   "id": "aae674ad",
   "metadata": {},
   "source": [
    "#### 1-1. Data Load"
   ]
  },
  {
   "cell_type": "code",
   "execution_count": 2,
   "id": "2928a0d1",
   "metadata": {},
   "outputs": [],
   "source": [
    "from sklearn.datasets import load_diabetes\n",
    "\n",
    "diabetes = load_diabetes()"
   ]
  },
  {
   "cell_type": "code",
   "execution_count": 3,
   "id": "2f585e8e",
   "metadata": {},
   "outputs": [
    {
     "data": {
      "text/plain": [
       "['age', 'sex', 'bmi', 'bp', 's1', 's2', 's3', 's4', 's5', 's6']"
      ]
     },
     "execution_count": 3,
     "metadata": {},
     "output_type": "execute_result"
    }
   ],
   "source": [
    "diabetes['feature_names']"
   ]
  },
  {
   "cell_type": "markdown",
   "id": "78e42fd2",
   "metadata": {},
   "source": [
    "- 1) age : 나이\n",
    "- 2) sex : 성별\n",
    "- 3) bmi : body mass index\n",
    "- 4) bp : Average blood pressure\n",
    "- 5) 혈청에 대한 6가지 지표들 : S1, S2, S3, S4, S5, S6"
   ]
  },
  {
   "cell_type": "code",
   "execution_count": 4,
   "id": "0589def7",
   "metadata": {},
   "outputs": [],
   "source": [
    "data, target = diabetes['data'], diabetes['target']"
   ]
  },
  {
   "cell_type": "code",
   "execution_count": 5,
   "id": "4c148ff8",
   "metadata": {},
   "outputs": [
    {
     "data": {
      "text/plain": [
       "array([ 0.03807591,  0.05068012,  0.06169621,  0.02187235, -0.0442235 ,\n",
       "       -0.03482076, -0.04340085, -0.00259226,  0.01990842, -0.01764613])"
      ]
     },
     "execution_count": 5,
     "metadata": {},
     "output_type": "execute_result"
    }
   ],
   "source": [
    "data[0]"
   ]
  },
  {
   "cell_type": "code",
   "execution_count": 6,
   "id": "3466a6c0",
   "metadata": {},
   "outputs": [
    {
     "data": {
      "text/plain": [
       "151.0"
      ]
     },
     "execution_count": 6,
     "metadata": {},
     "output_type": "execute_result"
    }
   ],
   "source": [
    "target[0]"
   ]
  },
  {
   "cell_type": "markdown",
   "id": "74544106",
   "metadata": {},
   "source": [
    "#### 1-2. Data EDA"
   ]
  },
  {
   "cell_type": "code",
   "execution_count": 7,
   "id": "5dd7d616",
   "metadata": {},
   "outputs": [
    {
     "data": {
      "text/html": [
       "<div>\n",
       "<style scoped>\n",
       "    .dataframe tbody tr th:only-of-type {\n",
       "        vertical-align: middle;\n",
       "    }\n",
       "\n",
       "    .dataframe tbody tr th {\n",
       "        vertical-align: top;\n",
       "    }\n",
       "\n",
       "    .dataframe thead th {\n",
       "        text-align: right;\n",
       "    }\n",
       "</style>\n",
       "<table border=\"1\" class=\"dataframe\">\n",
       "  <thead>\n",
       "    <tr style=\"text-align: right;\">\n",
       "      <th></th>\n",
       "      <th>age</th>\n",
       "      <th>sex</th>\n",
       "      <th>bmi</th>\n",
       "      <th>bp</th>\n",
       "      <th>s1</th>\n",
       "      <th>s2</th>\n",
       "      <th>s3</th>\n",
       "      <th>s4</th>\n",
       "      <th>s5</th>\n",
       "      <th>s6</th>\n",
       "    </tr>\n",
       "  </thead>\n",
       "  <tbody>\n",
       "    <tr>\n",
       "      <th>0</th>\n",
       "      <td>0.038076</td>\n",
       "      <td>0.050680</td>\n",
       "      <td>0.061696</td>\n",
       "      <td>0.021872</td>\n",
       "      <td>-0.044223</td>\n",
       "      <td>-0.034821</td>\n",
       "      <td>-0.043401</td>\n",
       "      <td>-0.002592</td>\n",
       "      <td>0.019908</td>\n",
       "      <td>-0.017646</td>\n",
       "    </tr>\n",
       "    <tr>\n",
       "      <th>1</th>\n",
       "      <td>-0.001882</td>\n",
       "      <td>-0.044642</td>\n",
       "      <td>-0.051474</td>\n",
       "      <td>-0.026328</td>\n",
       "      <td>-0.008449</td>\n",
       "      <td>-0.019163</td>\n",
       "      <td>0.074412</td>\n",
       "      <td>-0.039493</td>\n",
       "      <td>-0.068330</td>\n",
       "      <td>-0.092204</td>\n",
       "    </tr>\n",
       "    <tr>\n",
       "      <th>2</th>\n",
       "      <td>0.085299</td>\n",
       "      <td>0.050680</td>\n",
       "      <td>0.044451</td>\n",
       "      <td>-0.005671</td>\n",
       "      <td>-0.045599</td>\n",
       "      <td>-0.034194</td>\n",
       "      <td>-0.032356</td>\n",
       "      <td>-0.002592</td>\n",
       "      <td>0.002864</td>\n",
       "      <td>-0.025930</td>\n",
       "    </tr>\n",
       "    <tr>\n",
       "      <th>3</th>\n",
       "      <td>-0.089063</td>\n",
       "      <td>-0.044642</td>\n",
       "      <td>-0.011595</td>\n",
       "      <td>-0.036656</td>\n",
       "      <td>0.012191</td>\n",
       "      <td>0.024991</td>\n",
       "      <td>-0.036038</td>\n",
       "      <td>0.034309</td>\n",
       "      <td>0.022692</td>\n",
       "      <td>-0.009362</td>\n",
       "    </tr>\n",
       "    <tr>\n",
       "      <th>4</th>\n",
       "      <td>0.005383</td>\n",
       "      <td>-0.044642</td>\n",
       "      <td>-0.036385</td>\n",
       "      <td>0.021872</td>\n",
       "      <td>0.003935</td>\n",
       "      <td>0.015596</td>\n",
       "      <td>0.008142</td>\n",
       "      <td>-0.002592</td>\n",
       "      <td>-0.031991</td>\n",
       "      <td>-0.046641</td>\n",
       "    </tr>\n",
       "    <tr>\n",
       "      <th>...</th>\n",
       "      <td>...</td>\n",
       "      <td>...</td>\n",
       "      <td>...</td>\n",
       "      <td>...</td>\n",
       "      <td>...</td>\n",
       "      <td>...</td>\n",
       "      <td>...</td>\n",
       "      <td>...</td>\n",
       "      <td>...</td>\n",
       "      <td>...</td>\n",
       "    </tr>\n",
       "    <tr>\n",
       "      <th>437</th>\n",
       "      <td>0.041708</td>\n",
       "      <td>0.050680</td>\n",
       "      <td>0.019662</td>\n",
       "      <td>0.059744</td>\n",
       "      <td>-0.005697</td>\n",
       "      <td>-0.002566</td>\n",
       "      <td>-0.028674</td>\n",
       "      <td>-0.002592</td>\n",
       "      <td>0.031193</td>\n",
       "      <td>0.007207</td>\n",
       "    </tr>\n",
       "    <tr>\n",
       "      <th>438</th>\n",
       "      <td>-0.005515</td>\n",
       "      <td>0.050680</td>\n",
       "      <td>-0.015906</td>\n",
       "      <td>-0.067642</td>\n",
       "      <td>0.049341</td>\n",
       "      <td>0.079165</td>\n",
       "      <td>-0.028674</td>\n",
       "      <td>0.034309</td>\n",
       "      <td>-0.018118</td>\n",
       "      <td>0.044485</td>\n",
       "    </tr>\n",
       "    <tr>\n",
       "      <th>439</th>\n",
       "      <td>0.041708</td>\n",
       "      <td>0.050680</td>\n",
       "      <td>-0.015906</td>\n",
       "      <td>0.017282</td>\n",
       "      <td>-0.037344</td>\n",
       "      <td>-0.013840</td>\n",
       "      <td>-0.024993</td>\n",
       "      <td>-0.011080</td>\n",
       "      <td>-0.046879</td>\n",
       "      <td>0.015491</td>\n",
       "    </tr>\n",
       "    <tr>\n",
       "      <th>440</th>\n",
       "      <td>-0.045472</td>\n",
       "      <td>-0.044642</td>\n",
       "      <td>0.039062</td>\n",
       "      <td>0.001215</td>\n",
       "      <td>0.016318</td>\n",
       "      <td>0.015283</td>\n",
       "      <td>-0.028674</td>\n",
       "      <td>0.026560</td>\n",
       "      <td>0.044528</td>\n",
       "      <td>-0.025930</td>\n",
       "    </tr>\n",
       "    <tr>\n",
       "      <th>441</th>\n",
       "      <td>-0.045472</td>\n",
       "      <td>-0.044642</td>\n",
       "      <td>-0.073030</td>\n",
       "      <td>-0.081414</td>\n",
       "      <td>0.083740</td>\n",
       "      <td>0.027809</td>\n",
       "      <td>0.173816</td>\n",
       "      <td>-0.039493</td>\n",
       "      <td>-0.004220</td>\n",
       "      <td>0.003064</td>\n",
       "    </tr>\n",
       "  </tbody>\n",
       "</table>\n",
       "<p>442 rows × 10 columns</p>\n",
       "</div>"
      ],
      "text/plain": [
       "          age       sex       bmi        bp        s1        s2        s3  \\\n",
       "0    0.038076  0.050680  0.061696  0.021872 -0.044223 -0.034821 -0.043401   \n",
       "1   -0.001882 -0.044642 -0.051474 -0.026328 -0.008449 -0.019163  0.074412   \n",
       "2    0.085299  0.050680  0.044451 -0.005671 -0.045599 -0.034194 -0.032356   \n",
       "3   -0.089063 -0.044642 -0.011595 -0.036656  0.012191  0.024991 -0.036038   \n",
       "4    0.005383 -0.044642 -0.036385  0.021872  0.003935  0.015596  0.008142   \n",
       "..        ...       ...       ...       ...       ...       ...       ...   \n",
       "437  0.041708  0.050680  0.019662  0.059744 -0.005697 -0.002566 -0.028674   \n",
       "438 -0.005515  0.050680 -0.015906 -0.067642  0.049341  0.079165 -0.028674   \n",
       "439  0.041708  0.050680 -0.015906  0.017282 -0.037344 -0.013840 -0.024993   \n",
       "440 -0.045472 -0.044642  0.039062  0.001215  0.016318  0.015283 -0.028674   \n",
       "441 -0.045472 -0.044642 -0.073030 -0.081414  0.083740  0.027809  0.173816   \n",
       "\n",
       "           s4        s5        s6  \n",
       "0   -0.002592  0.019908 -0.017646  \n",
       "1   -0.039493 -0.068330 -0.092204  \n",
       "2   -0.002592  0.002864 -0.025930  \n",
       "3    0.034309  0.022692 -0.009362  \n",
       "4   -0.002592 -0.031991 -0.046641  \n",
       "..        ...       ...       ...  \n",
       "437 -0.002592  0.031193  0.007207  \n",
       "438  0.034309 -0.018118  0.044485  \n",
       "439 -0.011080 -0.046879  0.015491  \n",
       "440  0.026560  0.044528 -0.025930  \n",
       "441 -0.039493 -0.004220  0.003064  \n",
       "\n",
       "[442 rows x 10 columns]"
      ]
     },
     "execution_count": 7,
     "metadata": {},
     "output_type": "execute_result"
    }
   ],
   "source": [
    "df = pd.DataFrame(data, columns=diabetes['feature_names'])\n",
    "df"
   ]
  },
  {
   "cell_type": "code",
   "execution_count": 8,
   "id": "4b16b742",
   "metadata": {},
   "outputs": [
    {
     "data": {
      "text/html": [
       "<div>\n",
       "<style scoped>\n",
       "    .dataframe tbody tr th:only-of-type {\n",
       "        vertical-align: middle;\n",
       "    }\n",
       "\n",
       "    .dataframe tbody tr th {\n",
       "        vertical-align: top;\n",
       "    }\n",
       "\n",
       "    .dataframe thead th {\n",
       "        text-align: right;\n",
       "    }\n",
       "</style>\n",
       "<table border=\"1\" class=\"dataframe\">\n",
       "  <thead>\n",
       "    <tr style=\"text-align: right;\">\n",
       "      <th></th>\n",
       "      <th>age</th>\n",
       "      <th>sex</th>\n",
       "      <th>bmi</th>\n",
       "      <th>bp</th>\n",
       "      <th>s1</th>\n",
       "      <th>s2</th>\n",
       "      <th>s3</th>\n",
       "      <th>s4</th>\n",
       "      <th>s5</th>\n",
       "      <th>s6</th>\n",
       "    </tr>\n",
       "  </thead>\n",
       "  <tbody>\n",
       "    <tr>\n",
       "      <th>count</th>\n",
       "      <td>4.420000e+02</td>\n",
       "      <td>4.420000e+02</td>\n",
       "      <td>4.420000e+02</td>\n",
       "      <td>4.420000e+02</td>\n",
       "      <td>4.420000e+02</td>\n",
       "      <td>4.420000e+02</td>\n",
       "      <td>4.420000e+02</td>\n",
       "      <td>4.420000e+02</td>\n",
       "      <td>4.420000e+02</td>\n",
       "      <td>4.420000e+02</td>\n",
       "    </tr>\n",
       "    <tr>\n",
       "      <th>mean</th>\n",
       "      <td>-3.639623e-16</td>\n",
       "      <td>1.309912e-16</td>\n",
       "      <td>-8.013951e-16</td>\n",
       "      <td>1.289818e-16</td>\n",
       "      <td>-9.042540e-17</td>\n",
       "      <td>1.301121e-16</td>\n",
       "      <td>-4.563971e-16</td>\n",
       "      <td>3.863174e-16</td>\n",
       "      <td>-3.848103e-16</td>\n",
       "      <td>-3.398488e-16</td>\n",
       "    </tr>\n",
       "    <tr>\n",
       "      <th>std</th>\n",
       "      <td>4.761905e-02</td>\n",
       "      <td>4.761905e-02</td>\n",
       "      <td>4.761905e-02</td>\n",
       "      <td>4.761905e-02</td>\n",
       "      <td>4.761905e-02</td>\n",
       "      <td>4.761905e-02</td>\n",
       "      <td>4.761905e-02</td>\n",
       "      <td>4.761905e-02</td>\n",
       "      <td>4.761905e-02</td>\n",
       "      <td>4.761905e-02</td>\n",
       "    </tr>\n",
       "    <tr>\n",
       "      <th>min</th>\n",
       "      <td>-1.072256e-01</td>\n",
       "      <td>-4.464164e-02</td>\n",
       "      <td>-9.027530e-02</td>\n",
       "      <td>-1.123996e-01</td>\n",
       "      <td>-1.267807e-01</td>\n",
       "      <td>-1.156131e-01</td>\n",
       "      <td>-1.023071e-01</td>\n",
       "      <td>-7.639450e-02</td>\n",
       "      <td>-1.260974e-01</td>\n",
       "      <td>-1.377672e-01</td>\n",
       "    </tr>\n",
       "    <tr>\n",
       "      <th>25%</th>\n",
       "      <td>-3.729927e-02</td>\n",
       "      <td>-4.464164e-02</td>\n",
       "      <td>-3.422907e-02</td>\n",
       "      <td>-3.665645e-02</td>\n",
       "      <td>-3.424784e-02</td>\n",
       "      <td>-3.035840e-02</td>\n",
       "      <td>-3.511716e-02</td>\n",
       "      <td>-3.949338e-02</td>\n",
       "      <td>-3.324879e-02</td>\n",
       "      <td>-3.317903e-02</td>\n",
       "    </tr>\n",
       "    <tr>\n",
       "      <th>50%</th>\n",
       "      <td>5.383060e-03</td>\n",
       "      <td>-4.464164e-02</td>\n",
       "      <td>-7.283766e-03</td>\n",
       "      <td>-5.670611e-03</td>\n",
       "      <td>-4.320866e-03</td>\n",
       "      <td>-3.819065e-03</td>\n",
       "      <td>-6.584468e-03</td>\n",
       "      <td>-2.592262e-03</td>\n",
       "      <td>-1.947634e-03</td>\n",
       "      <td>-1.077698e-03</td>\n",
       "    </tr>\n",
       "    <tr>\n",
       "      <th>75%</th>\n",
       "      <td>3.807591e-02</td>\n",
       "      <td>5.068012e-02</td>\n",
       "      <td>3.124802e-02</td>\n",
       "      <td>3.564384e-02</td>\n",
       "      <td>2.835801e-02</td>\n",
       "      <td>2.984439e-02</td>\n",
       "      <td>2.931150e-02</td>\n",
       "      <td>3.430886e-02</td>\n",
       "      <td>3.243323e-02</td>\n",
       "      <td>2.791705e-02</td>\n",
       "    </tr>\n",
       "    <tr>\n",
       "      <th>max</th>\n",
       "      <td>1.107267e-01</td>\n",
       "      <td>5.068012e-02</td>\n",
       "      <td>1.705552e-01</td>\n",
       "      <td>1.320442e-01</td>\n",
       "      <td>1.539137e-01</td>\n",
       "      <td>1.987880e-01</td>\n",
       "      <td>1.811791e-01</td>\n",
       "      <td>1.852344e-01</td>\n",
       "      <td>1.335990e-01</td>\n",
       "      <td>1.356118e-01</td>\n",
       "    </tr>\n",
       "  </tbody>\n",
       "</table>\n",
       "</div>"
      ],
      "text/plain": [
       "                age           sex           bmi            bp            s1  \\\n",
       "count  4.420000e+02  4.420000e+02  4.420000e+02  4.420000e+02  4.420000e+02   \n",
       "mean  -3.639623e-16  1.309912e-16 -8.013951e-16  1.289818e-16 -9.042540e-17   \n",
       "std    4.761905e-02  4.761905e-02  4.761905e-02  4.761905e-02  4.761905e-02   \n",
       "min   -1.072256e-01 -4.464164e-02 -9.027530e-02 -1.123996e-01 -1.267807e-01   \n",
       "25%   -3.729927e-02 -4.464164e-02 -3.422907e-02 -3.665645e-02 -3.424784e-02   \n",
       "50%    5.383060e-03 -4.464164e-02 -7.283766e-03 -5.670611e-03 -4.320866e-03   \n",
       "75%    3.807591e-02  5.068012e-02  3.124802e-02  3.564384e-02  2.835801e-02   \n",
       "max    1.107267e-01  5.068012e-02  1.705552e-01  1.320442e-01  1.539137e-01   \n",
       "\n",
       "                 s2            s3            s4            s5            s6  \n",
       "count  4.420000e+02  4.420000e+02  4.420000e+02  4.420000e+02  4.420000e+02  \n",
       "mean   1.301121e-16 -4.563971e-16  3.863174e-16 -3.848103e-16 -3.398488e-16  \n",
       "std    4.761905e-02  4.761905e-02  4.761905e-02  4.761905e-02  4.761905e-02  \n",
       "min   -1.156131e-01 -1.023071e-01 -7.639450e-02 -1.260974e-01 -1.377672e-01  \n",
       "25%   -3.035840e-02 -3.511716e-02 -3.949338e-02 -3.324879e-02 -3.317903e-02  \n",
       "50%   -3.819065e-03 -6.584468e-03 -2.592262e-03 -1.947634e-03 -1.077698e-03  \n",
       "75%    2.984439e-02  2.931150e-02  3.430886e-02  3.243323e-02  2.791705e-02  \n",
       "max    1.987880e-01  1.811791e-01  1.852344e-01  1.335990e-01  1.356118e-01  "
      ]
     },
     "execution_count": 8,
     "metadata": {},
     "output_type": "execute_result"
    }
   ],
   "source": [
    "df.describe()"
   ]
  },
  {
   "cell_type": "markdown",
   "id": "8c88cafc",
   "metadata": {},
   "source": [
    "#### 1-3. Data Split"
   ]
  },
  {
   "attachments": {
    "image.png": {
     "image/png": "[encoded data removed]"
    }
   },
   "cell_type": "markdown",
   "id": "b588574b",
   "metadata": {},
   "source": [
    "![image.png](attachment:image.png)"
   ]
  },
  {
   "cell_type": "code",
   "execution_count": 9,
   "id": "a53fcf6d",
   "metadata": {},
   "outputs": [],
   "source": [
    "from sklearn.model_selection import train_test_split"
   ]
  },
  {
   "cell_type": "code",
   "execution_count": 10,
   "id": "6916e6fa",
   "metadata": {},
   "outputs": [],
   "source": [
    "train_data, test_data, train_target, test_target = train_test_split(data, target, test_size=0.3)"
   ]
  },
  {
   "cell_type": "code",
   "execution_count": 11,
   "id": "dcdb9984",
   "metadata": {},
   "outputs": [
    {
     "name": "stdout",
     "output_type": "stream",
     "text": [
      "(309, 10)\n",
      "(133, 10)\n",
      "(442, 10)\n"
     ]
    }
   ],
   "source": [
    "print(train_data.shape)\n",
    "print(test_data.shape)\n",
    "print(data.shape)"
   ]
  },
  {
   "cell_type": "code",
   "execution_count": 12,
   "id": "d77a0d8c",
   "metadata": {},
   "outputs": [
    {
     "name": "stdout",
     "output_type": "stream",
     "text": [
      "train ratio: 0.70\n",
      "test ratio: 0.30\n"
     ]
    }
   ],
   "source": [
    "print('train ratio: {:.2f}'.format(len(train_data)/len(data)))\n",
    "print('test ratio: {:.2f}'.format(len(test_data)/len(data)))"
   ]
  },
  {
   "cell_type": "markdown",
   "id": "e9b57213",
   "metadata": {},
   "source": [
    "### 2. Multivariabe Regression"
   ]
  },
  {
   "cell_type": "markdown",
   "id": "9c0a9a58",
   "metadata": {},
   "source": [
    "#### 2-1. 학습"
   ]
  },
  {
   "cell_type": "code",
   "execution_count": 13,
   "id": "230ebabd",
   "metadata": {},
   "outputs": [],
   "source": [
    "from sklearn.linear_model import LinearRegression"
   ]
  },
  {
   "cell_type": "code",
   "execution_count": 14,
   "id": "1be3e120",
   "metadata": {},
   "outputs": [
    {
     "data": {
      "text/plain": [
       "LinearRegression()"
      ]
     },
     "execution_count": 14,
     "metadata": {},
     "output_type": "execute_result"
    }
   ],
   "source": [
    "multi_regressor = LinearRegression()\n",
    "multi_regressor.fit(train_data, train_target)"
   ]
  },
  {
   "cell_type": "markdown",
   "id": "c287e144",
   "metadata": {},
   "source": [
    "#### 2-2. 회귀식 확인"
   ]
  },
  {
   "cell_type": "code",
   "execution_count": 15,
   "id": "7754a0d2",
   "metadata": {},
   "outputs": [
    {
     "data": {
      "text/plain": [
       "147.71524417759434"
      ]
     },
     "execution_count": 15,
     "metadata": {},
     "output_type": "execute_result"
    }
   ],
   "source": [
    "multi_regressor.intercept_"
   ]
  },
  {
   "cell_type": "code",
   "execution_count": 16,
   "id": "03a3eb2a",
   "metadata": {},
   "outputs": [
    {
     "data": {
      "text/plain": [
       "array([  15.28529701, -218.59128442,  545.19999487,  263.6592052 ,\n",
       "       -582.66349612,  317.33684049,   48.53542723,  215.51374612,\n",
       "        655.7965519 ,   64.04030953])"
      ]
     },
     "execution_count": 16,
     "metadata": {},
     "output_type": "execute_result"
    }
   ],
   "source": [
    "multi_regressor.coef_"
   ]
  },
  {
   "cell_type": "markdown",
   "id": "44ef72cc",
   "metadata": {},
   "source": [
    "#### 2.3 예측"
   ]
  },
  {
   "cell_type": "code",
   "execution_count": 17,
   "id": "b2289278",
   "metadata": {},
   "outputs": [],
   "source": [
    "multi_train_pred = multi_regressor.predict(train_data)\n",
    "multi_test_pred = multi_regressor.predict(test_data)"
   ]
  },
  {
   "cell_type": "code",
   "execution_count": 18,
   "id": "1a6e1e70",
   "metadata": {
    "scrolled": true
   },
   "outputs": [
    {
     "data": {
      "text/plain": [
       "array([253.58251888, 139.47245395, 175.25016285,  60.9374934 ,\n",
       "       183.26367881, 133.73157034, 110.02981071, 223.64026532,\n",
       "       189.77745888, 203.8702271 , 146.71147349, 107.41767058,\n",
       "       164.0764449 ,  60.08279813, 166.82006726, 139.6315126 ,\n",
       "       107.54947006, 123.87614508,  51.13145685, 101.53917935,\n",
       "        49.66460702,  82.36521835, 177.69802516, 149.51198429,\n",
       "       164.43907384, 222.82173401, 176.82336108, 191.76995669,\n",
       "       146.75048311, 176.05467175, 168.18535525,  94.40286738,\n",
       "        91.89754046, 214.45754048, 143.9964485 , 160.23014494,\n",
       "        69.95895507, 170.27566878, 191.96451395, 168.48232259,\n",
       "        86.91761896, 252.24981244, 131.84988645, 230.88128724,\n",
       "       112.6920557 , 257.10762259, 227.05025319,  84.99496807,\n",
       "       282.99114443, 181.44282944, 142.82275737,  65.0676807 ,\n",
       "       110.66373117,  91.4882883 , 169.40150273,  59.09521656,\n",
       "       282.64609215, 157.20168176,  96.41181257,  47.46493028,\n",
       "       106.93125047, 185.21831311, 222.68431856, 149.53822348,\n",
       "       266.91029376, 199.92865473,  85.18229396, 231.05240748,\n",
       "        41.24304443,  51.41138742, 260.63780822,  64.44050649,\n",
       "       113.07826391, 104.7574629 , 170.07047901, 219.73341422,\n",
       "       142.49000194, 122.8594501 , 160.87993071, 212.45337447,\n",
       "       132.70247272, 142.711681  , 250.14729998, 243.85123459,\n",
       "       229.26764799, 220.60226869, 190.90731334, 120.15342943,\n",
       "        64.80918799, 187.31352089, 103.38808046,  80.18077777,\n",
       "       171.95963754, 115.02027918, 176.30902478, 118.67997736,\n",
       "        96.57353994, 123.13228841, 142.10659271, 105.4566518 ,\n",
       "       227.09902696, 181.42029223,  62.50961606, 178.13199431,\n",
       "       109.68705354, 160.35402405, 160.84136194, 146.67645422,\n",
       "        75.62576177,  83.35726968, 150.74027246, 121.96735293,\n",
       "       112.14132101, 102.12854233,  99.57779667, 156.97815411,\n",
       "       107.58403883, 271.25407529, 167.86028264,  77.21634598,\n",
       "       126.87206942, 201.08471266, 255.82080388, 163.47601074,\n",
       "       188.66520546, 257.06223134,  94.04272853, 138.44568449,\n",
       "       167.05302853, 212.19739737,  77.353248  , 253.54796154,\n",
       "        95.17557136, 219.26395391,  41.05784514, 119.17932857,\n",
       "       143.14820305, 182.88571576, 148.57352921, 221.23069748,\n",
       "       202.76038094, 154.8936845 , 179.24783151, 122.01198364,\n",
       "       111.66135295, 196.87838493, 113.48423252, 223.18406819,\n",
       "       234.57239929,  80.26244306,  58.13411029, 119.96732323,\n",
       "        76.66815818, 241.20605672, 197.14797921, 156.9333979 ,\n",
       "       217.97975348, 112.8499348 ,  69.72257156,  64.85407676,\n",
       "       158.23409932,  51.10826592, 183.70261854, 189.17072839,\n",
       "       165.42986226, 147.6705461 , 132.28420657, 182.74474679,\n",
       "       238.68210042,  93.75052368,  87.13353727, 210.56683729,\n",
       "       153.19330141, 170.93353977, 151.11747261, 143.49606599,\n",
       "        95.79647695, 166.49331884, 193.82979597, 109.79606946,\n",
       "        55.15700794, 121.80872114, 167.20311312, 114.17265221,\n",
       "        78.5220711 , 149.05277348, 114.50021972,  90.86705696,\n",
       "       186.23839395, 116.72048968, 191.03901829, 114.10589422,\n",
       "       140.04193012, 131.00574159, 145.48217763, 104.76832383,\n",
       "       172.61094707, 168.06123861, 136.98856326, 219.11465362,\n",
       "       136.76792259, 147.56078483, 173.90215699,  99.81704185,\n",
       "        52.88306809, 201.78392561, 109.21425278,  96.68935922,\n",
       "       153.59759514, 117.84724049, 212.11452912, 103.55815861,\n",
       "       234.5623128 , 195.09269286, 134.19937292, 126.17445441,\n",
       "        47.80651537,  90.21187318, 177.07292233,  81.07348725,\n",
       "       148.58339782, 123.83833815, 157.19934351, 111.7910349 ,\n",
       "       195.32231498, 158.65542457, 222.99665884, 148.05496605,\n",
       "        80.64409364, 175.70739033, 187.3299782 , 108.4464384 ,\n",
       "       183.77766358, 120.39651981, 223.81576996, 151.39242142,\n",
       "       193.54362416, 200.67324125, 195.27702069,  54.94220024,\n",
       "       273.83874985, 170.25039984, 165.41750594, 125.38118109,\n",
       "       141.99482895, 182.55266833, 174.28840038,  96.29827328,\n",
       "       117.5368804 , 116.86353054, 127.55869633, 178.26510075,\n",
       "        73.86398374, 101.6939622 , 136.33545531, 149.65044982,\n",
       "       127.46067448,  62.54814406, 178.48457971, 118.68563695,\n",
       "       228.29532396, 155.72282923, 140.41953455, 256.32003426,\n",
       "       286.05708463, 143.50187392, 120.43477763, 215.07073961,\n",
       "       218.4089397 , 157.83634937, 205.61043874, 221.87414002,\n",
       "       168.09719394, 223.53713802, 133.89971239,  96.14383502,\n",
       "       149.21899798, 116.67733521, 124.38429772, 197.5026465 ,\n",
       "        98.72049336, 179.52447868, 185.78140736,  96.40098975,\n",
       "       140.64356273, 153.95032942,  95.9000412 , 165.40964466,\n",
       "       255.60166974,  96.53025584,  41.23312443,  99.30359052,\n",
       "       104.71499253,  69.53912513, 144.41876184, 139.12037475,\n",
       "        59.16712241, 194.59319219,  92.81061516,  80.65527279,\n",
       "       121.08763436, 157.21873242, 219.60424237, 239.07121089,\n",
       "       141.89116162,  85.70679384,  73.28028104, 178.2146522 ,\n",
       "       208.94693797])"
      ]
     },
     "execution_count": 18,
     "metadata": {},
     "output_type": "execute_result"
    }
   ],
   "source": [
    "multi_train_pred"
   ]
  },
  {
   "cell_type": "markdown",
   "id": "74430ee9",
   "metadata": {},
   "source": [
    "#### 2.4 평가"
   ]
  },
  {
   "cell_type": "code",
   "execution_count": 19,
   "id": "aa581c80",
   "metadata": {},
   "outputs": [],
   "source": [
    "from sklearn.metrics import mean_squared_error"
   ]
  },
  {
   "cell_type": "code",
   "execution_count": 20,
   "id": "208353e4",
   "metadata": {},
   "outputs": [
    {
     "data": {
      "text/plain": [
       "3034.262263427408"
      ]
     },
     "execution_count": 20,
     "metadata": {},
     "output_type": "execute_result"
    }
   ],
   "source": [
    "multi_train_mse = mean_squared_error(multi_train_pred, train_target)\n",
    "multi_train_mse"
   ]
  },
  {
   "cell_type": "code",
   "execution_count": 21,
   "id": "dee8e7d9",
   "metadata": {},
   "outputs": [
    {
     "data": {
      "text/plain": [
       "2562.274998998297"
      ]
     },
     "execution_count": 21,
     "metadata": {},
     "output_type": "execute_result"
    }
   ],
   "source": [
    "multi_test_mse = mean_squared_error(multi_test_pred, test_target)\n",
    "multi_test_mse"
   ]
  },
  {
   "cell_type": "code",
   "execution_count": 22,
   "id": "e4fe3b8c",
   "metadata": {},
   "outputs": [
    {
     "name": "stdout",
     "output_type": "stream",
     "text": [
      "Multi Regression Train MSE is 3034.2623\n",
      "Multi Regression Test MSE is 2562.2750\n"
     ]
    }
   ],
   "source": [
    "print(f\"Multi Regression Train MSE is {multi_train_mse:.4f}\")\n",
    "print(f\"Multi Regression Test MSE is {multi_test_mse:.4f}\")"
   ]
  },
  {
   "cell_type": "markdown",
   "id": "88a3f9cd",
   "metadata": {},
   "source": [
    "### 3. Ridge Regression"
   ]
  },
  {
   "cell_type": "markdown",
   "id": "46982278",
   "metadata": {},
   "source": [
    "#### 3-1. 학습"
   ]
  },
  {
   "cell_type": "code",
   "execution_count": 23,
   "id": "61788f11",
   "metadata": {},
   "outputs": [],
   "source": [
    "from sklearn.linear_model import Ridge"
   ]
  },
  {
   "cell_type": "code",
   "execution_count": 24,
   "id": "f12af8fa",
   "metadata": {},
   "outputs": [
    {
     "data": {
      "text/plain": [
       "Ridge()"
      ]
     },
     "execution_count": 24,
     "metadata": {},
     "output_type": "execute_result"
    }
   ],
   "source": [
    "ridge_regressor = Ridge()\n",
    "ridge_regressor.fit(train_data, train_target)"
   ]
  },
  {
   "cell_type": "markdown",
   "id": "8f3ba9d7",
   "metadata": {},
   "source": [
    "#### 3-2. 회귀식 확인"
   ]
  },
  {
   "cell_type": "code",
   "execution_count": 25,
   "id": "b76fff62",
   "metadata": {},
   "outputs": [
    {
     "data": {
      "text/plain": [
       "147.74060119766182"
      ]
     },
     "execution_count": 25,
     "metadata": {},
     "output_type": "execute_result"
    }
   ],
   "source": [
    "ridge_regressor.intercept_"
   ]
  },
  {
   "cell_type": "code",
   "execution_count": 26,
   "id": "62c7bd0c",
   "metadata": {},
   "outputs": [
    {
     "data": {
      "text/plain": [
       "array([  46.89201977,  -55.64009506,  270.71747699,  158.68867814,\n",
       "         23.59440223,  -11.13019705, -130.05870493,  122.00237806,\n",
       "        225.92117758,  107.08728777])"
      ]
     },
     "execution_count": 26,
     "metadata": {},
     "output_type": "execute_result"
    }
   ],
   "source": [
    "ridge_regressor.coef_"
   ]
  },
  {
   "cell_type": "code",
   "execution_count": 27,
   "id": "cf9f9501",
   "metadata": {},
   "outputs": [
    {
     "data": {
      "text/plain": [
       "array([  15.28529701, -218.59128442,  545.19999487,  263.6592052 ,\n",
       "       -582.66349612,  317.33684049,   48.53542723,  215.51374612,\n",
       "        655.7965519 ,   64.04030953])"
      ]
     },
     "execution_count": 27,
     "metadata": {},
     "output_type": "execute_result"
    }
   ],
   "source": [
    "multi_regressor.coef_"
   ]
  },
  {
   "cell_type": "markdown",
   "id": "7621307a",
   "metadata": {},
   "source": [
    "#### 3-3. 예측"
   ]
  },
  {
   "cell_type": "code",
   "execution_count": 28,
   "id": "d8e105ca",
   "metadata": {},
   "outputs": [],
   "source": [
    "ridge_train_pred = ridge_regressor.predict(train_data)\n",
    "ridge_test_pred = ridge_regressor.predict(test_data)"
   ]
  },
  {
   "cell_type": "markdown",
   "id": "46df6b79",
   "metadata": {},
   "source": [
    "#### 3-4. 평가"
   ]
  },
  {
   "cell_type": "code",
   "execution_count": 29,
   "id": "a56a6bdb",
   "metadata": {},
   "outputs": [],
   "source": [
    "ridge_train_mse = mean_squared_error(ridge_train_pred, train_target)\n",
    "ridge_test_mse = mean_squared_error(ridge_test_pred, test_target)"
   ]
  },
  {
   "cell_type": "code",
   "execution_count": 30,
   "id": "fecbfbf8",
   "metadata": {},
   "outputs": [
    {
     "name": "stdout",
     "output_type": "stream",
     "text": [
      "Ridge Regression Train MSE is 3556.1983\n",
      "Ridge Regression Test MSE is 3200.4051\n"
     ]
    }
   ],
   "source": [
    "print(f\"Ridge Regression Train MSE is {ridge_train_mse:.4f}\")\n",
    "print(f\"Ridge Regression Test MSE is {ridge_test_mse:.4f}\")"
   ]
  },
  {
   "cell_type": "markdown",
   "id": "46413ab4",
   "metadata": {},
   "source": [
    "### 4. Lasso Regression"
   ]
  },
  {
   "cell_type": "markdown",
   "id": "7cac2545",
   "metadata": {},
   "source": [
    "#### 4-1. 학습"
   ]
  },
  {
   "cell_type": "code",
   "execution_count": 31,
   "id": "48a688e6",
   "metadata": {},
   "outputs": [],
   "source": [
    "from sklearn.linear_model import Lasso"
   ]
  },
  {
   "cell_type": "code",
   "execution_count": 32,
   "id": "ebd6f6c8",
   "metadata": {},
   "outputs": [
    {
     "data": {
      "text/plain": [
       "Lasso()"
      ]
     },
     "execution_count": 32,
     "metadata": {},
     "output_type": "execute_result"
    }
   ],
   "source": [
    "lasso_regressor = Lasso()\n",
    "lasso_regressor.fit(train_data, train_target)"
   ]
  },
  {
   "cell_type": "markdown",
   "id": "b6205e85",
   "metadata": {},
   "source": [
    "#### 4-2. 회귀식 확인"
   ]
  },
  {
   "cell_type": "code",
   "execution_count": 33,
   "id": "a6b73a76",
   "metadata": {},
   "outputs": [
    {
     "data": {
      "text/plain": [
       "148.13825690433762"
      ]
     },
     "execution_count": 33,
     "metadata": {},
     "output_type": "execute_result"
    }
   ],
   "source": [
    "lasso_regressor.intercept_"
   ]
  },
  {
   "cell_type": "code",
   "execution_count": 34,
   "id": "55291dd5",
   "metadata": {},
   "outputs": [
    {
     "data": {
      "text/plain": [
       "array([  0.        ,   0.        , 377.69541767,   0.        ,\n",
       "         0.        ,   0.        ,  -0.        ,   0.        ,\n",
       "       316.05550058,   0.        ])"
      ]
     },
     "execution_count": 34,
     "metadata": {},
     "output_type": "execute_result"
    }
   ],
   "source": [
    "lasso_regressor.coef_"
   ]
  },
  {
   "cell_type": "code",
   "execution_count": 35,
   "id": "65064d06",
   "metadata": {},
   "outputs": [
    {
     "data": {
      "text/plain": [
       "array(['bmi', 's5'], dtype='<U3')"
      ]
     },
     "execution_count": 35,
     "metadata": {},
     "output_type": "execute_result"
    }
   ],
   "source": [
    "np.array(diabetes['feature_names'])[lasso_regressor.coef_!=0]"
   ]
  },
  {
   "cell_type": "markdown",
   "id": "7a658668",
   "metadata": {},
   "source": [
    "#### 4-3. 예측"
   ]
  },
  {
   "cell_type": "code",
   "execution_count": 36,
   "id": "2fc9a79d",
   "metadata": {},
   "outputs": [],
   "source": [
    "lasso_train_pred = lasso_regressor.predict(train_data)\n",
    "lasso_test_pred = lasso_regressor.predict(test_data)"
   ]
  },
  {
   "cell_type": "markdown",
   "id": "467e2c28",
   "metadata": {},
   "source": [
    "#### 4.2 평가"
   ]
  },
  {
   "cell_type": "code",
   "execution_count": 37,
   "id": "0d411f8e",
   "metadata": {},
   "outputs": [],
   "source": [
    "lasso_train_mse = mean_squared_error(lasso_train_pred, train_target)\n",
    "lasso_test_mse = mean_squared_error(lasso_test_pred, test_target)"
   ]
  },
  {
   "cell_type": "code",
   "execution_count": 38,
   "id": "306403b7",
   "metadata": {},
   "outputs": [
    {
     "name": "stdout",
     "output_type": "stream",
     "text": [
      "Lasso Regression Train MSE is 3897.9528\n",
      "Lasso Regression Test MSE is 3581.6843\n"
     ]
    }
   ],
   "source": [
    "print(f\"Lasso Regression Train MSE is {lasso_train_mse:.4f}\")\n",
    "print(f\"Lasso Regression Test MSE is {lasso_test_mse:.4f}\")"
   ]
  },
  {
   "cell_type": "markdown",
   "id": "b080ee88",
   "metadata": {},
   "source": [
    "### 5. 평가"
   ]
  },
  {
   "cell_type": "code",
   "execution_count": 39,
   "id": "14255c6e",
   "metadata": {},
   "outputs": [
    {
     "name": "stdout",
     "output_type": "stream",
     "text": [
      "Multi Regression Test MSE is 2562.2750\n",
      "Ridge Regression Test MSE is 3200.4051\n",
      "LASSO Regression Test MSE is 3581.6843\n"
     ]
    }
   ],
   "source": [
    "print(f\"Multi Regression Test MSE is {multi_test_mse:.4f}\")\n",
    "print(f\"Ridge Regression Test MSE is {ridge_test_mse:.4f}\")\n",
    "print(f\"LASSO Regression Test MSE is {lasso_test_mse:.4f}\")"
   ]
  },
  {
   "cell_type": "markdown",
   "id": "a8e052dd",
   "metadata": {},
   "source": [
    " Multi Regression > Ridge Regression > Lasso Regression"
   ]
  },
  {
   "cell_type": "markdown",
   "id": "fa7fb9c5",
   "metadata": {},
   "source": [
    "#### 5.1 예측값과 실제값 관계 Plot"
   ]
  },
  {
   "cell_type": "code",
   "execution_count": 40,
   "id": "362a1650",
   "metadata": {},
   "outputs": [
    {
     "data": {
      "image/png": "[encoded data removed]",
      "text/plain": [
       "<Figure size 1080x360 with 3 Axes>"
      ]
     },
     "metadata": {
      "needs_background": "light"
     },
     "output_type": "display_data"
    }
   ],
   "source": [
    "fig, axes = plt.subplots(nrows=1, ncols=3, figsize=(15,5))\n",
    "pred = [('Multi Regression', multi_test_pred),\n",
    "       ('Ridge Regression', ridge_test_pred),\n",
    "       ('Lasso Regression', lasso_test_pred)]\n",
    "\n",
    "for idx, (name, test_pred) in enumerate(pred):\n",
    "    ax = axes[idx]\n",
    "    ax.scatter(test_pred, test_target)\n",
    "    ax.plot(np.linspace(0, 330, 100), np.linspace(0,330, 100), color='red')\n",
    "    ax.set_xlabel('Predict')\n",
    "    ax.set_ylabel('Real')\n",
    "    ax.set_title(name)"
   ]
  },
  {
   "cell_type": "code",
   "execution_count": null,
   "id": "918675fc",
   "metadata": {},
   "outputs": [],
   "source": []
  }
 ],
 "metadata": {
  "kernelspec": {
   "display_name": "Python 3",
   "language": "python",
   "name": "python3"
  },
  "language_info": {
   "codemirror_mode": {
    "name": "ipython",
    "version": 3
   },
   "file_extension": ".py",
   "mimetype": "text/x-python",
   "name": "python",
   "nbconvert_exporter": "python",
   "pygments_lexer": "ipython3",
   "version": "3.7.10"
  }
 },
 "nbformat": 4,
 "nbformat_minor": 5
}
