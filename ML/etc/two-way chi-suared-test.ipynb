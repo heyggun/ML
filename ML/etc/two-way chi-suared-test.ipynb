{
 "cells": [
  {
   "cell_type": "code",
   "execution_count": 1,
   "id": "03d84f22",
   "metadata": {},
   "outputs": [],
   "source": [
    "import pandas as pd\n",
    "import numpy as np\n",
    "import seaborn as sns\n",
    "import matplotlib.pyplot as plt"
   ]
  },
  {
   "cell_type": "code",
   "execution_count": 2,
   "id": "1c8fc6c9",
   "metadata": {},
   "outputs": [
    {
     "name": "stdout",
     "output_type": "stream",
     "text": [
      "1768\n",
      "1768\n",
      "1768\n"
     ]
    }
   ],
   "source": [
    "resample = pd.read_csv('reample_csv')\n",
    "print(resample.shape[0])\n",
    "\n",
    "suc_data = pd.read_csv('suc_df_1768.csv')\n",
    "print(suc_data.shape[0])\n",
    "\n",
    "force_data = pd.read_csv('force_resampling.csv')\n",
    "print(force_data.shape[0])"
   ]
  },
  {
   "cell_type": "markdown",
   "id": "275ef0d7",
   "metadata": {},
   "source": [
    "#### `카이제곱 검정 (독립성 검정)`\n",
    "- 두 변수는 서로 연관성이 있는가 없는가?\n",
    "- 사진, 자기소개글, 가족소개글 업데이트 변수는 성혼과의 관련성이 있는가 없는가?"
   ]
  },
  {
   "cell_type": "code",
   "execution_count": 3,
   "id": "9a9373fa",
   "metadata": {},
   "outputs": [
    {
     "data": {
      "text/plain": [
       "Index(['mem_no', 'mem_sex', 'mem_loc', 'mem_l_code', 'mem_birth_year',\n",
       "       'mem_birth_month', 'mem_birth_ddi', 'mate_slct', 'mem_last_name_code',\n",
       "       'rprsn_mov_yn', 'rprsn_photo_yn', 'photo_cnt', 'mate_job',\n",
       "       'mate_ann_salary', 'mate_height', 'mate_weight', 'mate_blood',\n",
       "       'mate_religion', 'mate_car', 'mate_career', 'mate_style', 'mate_charc',\n",
       "       'mate_hobby', 'mate_offspring_m', 'mate_offspring_f', 'htown_loc',\n",
       "       'htown_l_code', 'wed_plan', 'fashion_style', 'divorce_rslt',\n",
       "       'brothers_sisters', 'possess_property', 'study_abroad', 'favor_food',\n",
       "       'parents_slct', 'divorce_year', 'child_raise', 'smoke_slct',\n",
       "       'drink_slct', 'health_slct', 'childbirth_slct', 'z_wish_age',\n",
       "       'z_wish_loc', 'z_wish_religion', 'send_cnt', 'upd_cnt', 'conts_upd_cnt',\n",
       "       'secret_item_yn', 'secret_yn', 'family_conts_upd_cnt', 'my_point_cont',\n",
       "       'my_hd_item_yn', 'my_hd_yn', 'ins_date', 'upd_date', 'exit_date'],\n",
       "      dtype='object')"
      ]
     },
     "execution_count": 3,
     "metadata": {},
     "output_type": "execute_result"
    }
   ],
   "source": [
    "suc_data.columns"
   ]
  },
  {
   "cell_type": "code",
   "execution_count": 4,
   "id": "a87ca88d",
   "metadata": {},
   "outputs": [
    {
     "data": {
      "text/html": [
       "<div>\n",
       "<style scoped>\n",
       "    .dataframe tbody tr th:only-of-type {\n",
       "        vertical-align: middle;\n",
       "    }\n",
       "\n",
       "    .dataframe tbody tr th {\n",
       "        vertical-align: top;\n",
       "    }\n",
       "\n",
       "    .dataframe thead th {\n",
       "        text-align: right;\n",
       "    }\n",
       "</style>\n",
       "<table border=\"1\" class=\"dataframe\">\n",
       "  <thead>\n",
       "    <tr style=\"text-align: right;\">\n",
       "      <th></th>\n",
       "      <th>upd_cnt</th>\n",
       "      <th>conts_upd_cnt</th>\n",
       "      <th>family_conts_upd_cnt</th>\n",
       "    </tr>\n",
       "  </thead>\n",
       "  <tbody>\n",
       "    <tr>\n",
       "      <th>0</th>\n",
       "      <td>7</td>\n",
       "      <td>4</td>\n",
       "      <td>1</td>\n",
       "    </tr>\n",
       "    <tr>\n",
       "      <th>1</th>\n",
       "      <td>5</td>\n",
       "      <td>4</td>\n",
       "      <td>0</td>\n",
       "    </tr>\n",
       "    <tr>\n",
       "      <th>2</th>\n",
       "      <td>45</td>\n",
       "      <td>19</td>\n",
       "      <td>6</td>\n",
       "    </tr>\n",
       "    <tr>\n",
       "      <th>3</th>\n",
       "      <td>1</td>\n",
       "      <td>0</td>\n",
       "      <td>0</td>\n",
       "    </tr>\n",
       "    <tr>\n",
       "      <th>4</th>\n",
       "      <td>4</td>\n",
       "      <td>2</td>\n",
       "      <td>0</td>\n",
       "    </tr>\n",
       "    <tr>\n",
       "      <th>...</th>\n",
       "      <td>...</td>\n",
       "      <td>...</td>\n",
       "      <td>...</td>\n",
       "    </tr>\n",
       "    <tr>\n",
       "      <th>1763</th>\n",
       "      <td>2</td>\n",
       "      <td>0</td>\n",
       "      <td>1</td>\n",
       "    </tr>\n",
       "    <tr>\n",
       "      <th>1764</th>\n",
       "      <td>1</td>\n",
       "      <td>0</td>\n",
       "      <td>0</td>\n",
       "    </tr>\n",
       "    <tr>\n",
       "      <th>1765</th>\n",
       "      <td>6</td>\n",
       "      <td>1</td>\n",
       "      <td>1</td>\n",
       "    </tr>\n",
       "    <tr>\n",
       "      <th>1766</th>\n",
       "      <td>13</td>\n",
       "      <td>5</td>\n",
       "      <td>0</td>\n",
       "    </tr>\n",
       "    <tr>\n",
       "      <th>1767</th>\n",
       "      <td>9</td>\n",
       "      <td>2</td>\n",
       "      <td>2</td>\n",
       "    </tr>\n",
       "  </tbody>\n",
       "</table>\n",
       "<p>1768 rows × 3 columns</p>\n",
       "</div>"
      ],
      "text/plain": [
       "      upd_cnt  conts_upd_cnt  family_conts_upd_cnt\n",
       "0           7              4                     1\n",
       "1           5              4                     0\n",
       "2          45             19                     6\n",
       "3           1              0                     0\n",
       "4           4              2                     0\n",
       "...       ...            ...                   ...\n",
       "1763        2              0                     1\n",
       "1764        1              0                     0\n",
       "1765        6              1                     1\n",
       "1766       13              5                     0\n",
       "1767        9              2                     2\n",
       "\n",
       "[1768 rows x 3 columns]"
      ]
     },
     "execution_count": 4,
     "metadata": {},
     "output_type": "execute_result"
    }
   ],
   "source": [
    "upd_cnt_suc = suc_data[['upd_cnt','conts_upd_cnt','family_conts_upd_cnt']]\n",
    "upd_cnt_suc"
   ]
  },
  {
   "cell_type": "code",
   "execution_count": 5,
   "id": "bb17c4aa",
   "metadata": {},
   "outputs": [
    {
     "name": "stderr",
     "output_type": "stream",
     "text": [
      "C:\\Users\\PC\\anaconda3\\envs\\tensor\\lib\\site-packages\\ipykernel_launcher.py:1: SettingWithCopyWarning: \n",
      "A value is trying to be set on a copy of a slice from a DataFrame\n",
      "\n",
      "See the caveats in the documentation: https://pandas.pydata.org/pandas-docs/stable/user_guide/indexing.html#returning-a-view-versus-a-copy\n",
      "  \"\"\"Entry point for launching an IPython kernel.\n"
     ]
    },
    {
     "data": {
      "text/html": [
       "<div>\n",
       "<style scoped>\n",
       "    .dataframe tbody tr th:only-of-type {\n",
       "        vertical-align: middle;\n",
       "    }\n",
       "\n",
       "    .dataframe tbody tr th {\n",
       "        vertical-align: top;\n",
       "    }\n",
       "\n",
       "    .dataframe thead th {\n",
       "        text-align: right;\n",
       "    }\n",
       "</style>\n",
       "<table border=\"1\" class=\"dataframe\">\n",
       "  <thead>\n",
       "    <tr style=\"text-align: right;\">\n",
       "      <th></th>\n",
       "      <th>upd_cnt</th>\n",
       "      <th>conts_upd_cnt</th>\n",
       "      <th>family_conts_upd_cnt</th>\n",
       "    </tr>\n",
       "  </thead>\n",
       "  <tbody>\n",
       "    <tr>\n",
       "      <th>0</th>\n",
       "      <td>7.00</td>\n",
       "      <td>4.0</td>\n",
       "      <td>1.00</td>\n",
       "    </tr>\n",
       "    <tr>\n",
       "      <th>1</th>\n",
       "      <td>5.00</td>\n",
       "      <td>4.0</td>\n",
       "      <td>0.00</td>\n",
       "    </tr>\n",
       "    <tr>\n",
       "      <th>2</th>\n",
       "      <td>45.00</td>\n",
       "      <td>19.0</td>\n",
       "      <td>6.00</td>\n",
       "    </tr>\n",
       "    <tr>\n",
       "      <th>3</th>\n",
       "      <td>1.00</td>\n",
       "      <td>0.0</td>\n",
       "      <td>0.00</td>\n",
       "    </tr>\n",
       "    <tr>\n",
       "      <th>4</th>\n",
       "      <td>4.00</td>\n",
       "      <td>2.0</td>\n",
       "      <td>0.00</td>\n",
       "    </tr>\n",
       "    <tr>\n",
       "      <th>...</th>\n",
       "      <td>...</td>\n",
       "      <td>...</td>\n",
       "      <td>...</td>\n",
       "    </tr>\n",
       "    <tr>\n",
       "      <th>1765</th>\n",
       "      <td>6.00</td>\n",
       "      <td>1.0</td>\n",
       "      <td>1.00</td>\n",
       "    </tr>\n",
       "    <tr>\n",
       "      <th>1766</th>\n",
       "      <td>13.00</td>\n",
       "      <td>5.0</td>\n",
       "      <td>0.00</td>\n",
       "    </tr>\n",
       "    <tr>\n",
       "      <th>1767</th>\n",
       "      <td>9.00</td>\n",
       "      <td>2.0</td>\n",
       "      <td>2.00</td>\n",
       "    </tr>\n",
       "    <tr>\n",
       "      <th>sum</th>\n",
       "      <td>54531.00</td>\n",
       "      <td>9373.0</td>\n",
       "      <td>1925.00</td>\n",
       "    </tr>\n",
       "    <tr>\n",
       "      <th>mean</th>\n",
       "      <td>61.65</td>\n",
       "      <td>10.6</td>\n",
       "      <td>2.18</td>\n",
       "    </tr>\n",
       "  </tbody>\n",
       "</table>\n",
       "<p>1770 rows × 3 columns</p>\n",
       "</div>"
      ],
      "text/plain": [
       "       upd_cnt  conts_upd_cnt  family_conts_upd_cnt\n",
       "0         7.00            4.0                  1.00\n",
       "1         5.00            4.0                  0.00\n",
       "2        45.00           19.0                  6.00\n",
       "3         1.00            0.0                  0.00\n",
       "4         4.00            2.0                  0.00\n",
       "...        ...            ...                   ...\n",
       "1765      6.00            1.0                  1.00\n",
       "1766     13.00            5.0                  0.00\n",
       "1767      9.00            2.0                  2.00\n",
       "sum   54531.00         9373.0               1925.00\n",
       "mean     61.65           10.6                  2.18\n",
       "\n",
       "[1770 rows x 3 columns]"
      ]
     },
     "execution_count": 5,
     "metadata": {},
     "output_type": "execute_result"
    }
   ],
   "source": [
    "upd_cnt_suc.loc['sum',:] = upd_cnt_suc.sum()\n",
    "upd_cnt_suc.loc['mean',:] = round(upd_cnt_suc.mean(),2)\n",
    "upd_cnt_suc"
   ]
  },
  {
   "cell_type": "code",
   "execution_count": 6,
   "id": "9c2fa6ae",
   "metadata": {},
   "outputs": [
    {
     "data": {
      "text/html": [
       "<div>\n",
       "<style scoped>\n",
       "    .dataframe tbody tr th:only-of-type {\n",
       "        vertical-align: middle;\n",
       "    }\n",
       "\n",
       "    .dataframe tbody tr th {\n",
       "        vertical-align: top;\n",
       "    }\n",
       "\n",
       "    .dataframe thead th {\n",
       "        text-align: right;\n",
       "    }\n",
       "</style>\n",
       "<table border=\"1\" class=\"dataframe\">\n",
       "  <thead>\n",
       "    <tr style=\"text-align: right;\">\n",
       "      <th></th>\n",
       "      <th>upd_cnt</th>\n",
       "      <th>conts_upd_cnt</th>\n",
       "      <th>family_conts_upd_cnt</th>\n",
       "    </tr>\n",
       "  </thead>\n",
       "  <tbody>\n",
       "    <tr>\n",
       "      <th>0</th>\n",
       "      <td>5</td>\n",
       "      <td>1</td>\n",
       "      <td>0</td>\n",
       "    </tr>\n",
       "    <tr>\n",
       "      <th>1</th>\n",
       "      <td>1</td>\n",
       "      <td>0</td>\n",
       "      <td>0</td>\n",
       "    </tr>\n",
       "    <tr>\n",
       "      <th>2</th>\n",
       "      <td>1</td>\n",
       "      <td>0</td>\n",
       "      <td>0</td>\n",
       "    </tr>\n",
       "    <tr>\n",
       "      <th>3</th>\n",
       "      <td>1</td>\n",
       "      <td>0</td>\n",
       "      <td>0</td>\n",
       "    </tr>\n",
       "    <tr>\n",
       "      <th>4</th>\n",
       "      <td>1</td>\n",
       "      <td>0</td>\n",
       "      <td>0</td>\n",
       "    </tr>\n",
       "    <tr>\n",
       "      <th>...</th>\n",
       "      <td>...</td>\n",
       "      <td>...</td>\n",
       "      <td>...</td>\n",
       "    </tr>\n",
       "    <tr>\n",
       "      <th>1763</th>\n",
       "      <td>27</td>\n",
       "      <td>8</td>\n",
       "      <td>1</td>\n",
       "    </tr>\n",
       "    <tr>\n",
       "      <th>1764</th>\n",
       "      <td>7</td>\n",
       "      <td>3</td>\n",
       "      <td>0</td>\n",
       "    </tr>\n",
       "    <tr>\n",
       "      <th>1765</th>\n",
       "      <td>1</td>\n",
       "      <td>0</td>\n",
       "      <td>0</td>\n",
       "    </tr>\n",
       "    <tr>\n",
       "      <th>1766</th>\n",
       "      <td>1</td>\n",
       "      <td>0</td>\n",
       "      <td>0</td>\n",
       "    </tr>\n",
       "    <tr>\n",
       "      <th>1767</th>\n",
       "      <td>4</td>\n",
       "      <td>0</td>\n",
       "      <td>0</td>\n",
       "    </tr>\n",
       "  </tbody>\n",
       "</table>\n",
       "<p>1768 rows × 3 columns</p>\n",
       "</div>"
      ],
      "text/plain": [
       "      upd_cnt  conts_upd_cnt  family_conts_upd_cnt\n",
       "0           5              1                     0\n",
       "1           1              0                     0\n",
       "2           1              0                     0\n",
       "3           1              0                     0\n",
       "4           1              0                     0\n",
       "...       ...            ...                   ...\n",
       "1763       27              8                     1\n",
       "1764        7              3                     0\n",
       "1765        1              0                     0\n",
       "1766        1              0                     0\n",
       "1767        4              0                     0\n",
       "\n",
       "[1768 rows x 3 columns]"
      ]
     },
     "execution_count": 6,
     "metadata": {},
     "output_type": "execute_result"
    }
   ],
   "source": [
    "upd_cnt_force = force_data[['upd_cnt','conts_upd_cnt','family_conts_upd_cnt']]\n",
    "upd_cnt_force"
   ]
  },
  {
   "cell_type": "code",
   "execution_count": 7,
   "id": "9803ae52",
   "metadata": {},
   "outputs": [
    {
     "data": {
      "text/html": [
       "<div>\n",
       "<style scoped>\n",
       "    .dataframe tbody tr th:only-of-type {\n",
       "        vertical-align: middle;\n",
       "    }\n",
       "\n",
       "    .dataframe tbody tr th {\n",
       "        vertical-align: top;\n",
       "    }\n",
       "\n",
       "    .dataframe thead th {\n",
       "        text-align: right;\n",
       "    }\n",
       "</style>\n",
       "<table border=\"1\" class=\"dataframe\">\n",
       "  <thead>\n",
       "    <tr style=\"text-align: right;\">\n",
       "      <th></th>\n",
       "      <th>upd_cnt</th>\n",
       "      <th>conts_upd_cnt</th>\n",
       "      <th>family_conts_upd_cnt</th>\n",
       "    </tr>\n",
       "  </thead>\n",
       "  <tbody>\n",
       "    <tr>\n",
       "      <th>0</th>\n",
       "      <td>1</td>\n",
       "      <td>0</td>\n",
       "      <td>0</td>\n",
       "    </tr>\n",
       "    <tr>\n",
       "      <th>1</th>\n",
       "      <td>1</td>\n",
       "      <td>0</td>\n",
       "      <td>0</td>\n",
       "    </tr>\n",
       "    <tr>\n",
       "      <th>2</th>\n",
       "      <td>2</td>\n",
       "      <td>0</td>\n",
       "      <td>0</td>\n",
       "    </tr>\n",
       "    <tr>\n",
       "      <th>3</th>\n",
       "      <td>1</td>\n",
       "      <td>0</td>\n",
       "      <td>0</td>\n",
       "    </tr>\n",
       "    <tr>\n",
       "      <th>4</th>\n",
       "      <td>1</td>\n",
       "      <td>0</td>\n",
       "      <td>0</td>\n",
       "    </tr>\n",
       "    <tr>\n",
       "      <th>...</th>\n",
       "      <td>...</td>\n",
       "      <td>...</td>\n",
       "      <td>...</td>\n",
       "    </tr>\n",
       "    <tr>\n",
       "      <th>1763</th>\n",
       "      <td>1</td>\n",
       "      <td>0</td>\n",
       "      <td>0</td>\n",
       "    </tr>\n",
       "    <tr>\n",
       "      <th>1764</th>\n",
       "      <td>1</td>\n",
       "      <td>0</td>\n",
       "      <td>0</td>\n",
       "    </tr>\n",
       "    <tr>\n",
       "      <th>1765</th>\n",
       "      <td>3</td>\n",
       "      <td>0</td>\n",
       "      <td>0</td>\n",
       "    </tr>\n",
       "    <tr>\n",
       "      <th>1766</th>\n",
       "      <td>14</td>\n",
       "      <td>3</td>\n",
       "      <td>0</td>\n",
       "    </tr>\n",
       "    <tr>\n",
       "      <th>1767</th>\n",
       "      <td>12</td>\n",
       "      <td>3</td>\n",
       "      <td>0</td>\n",
       "    </tr>\n",
       "  </tbody>\n",
       "</table>\n",
       "<p>1768 rows × 3 columns</p>\n",
       "</div>"
      ],
      "text/plain": [
       "      upd_cnt  conts_upd_cnt  family_conts_upd_cnt\n",
       "0           1              0                     0\n",
       "1           1              0                     0\n",
       "2           2              0                     0\n",
       "3           1              0                     0\n",
       "4           1              0                     0\n",
       "...       ...            ...                   ...\n",
       "1763        1              0                     0\n",
       "1764        1              0                     0\n",
       "1765        3              0                     0\n",
       "1766       14              3                     0\n",
       "1767       12              3                     0\n",
       "\n",
       "[1768 rows x 3 columns]"
      ]
     },
     "execution_count": 7,
     "metadata": {},
     "output_type": "execute_result"
    }
   ],
   "source": [
    "upd_cnt_re = resample[['upd_cnt','conts_upd_cnt','family_conts_upd_cnt']]\n",
    "upd_cnt_re"
   ]
  },
  {
   "cell_type": "code",
   "execution_count": 8,
   "id": "6c2632d8",
   "metadata": {},
   "outputs": [
    {
     "name": "stderr",
     "output_type": "stream",
     "text": [
      "C:\\Users\\PC\\anaconda3\\envs\\tensor\\lib\\site-packages\\ipykernel_launcher.py:1: SettingWithCopyWarning: \n",
      "A value is trying to be set on a copy of a slice from a DataFrame\n",
      "\n",
      "See the caveats in the documentation: https://pandas.pydata.org/pandas-docs/stable/user_guide/indexing.html#returning-a-view-versus-a-copy\n",
      "  \"\"\"Entry point for launching an IPython kernel.\n"
     ]
    },
    {
     "data": {
      "text/html": [
       "<div>\n",
       "<style scoped>\n",
       "    .dataframe tbody tr th:only-of-type {\n",
       "        vertical-align: middle;\n",
       "    }\n",
       "\n",
       "    .dataframe tbody tr th {\n",
       "        vertical-align: top;\n",
       "    }\n",
       "\n",
       "    .dataframe thead th {\n",
       "        text-align: right;\n",
       "    }\n",
       "</style>\n",
       "<table border=\"1\" class=\"dataframe\">\n",
       "  <thead>\n",
       "    <tr style=\"text-align: right;\">\n",
       "      <th></th>\n",
       "      <th>upd_cnt</th>\n",
       "      <th>conts_upd_cnt</th>\n",
       "      <th>family_conts_upd_cnt</th>\n",
       "    </tr>\n",
       "  </thead>\n",
       "  <tbody>\n",
       "    <tr>\n",
       "      <th>0</th>\n",
       "      <td>5.00</td>\n",
       "      <td>1.00</td>\n",
       "      <td>0.00</td>\n",
       "    </tr>\n",
       "    <tr>\n",
       "      <th>1</th>\n",
       "      <td>1.00</td>\n",
       "      <td>0.00</td>\n",
       "      <td>0.00</td>\n",
       "    </tr>\n",
       "    <tr>\n",
       "      <th>2</th>\n",
       "      <td>1.00</td>\n",
       "      <td>0.00</td>\n",
       "      <td>0.00</td>\n",
       "    </tr>\n",
       "    <tr>\n",
       "      <th>3</th>\n",
       "      <td>1.00</td>\n",
       "      <td>0.00</td>\n",
       "      <td>0.00</td>\n",
       "    </tr>\n",
       "    <tr>\n",
       "      <th>4</th>\n",
       "      <td>1.00</td>\n",
       "      <td>0.00</td>\n",
       "      <td>0.00</td>\n",
       "    </tr>\n",
       "    <tr>\n",
       "      <th>...</th>\n",
       "      <td>...</td>\n",
       "      <td>...</td>\n",
       "      <td>...</td>\n",
       "    </tr>\n",
       "    <tr>\n",
       "      <th>1765</th>\n",
       "      <td>1.00</td>\n",
       "      <td>0.00</td>\n",
       "      <td>0.00</td>\n",
       "    </tr>\n",
       "    <tr>\n",
       "      <th>1766</th>\n",
       "      <td>1.00</td>\n",
       "      <td>0.00</td>\n",
       "      <td>0.00</td>\n",
       "    </tr>\n",
       "    <tr>\n",
       "      <th>1767</th>\n",
       "      <td>4.00</td>\n",
       "      <td>0.00</td>\n",
       "      <td>0.00</td>\n",
       "    </tr>\n",
       "    <tr>\n",
       "      <th>sum</th>\n",
       "      <td>142783.00</td>\n",
       "      <td>13051.00</td>\n",
       "      <td>2007.00</td>\n",
       "    </tr>\n",
       "    <tr>\n",
       "      <th>mean</th>\n",
       "      <td>161.43</td>\n",
       "      <td>14.76</td>\n",
       "      <td>2.27</td>\n",
       "    </tr>\n",
       "  </tbody>\n",
       "</table>\n",
       "<p>1770 rows × 3 columns</p>\n",
       "</div>"
      ],
      "text/plain": [
       "        upd_cnt  conts_upd_cnt  family_conts_upd_cnt\n",
       "0          5.00           1.00                  0.00\n",
       "1          1.00           0.00                  0.00\n",
       "2          1.00           0.00                  0.00\n",
       "3          1.00           0.00                  0.00\n",
       "4          1.00           0.00                  0.00\n",
       "...         ...            ...                   ...\n",
       "1765       1.00           0.00                  0.00\n",
       "1766       1.00           0.00                  0.00\n",
       "1767       4.00           0.00                  0.00\n",
       "sum   142783.00       13051.00               2007.00\n",
       "mean     161.43          14.76                  2.27\n",
       "\n",
       "[1770 rows x 3 columns]"
      ]
     },
     "execution_count": 8,
     "metadata": {},
     "output_type": "execute_result"
    }
   ],
   "source": [
    "upd_cnt_force.loc['sum',:] = upd_cnt_force.sum()\n",
    "upd_cnt_force.loc['mean',:] = round(upd_cnt_force.mean(),2)\n",
    "upd_cnt_force"
   ]
  },
  {
   "cell_type": "code",
   "execution_count": 9,
   "id": "dbcb9c73",
   "metadata": {},
   "outputs": [
    {
     "data": {
      "text/plain": [
       "upd_cnt                 285727.43\n",
       "conts_upd_cnt            26116.76\n",
       "family_conts_upd_cnt      4016.27\n",
       "dtype: float64"
      ]
     },
     "execution_count": 9,
     "metadata": {},
     "output_type": "execute_result"
    }
   ],
   "source": [
    "upd_cnt_force.sum()"
   ]
  },
  {
   "cell_type": "code",
   "execution_count": 10,
   "id": "b7cd2429",
   "metadata": {},
   "outputs": [
    {
     "name": "stderr",
     "output_type": "stream",
     "text": [
      "C:\\Users\\PC\\anaconda3\\envs\\tensor\\lib\\site-packages\\ipykernel_launcher.py:1: SettingWithCopyWarning: \n",
      "A value is trying to be set on a copy of a slice from a DataFrame\n",
      "\n",
      "See the caveats in the documentation: https://pandas.pydata.org/pandas-docs/stable/user_guide/indexing.html#returning-a-view-versus-a-copy\n",
      "  \"\"\"Entry point for launching an IPython kernel.\n"
     ]
    },
    {
     "data": {
      "text/html": [
       "<div>\n",
       "<style scoped>\n",
       "    .dataframe tbody tr th:only-of-type {\n",
       "        vertical-align: middle;\n",
       "    }\n",
       "\n",
       "    .dataframe tbody tr th {\n",
       "        vertical-align: top;\n",
       "    }\n",
       "\n",
       "    .dataframe thead th {\n",
       "        text-align: right;\n",
       "    }\n",
       "</style>\n",
       "<table border=\"1\" class=\"dataframe\">\n",
       "  <thead>\n",
       "    <tr style=\"text-align: right;\">\n",
       "      <th></th>\n",
       "      <th>upd_cnt</th>\n",
       "      <th>conts_upd_cnt</th>\n",
       "      <th>family_conts_upd_cnt</th>\n",
       "    </tr>\n",
       "  </thead>\n",
       "  <tbody>\n",
       "    <tr>\n",
       "      <th>0</th>\n",
       "      <td>1.00</td>\n",
       "      <td>0.00</td>\n",
       "      <td>0.00</td>\n",
       "    </tr>\n",
       "    <tr>\n",
       "      <th>1</th>\n",
       "      <td>1.00</td>\n",
       "      <td>0.00</td>\n",
       "      <td>0.00</td>\n",
       "    </tr>\n",
       "    <tr>\n",
       "      <th>2</th>\n",
       "      <td>2.00</td>\n",
       "      <td>0.00</td>\n",
       "      <td>0.00</td>\n",
       "    </tr>\n",
       "    <tr>\n",
       "      <th>3</th>\n",
       "      <td>1.00</td>\n",
       "      <td>0.00</td>\n",
       "      <td>0.00</td>\n",
       "    </tr>\n",
       "    <tr>\n",
       "      <th>4</th>\n",
       "      <td>1.00</td>\n",
       "      <td>0.00</td>\n",
       "      <td>0.00</td>\n",
       "    </tr>\n",
       "    <tr>\n",
       "      <th>...</th>\n",
       "      <td>...</td>\n",
       "      <td>...</td>\n",
       "      <td>...</td>\n",
       "    </tr>\n",
       "    <tr>\n",
       "      <th>1765</th>\n",
       "      <td>3.00</td>\n",
       "      <td>0.00</td>\n",
       "      <td>0.00</td>\n",
       "    </tr>\n",
       "    <tr>\n",
       "      <th>1766</th>\n",
       "      <td>14.00</td>\n",
       "      <td>3.00</td>\n",
       "      <td>0.00</td>\n",
       "    </tr>\n",
       "    <tr>\n",
       "      <th>1767</th>\n",
       "      <td>12.00</td>\n",
       "      <td>3.00</td>\n",
       "      <td>0.00</td>\n",
       "    </tr>\n",
       "    <tr>\n",
       "      <th>sum</th>\n",
       "      <td>25322.00</td>\n",
       "      <td>8434.00</td>\n",
       "      <td>1655.00</td>\n",
       "    </tr>\n",
       "    <tr>\n",
       "      <th>mean</th>\n",
       "      <td>28.63</td>\n",
       "      <td>9.54</td>\n",
       "      <td>1.87</td>\n",
       "    </tr>\n",
       "  </tbody>\n",
       "</table>\n",
       "<p>1770 rows × 3 columns</p>\n",
       "</div>"
      ],
      "text/plain": [
       "       upd_cnt  conts_upd_cnt  family_conts_upd_cnt\n",
       "0         1.00           0.00                  0.00\n",
       "1         1.00           0.00                  0.00\n",
       "2         2.00           0.00                  0.00\n",
       "3         1.00           0.00                  0.00\n",
       "4         1.00           0.00                  0.00\n",
       "...        ...            ...                   ...\n",
       "1765      3.00           0.00                  0.00\n",
       "1766     14.00           3.00                  0.00\n",
       "1767     12.00           3.00                  0.00\n",
       "sum   25322.00        8434.00               1655.00\n",
       "mean     28.63           9.54                  1.87\n",
       "\n",
       "[1770 rows x 3 columns]"
      ]
     },
     "execution_count": 10,
     "metadata": {},
     "output_type": "execute_result"
    }
   ],
   "source": [
    "upd_cnt_re.loc['sum',:] = upd_cnt_re.sum()\n",
    "upd_cnt_re.loc['mean',:] = round(upd_cnt_re.mean(),2)\n",
    "upd_cnt_re"
   ]
  },
  {
   "cell_type": "markdown",
   "id": "4b7eea87",
   "metadata": {},
   "source": [
    "`합계로 카이제곱 테스트`"
   ]
  },
  {
   "cell_type": "code",
   "execution_count": 11,
   "id": "4bc72e66",
   "metadata": {},
   "outputs": [
    {
     "data": {
      "text/html": [
       "<div>\n",
       "<style scoped>\n",
       "    .dataframe tbody tr th:only-of-type {\n",
       "        vertical-align: middle;\n",
       "    }\n",
       "\n",
       "    .dataframe tbody tr th {\n",
       "        vertical-align: top;\n",
       "    }\n",
       "\n",
       "    .dataframe thead th {\n",
       "        text-align: right;\n",
       "    }\n",
       "</style>\n",
       "<table border=\"1\" class=\"dataframe\">\n",
       "  <thead>\n",
       "    <tr style=\"text-align: right;\">\n",
       "      <th></th>\n",
       "      <th>upd_cnt</th>\n",
       "      <th>conts_upd_cnt</th>\n",
       "      <th>family_conts_upd_cnt</th>\n",
       "    </tr>\n",
       "  </thead>\n",
       "  <tbody>\n",
       "    <tr>\n",
       "      <th>suc</th>\n",
       "      <td>54531</td>\n",
       "      <td>9373</td>\n",
       "      <td>1925</td>\n",
       "    </tr>\n",
       "    <tr>\n",
       "      <th>force</th>\n",
       "      <td>142783</td>\n",
       "      <td>13051</td>\n",
       "      <td>2007</td>\n",
       "    </tr>\n",
       "  </tbody>\n",
       "</table>\n",
       "</div>"
      ],
      "text/plain": [
       "       upd_cnt  conts_upd_cnt  family_conts_upd_cnt\n",
       "suc      54531           9373                  1925\n",
       "force   142783          13051                  2007"
      ]
     },
     "execution_count": 11,
     "metadata": {},
     "output_type": "execute_result"
    }
   ],
   "source": [
    "chi_test_cnt = pd.DataFrame([upd_cnt_suc.loc['sum'].tolist(),upd_cnt_force.loc['sum'].tolist()],\n",
    "                            columns = upd_cnt_force.columns, index=['suc','force'])\n",
    "chi_test_cnt = chi_test_cnt.astype(int)\n",
    "chi_test_cnt"
   ]
  },
  {
   "cell_type": "code",
   "execution_count": 12,
   "id": "734a969e",
   "metadata": {},
   "outputs": [
    {
     "data": {
      "text/html": [
       "<div>\n",
       "<style scoped>\n",
       "    .dataframe tbody tr th:only-of-type {\n",
       "        vertical-align: middle;\n",
       "    }\n",
       "\n",
       "    .dataframe tbody tr th {\n",
       "        vertical-align: top;\n",
       "    }\n",
       "\n",
       "    .dataframe thead th {\n",
       "        text-align: right;\n",
       "    }\n",
       "</style>\n",
       "<table border=\"1\" class=\"dataframe\">\n",
       "  <thead>\n",
       "    <tr style=\"text-align: right;\">\n",
       "      <th></th>\n",
       "      <th>upd_cnt</th>\n",
       "      <th>conts_upd_cnt</th>\n",
       "      <th>family_conts_upd_cnt</th>\n",
       "    </tr>\n",
       "  </thead>\n",
       "  <tbody>\n",
       "    <tr>\n",
       "      <th>suc</th>\n",
       "      <td>54531</td>\n",
       "      <td>9373</td>\n",
       "      <td>1925</td>\n",
       "    </tr>\n",
       "    <tr>\n",
       "      <th>resample</th>\n",
       "      <td>25322</td>\n",
       "      <td>8434</td>\n",
       "      <td>1655</td>\n",
       "    </tr>\n",
       "  </tbody>\n",
       "</table>\n",
       "</div>"
      ],
      "text/plain": [
       "          upd_cnt  conts_upd_cnt  family_conts_upd_cnt\n",
       "suc         54531           9373                  1925\n",
       "resample    25322           8434                  1655"
      ]
     },
     "execution_count": 12,
     "metadata": {},
     "output_type": "execute_result"
    }
   ],
   "source": [
    "chi_test_cnt2 = pd.DataFrame([upd_cnt_suc.loc['sum'].tolist(),upd_cnt_re.loc['sum'].tolist()],\n",
    "                            columns = upd_cnt_re.columns, index=['suc','resample'])\n",
    "chi_test_cnt2 = chi_test_cnt2.astype(int)\n",
    "chi_test_cnt2"
   ]
  },
  {
   "cell_type": "markdown",
   "id": "a987b0b1",
   "metadata": {},
   "source": [
    "- 귀무가설(H0) : 자기소개글 업데이트와 성혼간에는 관계가 없다.\n",
    "- 대립가설(H1) : 자기소개글 업데이트와 성혼간에는 관계가 없다."
   ]
  },
  {
   "cell_type": "code",
   "execution_count": 13,
   "id": "b5d1a146",
   "metadata": {
    "scrolled": true
   },
   "outputs": [
    {
     "name": "stdout",
     "output_type": "stream",
     "text": [
      "Test Statistic: 2679.2348503483204\n",
      "p-value: 0.0\n",
      "Degree of Freedom: 2\n",
      "[[ 58072.08524165   6599.67584388   1157.23891447]\n",
      " [139241.91475835  15824.32415612   2774.76108553]]\n"
     ]
    }
   ],
   "source": [
    "from scipy.stats import chi2_contingency\n",
    "chi_2, p, dof, expected = chi2_contingency([chi_test_cnt.loc['suc'].values.tolist(),chi_test_cnt.loc['force'].values.tolist()])\n",
    "msg = 'Test Statistic: {}\\np-value: {}\\nDegree of Freedom: {}'\n",
    "print(msg.format(chi_2, p, dof))\n",
    "print(expected)"
   ]
  },
  {
   "cell_type": "markdown",
   "id": "674f518e",
   "metadata": {},
   "source": [
    "-> p-value 0.0으로 자기소개글 업데이트와 성혼간에는 관계가 있음?"
   ]
  },
  {
   "cell_type": "code",
   "execution_count": 14,
   "id": "2b08f271",
   "metadata": {},
   "outputs": [
    {
     "name": "stdout",
     "output_type": "stream",
     "text": [
      "Test Statistic: 1775.104586283677\n",
      "p-value: 0.0\n",
      "Degree of Freedom: 2\n",
      "[[51922.59123864 11578.59544646  2327.8133149 ]\n",
      " [27930.40876136  6228.40455354  1252.1866851 ]]\n"
     ]
    }
   ],
   "source": [
    "from scipy.stats import chi2_contingency\n",
    "chi_2, p, dof, expected = chi2_contingency([chi_test_cnt2.loc['suc'].values.tolist(),chi_test_cnt2.loc['resample'].values.tolist()])\n",
    "msg = 'Test Statistic: {}\\np-value: {}\\nDegree of Freedom: {}'\n",
    "print(msg.format(chi_2, p, dof))\n",
    "print(expected)"
   ]
  },
  {
   "cell_type": "markdown",
   "id": "b003b236",
   "metadata": {},
   "source": [
    "일반이랑 차단 확인 좀 해보자\n",
    "\n",
    "- 귀무가설 : 소개글 업데이트 수는 차단과의 관계가 없다\n",
    "- 대립가설 : 소개글 업데이트 수는 차단과 관계가 있다"
   ]
  },
  {
   "cell_type": "code",
   "execution_count": 20,
   "id": "b5578911",
   "metadata": {},
   "outputs": [
    {
     "data": {
      "text/html": [
       "<div>\n",
       "<style scoped>\n",
       "    .dataframe tbody tr th:only-of-type {\n",
       "        vertical-align: middle;\n",
       "    }\n",
       "\n",
       "    .dataframe tbody tr th {\n",
       "        vertical-align: top;\n",
       "    }\n",
       "\n",
       "    .dataframe thead th {\n",
       "        text-align: right;\n",
       "    }\n",
       "</style>\n",
       "<table border=\"1\" class=\"dataframe\">\n",
       "  <thead>\n",
       "    <tr style=\"text-align: right;\">\n",
       "      <th></th>\n",
       "      <th>upd_cnt</th>\n",
       "      <th>conts_upd_cnt</th>\n",
       "      <th>family_conts_upd_cnt</th>\n",
       "    </tr>\n",
       "  </thead>\n",
       "  <tbody>\n",
       "    <tr>\n",
       "      <th>resample</th>\n",
       "      <td>25322</td>\n",
       "      <td>8434</td>\n",
       "      <td>1655</td>\n",
       "    </tr>\n",
       "    <tr>\n",
       "      <th>force</th>\n",
       "      <td>142783</td>\n",
       "      <td>13051</td>\n",
       "      <td>2007</td>\n",
       "    </tr>\n",
       "  </tbody>\n",
       "</table>\n",
       "</div>"
      ],
      "text/plain": [
       "          upd_cnt  conts_upd_cnt  family_conts_upd_cnt\n",
       "resample    25322           8434                  1655\n",
       "force      142783          13051                  2007"
      ]
     },
     "execution_count": 20,
     "metadata": {},
     "output_type": "execute_result"
    }
   ],
   "source": [
    "chi_test_cnt5 = pd.DataFrame([upd_cnt_re.loc['sum'].tolist(),upd_cnt_force.loc['sum'].tolist()],\n",
    "                            columns = upd_cnt_force.columns, index=['resample','force'])\n",
    "chi_test_cnt5 = chi_test_cnt5.astype(int)\n",
    "chi_test_cnt5"
   ]
  },
  {
   "cell_type": "code",
   "execution_count": 22,
   "id": "c25af1be",
   "metadata": {},
   "outputs": [
    {
     "name": "stdout",
     "output_type": "stream",
     "text": [
      "Test Statistic: 9250.438596858081\n",
      "p-value: 0.0\n",
      "Degree of Freedom: 2\n",
      "[[ 30803.12832467   3936.8562033     671.01547203]\n",
      " [137301.87167533  17548.1437967    2990.98452797]]\n"
     ]
    }
   ],
   "source": [
    "from scipy.stats import chi2_contingency\n",
    "chi_2, p, dof, expected = chi2_contingency([chi_test_cnt5.loc['resample'].values.tolist(),chi_test_cnt5.loc['force'].values.tolist()])\n",
    "msg = 'Test Statistic: {}\\np-value: {}\\nDegree of Freedom: {}'\n",
    "print(msg.format(chi_2, p, dof))\n",
    "print(expected)"
   ]
  },
  {
   "cell_type": "code",
   "execution_count": null,
   "id": "8b4cade3",
   "metadata": {},
   "outputs": [],
   "source": []
  },
  {
   "cell_type": "markdown",
   "id": "61f8aca9",
   "metadata": {},
   "source": [
    "`평균으로 카이제곱 테스트`"
   ]
  },
  {
   "cell_type": "code",
   "execution_count": 15,
   "id": "b6fb5fad",
   "metadata": {},
   "outputs": [
    {
     "data": {
      "text/html": [
       "<div>\n",
       "<style scoped>\n",
       "    .dataframe tbody tr th:only-of-type {\n",
       "        vertical-align: middle;\n",
       "    }\n",
       "\n",
       "    .dataframe tbody tr th {\n",
       "        vertical-align: top;\n",
       "    }\n",
       "\n",
       "    .dataframe thead th {\n",
       "        text-align: right;\n",
       "    }\n",
       "</style>\n",
       "<table border=\"1\" class=\"dataframe\">\n",
       "  <thead>\n",
       "    <tr style=\"text-align: right;\">\n",
       "      <th></th>\n",
       "      <th>upd_cnt</th>\n",
       "      <th>conts_upd_cnt</th>\n",
       "      <th>family_conts_upd_cnt</th>\n",
       "    </tr>\n",
       "  </thead>\n",
       "  <tbody>\n",
       "    <tr>\n",
       "      <th>suc</th>\n",
       "      <td>61</td>\n",
       "      <td>10</td>\n",
       "      <td>2</td>\n",
       "    </tr>\n",
       "    <tr>\n",
       "      <th>force</th>\n",
       "      <td>161</td>\n",
       "      <td>14</td>\n",
       "      <td>2</td>\n",
       "    </tr>\n",
       "  </tbody>\n",
       "</table>\n",
       "</div>"
      ],
      "text/plain": [
       "       upd_cnt  conts_upd_cnt  family_conts_upd_cnt\n",
       "suc         61             10                     2\n",
       "force      161             14                     2"
      ]
     },
     "execution_count": 15,
     "metadata": {},
     "output_type": "execute_result"
    }
   ],
   "source": [
    "chi_test_cnt3 = pd.DataFrame([upd_cnt_suc.loc['mean'].tolist(),upd_cnt_force.loc['mean'].tolist()],\n",
    "                            columns = upd_cnt_force.columns, index=['suc','force'])\n",
    "chi_test_cnt3 = chi_test_cnt3.astype(int)\n",
    "chi_test_cnt3"
   ]
  },
  {
   "cell_type": "code",
   "execution_count": 16,
   "id": "ecfaed97",
   "metadata": {},
   "outputs": [
    {
     "name": "stdout",
     "output_type": "stream",
     "text": [
      "Test Statistic: 2.9599485717433254\n",
      "p-value: 0.2276435419638058\n",
      "Degree of Freedom: 2\n",
      "[[ 64.824   7.008   1.168]\n",
      " [157.176  16.992   2.832]]\n"
     ]
    }
   ],
   "source": [
    "chi_2, p, dof, expected = chi2_contingency([chi_test_cnt3.loc['suc'].values.tolist(),chi_test_cnt3.loc['force'].values.tolist()])\n",
    "msg = 'Test Statistic: {}\\np-value: {}\\nDegree of Freedom: {}'\n",
    "print(msg.format(chi_2, p, dof))\n",
    "print(expected)"
   ]
  },
  {
   "cell_type": "code",
   "execution_count": 17,
   "id": "47121c5e",
   "metadata": {},
   "outputs": [
    {
     "data": {
      "text/html": [
       "<div>\n",
       "<style scoped>\n",
       "    .dataframe tbody tr th:only-of-type {\n",
       "        vertical-align: middle;\n",
       "    }\n",
       "\n",
       "    .dataframe tbody tr th {\n",
       "        vertical-align: top;\n",
       "    }\n",
       "\n",
       "    .dataframe thead th {\n",
       "        text-align: right;\n",
       "    }\n",
       "</style>\n",
       "<table border=\"1\" class=\"dataframe\">\n",
       "  <thead>\n",
       "    <tr style=\"text-align: right;\">\n",
       "      <th></th>\n",
       "      <th>upd_cnt</th>\n",
       "      <th>conts_upd_cnt</th>\n",
       "      <th>family_conts_upd_cnt</th>\n",
       "    </tr>\n",
       "  </thead>\n",
       "  <tbody>\n",
       "    <tr>\n",
       "      <th>suc</th>\n",
       "      <td>61</td>\n",
       "      <td>10</td>\n",
       "      <td>2</td>\n",
       "    </tr>\n",
       "    <tr>\n",
       "      <th>resample</th>\n",
       "      <td>28</td>\n",
       "      <td>9</td>\n",
       "      <td>1</td>\n",
       "    </tr>\n",
       "  </tbody>\n",
       "</table>\n",
       "</div>"
      ],
      "text/plain": [
       "          upd_cnt  conts_upd_cnt  family_conts_upd_cnt\n",
       "suc            61             10                     2\n",
       "resample       28              9                     1"
      ]
     },
     "execution_count": 17,
     "metadata": {},
     "output_type": "execute_result"
    }
   ],
   "source": [
    "chi_test_cnt4 = pd.DataFrame([upd_cnt_suc.loc['mean'].tolist(),upd_cnt_re.loc['mean'].tolist()],\n",
    "                            columns = upd_cnt_force.columns, index=['suc','resample'])\n",
    "chi_test_cnt4 = chi_test_cnt4.astype(int)\n",
    "chi_test_cnt4"
   ]
  },
  {
   "cell_type": "code",
   "execution_count": 18,
   "id": "2dbebc8a",
   "metadata": {},
   "outputs": [
    {
     "name": "stdout",
     "output_type": "stream",
     "text": [
      "Test Statistic: 1.7609657472423879\n",
      "p-value: 0.41458267230405577\n",
      "Degree of Freedom: 2\n",
      "[[58.53153153 12.4954955   1.97297297]\n",
      " [30.46846847  6.5045045   1.02702703]]\n"
     ]
    }
   ],
   "source": [
    "chi_2, p, dof, expected = chi2_contingency([chi_test_cnt4.loc['suc'].values.tolist(),chi_test_cnt4.loc['resample'].values.tolist()])\n",
    "msg = 'Test Statistic: {}\\np-value: {}\\nDegree of Freedom: {}'\n",
    "print(msg.format(chi_2, p, dof))\n",
    "print(expected)"
   ]
  },
  {
   "cell_type": "code",
   "execution_count": 23,
   "id": "c97ee566",
   "metadata": {},
   "outputs": [
    {
     "data": {
      "text/html": [
       "<div>\n",
       "<style scoped>\n",
       "    .dataframe tbody tr th:only-of-type {\n",
       "        vertical-align: middle;\n",
       "    }\n",
       "\n",
       "    .dataframe tbody tr th {\n",
       "        vertical-align: top;\n",
       "    }\n",
       "\n",
       "    .dataframe thead th {\n",
       "        text-align: right;\n",
       "    }\n",
       "</style>\n",
       "<table border=\"1\" class=\"dataframe\">\n",
       "  <thead>\n",
       "    <tr style=\"text-align: right;\">\n",
       "      <th></th>\n",
       "      <th>upd_cnt</th>\n",
       "      <th>conts_upd_cnt</th>\n",
       "      <th>family_conts_upd_cnt</th>\n",
       "    </tr>\n",
       "  </thead>\n",
       "  <tbody>\n",
       "    <tr>\n",
       "      <th>resample</th>\n",
       "      <td>28</td>\n",
       "      <td>9</td>\n",
       "      <td>1</td>\n",
       "    </tr>\n",
       "    <tr>\n",
       "      <th>force</th>\n",
       "      <td>161</td>\n",
       "      <td>14</td>\n",
       "      <td>2</td>\n",
       "    </tr>\n",
       "  </tbody>\n",
       "</table>\n",
       "</div>"
      ],
      "text/plain": [
       "          upd_cnt  conts_upd_cnt  family_conts_upd_cnt\n",
       "resample       28              9                     1\n",
       "force         161             14                     2"
      ]
     },
     "execution_count": 23,
     "metadata": {},
     "output_type": "execute_result"
    }
   ],
   "source": [
    "chi_test_cnt6 = pd.DataFrame([upd_cnt_re.loc['mean'].tolist(),upd_cnt_force.loc['mean'].tolist()],\n",
    "                            columns = upd_cnt_force.columns, index=['resample','force'])\n",
    "chi_test_cnt6 = chi_test_cnt6.astype(int)\n",
    "chi_test_cnt6"
   ]
  },
  {
   "cell_type": "code",
   "execution_count": 24,
   "id": "c2404fc3",
   "metadata": {},
   "outputs": [
    {
     "name": "stdout",
     "output_type": "stream",
     "text": [
      "Test Statistic: 8.844613854568735\n",
      "p-value: 0.012006502183880942\n",
      "Degree of Freedom: 2\n",
      "[[ 33.40465116   4.06511628   0.53023256]\n",
      " [155.59534884  18.93488372   2.46976744]]\n"
     ]
    }
   ],
   "source": [
    "chi_2, p, dof, expected = chi2_contingency([chi_test_cnt6.loc['resample'].values.tolist(),chi_test_cnt6.loc['force'].values.tolist()])\n",
    "msg = 'Test Statistic: {}\\np-value: {}\\nDegree of Freedom: {}'\n",
    "print(msg.format(chi_2, p, dof))\n",
    "print(expected)"
   ]
  },
  {
   "cell_type": "code",
   "execution_count": null,
   "id": "f5283863",
   "metadata": {},
   "outputs": [],
   "source": []
  }
 ],
 "metadata": {
  "kernelspec": {
   "display_name": "Python 3",
   "language": "python",
   "name": "python3"
  },
  "language_info": {
   "codemirror_mode": {
    "name": "ipython",
    "version": 3
   },
   "file_extension": ".py",
   "mimetype": "text/x-python",
   "name": "python",
   "nbconvert_exporter": "python",
   "pygments_lexer": "ipython3",
   "version": "3.6.4"
  }
 },
 "nbformat": 4,
 "nbformat_minor": 5
}
